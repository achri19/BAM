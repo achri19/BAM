{
  "cells": [
    {
      "cell_type": "markdown",
      "metadata": {
        "id": "view-in-github",
        "colab_type": "text"
      },
      "source": [
        "<a href=\"https://colab.research.google.com/github/achri19/BAM/blob/main/notebooks/GoogleColab_Introduction.ipynb\" target=\"_parent\"><img src=\"https://colab.research.google.com/assets/colab-badge.svg\" alt=\"Open In Colab\"/></a>"
      ]
    },
    {
      "cell_type": "markdown",
      "id": "eaeb330a",
      "metadata": {
        "id": "eaeb330a"
      },
      "source": [
        "<font size=\"8\">Using Google Colab </font>\n",
        "\n",
        "<font size=\"3\">In this notebook, we will:\n",
        "\n",
        "- Setup Google Colab\n",
        "\n",
        "- Install packages\n",
        "\n",
        "\n",
        "- Mount Google Drive </font>\n",
        "\n",
        "\n",
        "<font size=\"3\">This will require a Google account and you will need to grant access to your Google Drive, where we will store files.</font>\n",
        "\n"
      ]
    },
    {
      "cell_type": "markdown",
      "id": "gttomKNBDghg",
      "metadata": {
        "id": "gttomKNBDghg"
      },
      "source": [
        "<font size=5> Step #1: Mount Google Drive and Grant Access <font> <br>\n",
        "\n",
        "\n"
      ]
    },
    {
      "cell_type": "markdown",
      "id": "w5wNWBmJDghi",
      "metadata": {
        "id": "w5wNWBmJDghi"
      },
      "source": [
        "<font size=3> When you run the next cell, a pop-up window will appear asking you to grant access to your Google Drive. You must approve or the notebook will not work. <font> <br>\n"
      ]
    },
    {
      "cell_type": "markdown",
      "id": "sUKWupvl2l-o",
      "metadata": {
        "id": "sUKWupvl2l-o"
      },
      "source": [
        "There is a folder of necessary ancillary files located here: \n",
        "https://drive.google.com/drive/folders/1Q0UglZJhOsK2_v7pOuX_FIN60d-gYnM7?usp=sharing\n",
        "\n",
        "These are all publicly available that you can download yourself.\n",
        "\n",
        "Click on this link and add a SHORTCUT TO DRIVE. This will link this folder to your personal Google Drive and make it accessible to this notebook.\n",
        "\n",
        "\n",
        "<img src='https://raw.githubusercontent.com/achri19/BAM/main/scripts/img/Picture3.png' width=300px>\n",
        "\n",
        "<img src='https://raw.githubusercontent.com/achri19/BAM/main/scripts/img/Picture4.png' width=300px>\n",
        "\n",
        "\n",
        "\n"
      ]
    },
    {
      "cell_type": "code",
      "execution_count": 1,
      "id": "s_IgSq3RgKtN",
      "metadata": {
        "colab": {
          "base_uri": "https://localhost:8080/"
        },
        "id": "s_IgSq3RgKtN",
        "outputId": "6053fd8a-8acc-4848-adbe-2ebdeacc5b87"
      },
      "outputs": [
        {
          "output_type": "stream",
          "name": "stdout",
          "text": [
            "Mounted at /content/drive/\n",
            "Your working directory is /content/drive/MyDrive/\n"
          ]
        }
      ],
      "source": [
        "import sys\n",
        "import os\n",
        "your_path = os.getcwd() + '/'\n",
        "\n",
        "where_to_mount = '/content/drive/'\n",
        "from google.colab import drive\n",
        "drive.mount(where_to_mount, force_remount=True)\n",
        "mounted_drive = where_to_mount + 'MyDrive/' \n",
        "sys.path.append('/content/drive/MyDrive/installations')\n",
        "\n",
        "print('Your working directory is %s' %(mounted_drive))"
      ]
    },
    {
      "cell_type": "markdown",
      "id": "cdcd9100",
      "metadata": {
        "id": "cdcd9100"
      },
      "source": [
        "<font size=5> Step #2: Install packages. <font> <br>\n",
        "<font size=3> This cell should install all Python packages you need for each tutorial.<font>"
      ]
    },
    {
      "cell_type": "code",
      "execution_count": 2,
      "id": "NH8uFmKNwPO1",
      "metadata": {
        "colab": {
          "base_uri": "https://localhost:8080/"
        },
        "id": "NH8uFmKNwPO1",
        "outputId": "0789f35a-55a4-48b4-cae8-5b12b97e356e"
      },
      "outputs": [
        {
          "output_type": "stream",
          "name": "stdout",
          "text": [
            "## Updating the local git repository \n",
            "\n",
            "## Pulling the git repository with files for the tutorial\n",
            "\n",
            "Cloning into 'BAM'...\n",
            "remote: Enumerating objects: 305, done.\u001b[K\n",
            "remote: Counting objects: 100% (305/305), done.\u001b[K\n",
            "remote: Compressing objects: 100% (229/229), done.\u001b[K\n",
            "remote: Total 305 (delta 151), reused 203 (delta 73), pack-reused 0\u001b[K\n",
            "Receiving objects: 100% (305/305), 7.62 MiB | 4.71 MiB/s, done.\n",
            "Resolving deltas: 100% (151/151), done.\n",
            "\n",
            "## Installing the Python packages needed for these tutorials\n",
            "\n",
            "(1) Install pip packages to /content/drive/MyDrive/installations\n",
            "nose mpi4py triangle dill Pmw pymetis mpi4py pyproj geemap cmocean geopandas fiona pygeos rasterio rasterstats scikit-fmm rtree pyTMD Orinoco\n",
            "(2) Install gdal\n",
            "(3) Install netcdf4\n",
            "(4) Download anuga_core github repository\n",
            "htps://github.com/GeoscienceAustralia/anuga_core\n",
            "fatal: destination path 'anuga_core' already exists and is not an empty directory.\n",
            "(4) Install OpenBlas\n",
            "(5) Install Orinoco\n",
            "(6) Install anuga\n",
            "(7) Completed\n"
          ]
        }
      ],
      "source": [
        "import os\n",
        "os.chdir(mounted_drive)\n",
        "\n",
        "\n",
        "if os.path.isdir(mounted_drive + '/BAM'):\n",
        "    print('## Updating the local git repository \\n')\n",
        "    !rm -rf {mounted_drive}/BAM/\n",
        "\n",
        "print('## Pulling the git repository with files for the tutorial\\n')\n",
        "!git clone https://github.com/achri19/BAM.git\n",
        "\n",
        "print('\\n## Installing the Python packages needed for these tutorials\\n')\n",
        "!/bin/bash $mounted_drive/BAM/notebooks/install_packages_colab_debug.sh\n"
      ]
    },
    {
      "cell_type": "markdown",
      "id": "tqD-wrOGvE2I",
      "metadata": {
        "id": "tqD-wrOGvE2I"
      },
      "source": [
        "<font size=5> Step #3: Set up working directories<font> \n"
      ]
    },
    {
      "cell_type": "markdown",
      "id": "QgL2wZHj16ze",
      "metadata": {
        "id": "QgL2wZHj16ze"
      },
      "source": [
        "<font size=3> We will access data files stored on a shared Google Drive. You will also need to save files to your own Google Drive.<font>\n",
        "\n"
      ]
    },
    {
      "cell_type": "code",
      "execution_count": 3,
      "id": "a_OcHDH0vMiM",
      "metadata": {
        "colab": {
          "base_uri": "https://localhost:8080/"
        },
        "id": "a_OcHDH0vMiM",
        "outputId": "7d72e968-cd0a-451e-a9dd-21aef5e30830"
      },
      "outputs": [
        {
          "output_type": "stream",
          "name": "stdout",
          "text": [
            "/content/drive/MyDrive/BAM/scripts/\n",
            "Looking in indexes: https://pypi.org/simple, https://us-python.pkg.dev/colab-wheels/public/simple/\n",
            "Requirement already satisfied: pyTMD in /usr/local/lib/python3.9/dist-packages (2.0.3)\n",
            "Requirement already satisfied: python-dateutil in /usr/local/lib/python3.9/dist-packages (from pyTMD) (2.8.2)\n",
            "Requirement already satisfied: pyyaml in /usr/local/lib/python3.9/dist-packages (from pyTMD) (6.0)\n",
            "Requirement already satisfied: numpy in /usr/local/lib/python3.9/dist-packages (from pyTMD) (1.22.4)\n",
            "Requirement already satisfied: setuptools-scm in /usr/local/lib/python3.9/dist-packages (from pyTMD) (7.1.0)\n",
            "Requirement already satisfied: lxml in /usr/local/lib/python3.9/dist-packages (from pyTMD) (4.9.2)\n",
            "Requirement already satisfied: scipy>=1.10.1 in /usr/local/lib/python3.9/dist-packages (from pyTMD) (1.10.1)\n",
            "Requirement already satisfied: netCDF4 in /usr/local/lib/python3.9/dist-packages (from pyTMD) (1.6.3)\n",
            "Requirement already satisfied: pyproj in /usr/local/lib/python3.9/dist-packages (from pyTMD) (3.5.0)\n",
            "Requirement already satisfied: cftime in /usr/local/lib/python3.9/dist-packages (from netCDF4->pyTMD) (1.6.2)\n",
            "Requirement already satisfied: certifi in /usr/local/lib/python3.9/dist-packages (from pyproj->pyTMD) (2022.12.7)\n",
            "Requirement already satisfied: six>=1.5 in /usr/local/lib/python3.9/dist-packages (from python-dateutil->pyTMD) (1.16.0)\n",
            "Requirement already satisfied: setuptools in /usr/local/lib/python3.9/dist-packages (from setuptools-scm->pyTMD) (67.6.1)\n",
            "Requirement already satisfied: packaging>=20.0 in /usr/local/lib/python3.9/dist-packages (from setuptools-scm->pyTMD) (23.1)\n",
            "Requirement already satisfied: typing-extensions in /usr/local/lib/python3.9/dist-packages (from setuptools-scm->pyTMD) (4.5.0)\n",
            "Requirement already satisfied: tomli>=1.0.0 in /usr/local/lib/python3.9/dist-packages (from setuptools-scm->pyTMD) (2.0.1)\n"
          ]
        }
      ],
      "source": [
        "path = mounted_drive + 'processing/'\n",
        "path_ancillary = path + 'ancillary/'\n",
        "path_code = mounted_drive + 'BAM/scripts/'\n",
        "path_templates = mounted_drive +  'BAM/templates/'\n",
        "path_configs = mounted_drive + 'BAM/configs/'\n",
        "sys.path.insert(1,path_code)\n",
        "print(path_code)\n",
        "!pip install pyTMD"
      ]
    },
    {
      "cell_type": "markdown",
      "id": "3mnrUfhr3NWW",
      "metadata": {
        "id": "3mnrUfhr3NWW"
      },
      "source": [
        "<font size=5> Step #4: Now we will import Python packages, which will be used for future tutorials. If there are any errors, try rerunning the first cell <font> \n",
        "\n",
        "\n"
      ]
    },
    {
      "cell_type": "code",
      "execution_count": 4,
      "id": "N5DjZnT_sG0g",
      "metadata": {
        "colab": {
          "base_uri": "https://localhost:8080/",
          "height": 213
        },
        "id": "N5DjZnT_sG0g",
        "outputId": "94a2d536-b7bb-4b6d-f1bb-9ac8521e7f98"
      },
      "outputs": [
        {
          "output_type": "stream",
          "name": "stderr",
          "text": [
            "/content/drive/MyDrive/installations/geopandas/_compat.py:123: UserWarning: The Shapely GEOS version (3.11.1-CAPI-1.17.1) is incompatible with the GEOS version PyGEOS was compiled with (3.10.4-CAPI-1.16.2). Conversions between both will be slow.\n",
            "  warnings.warn(\n",
            "<ipython-input-4-58c2debb8025>:10: UserWarning: Shapely 2.0 is installed, but because PyGEOS is also installed, GeoPandas will still use PyGEOS by default for now. To force to use and test Shapely 2.0, you have to set the environment variable USE_PYGEOS=0. You can do this before starting the Python process, or in your code before importing geopandas:\n",
            "\n",
            "import os\n",
            "os.environ['USE_PYGEOS'] = '0'\n",
            "import geopandas\n",
            "\n",
            "In a future release, GeoPandas will switch to using Shapely by default. If you are using PyGEOS directly (calling PyGEOS functions on geometries from GeoPandas), this will then stop working and you are encouraged to migrate from PyGEOS to Shapely 2.0 (https://shapely.readthedocs.io/en/latest/migration_pygeos.html).\n",
            "  import geopandas as gpd\n"
          ]
        }
      ],
      "source": [
        "# Standard packages\n",
        "import time\n",
        "import fnmatch\n",
        "import numpy as np\n",
        "import scipy\n",
        "import scipy.interpolate\n",
        "import pandas as pd\n",
        "from datetime import datetime\n",
        "from string import Template\n",
        "import geopandas as gpd\n",
        "from shapely.geometry import Polygon, Point\n",
        "import rasterio\n",
        "from pathlib import Path\n",
        "from shapely.geometry import LineString\n",
        "\n",
        "## ANUGA packages\n",
        "import anuga\n",
        "from anuga.utilities.plot_utils import Make_Geotif\n",
        "from anuga.coordinate_transforms.geo_reference import Geo_reference\n",
        "from anuga.utilities import animate\n",
        "from anuga import myid, numprocs, finalize, barrier\n",
        "from anuga.parallel.parallel_inlet_operator import Parallel_Inlet_operator\n",
        "\n",
        "## Plotting modules\n",
        "import matplotlib.pyplot as plt\n",
        "import matplotlib as mpl\n",
        "mpl.rcParams['agg.path.chunksize'] = 10000\n",
        "\n",
        "#mpl.rcParams['animation.ffmpeg_path'] = r'/Users/alchrist/Downloads/ffmpeg'\n",
        "## If you get an error with producing animation plots, uncomment the line above and add directory for ffmpeg (r'/PATH/TO/ffmpeg')\n",
        "import matplotlib.animation as animation\n",
        "writer = animation.FFMpegWriter(fps=60)\n",
        "\n",
        "## Google Earth Packages\n",
        "import ee\n",
        "from ee import batch\n",
        "import geemap\n"
      ]
    },
    {
      "cell_type": "code",
      "execution_count": 5,
      "id": "de1d80a4",
      "metadata": {
        "colab": {
          "base_uri": "https://localhost:8080/"
        },
        "id": "de1d80a4",
        "outputId": "7698566a-2d92-437f-f6be-50221231b52c"
      },
      "outputs": [
        {
          "output_type": "stream",
          "name": "stderr",
          "text": [
            "/content/drive/MyDrive/BAM/scripts/orinoco_tools.py:42: UserWarning: ShapelyDeprecationWarning\n",
            "  warnings.warn('ShapelyDeprecationWarning')\n",
            "/content/drive/MyDrive/BAM/scripts/orinoco_tools.py:43: UserWarning: UserWarning\n",
            "  warnings.warn('UserWarning')\n"
          ]
        }
      ],
      "source": [
        "from main_tools import (build_directory)"
      ]
    },
    {
      "cell_type": "markdown",
      "id": "EEZcV9vv377Z",
      "metadata": {
        "id": "EEZcV9vv377Z"
      },
      "source": [
        "<font size=5> Step #5: The last step is to check your Google Earth Engine account. <font> <br>\n",
        "\n",
        "\n",
        "<font size=3> You must sign up for a  Google Earth Engine account if you want to use the first notebook. We use GEE to produce water masks of the study area. However, the water masks will be provided, so the GEE notebook is optional. If you'd like to get a Google Earth Engine account (free), follow the instructions here:\n",
        "\n",
        "https://signup.earthengine.google.com/#!/ </font>\n",
        "<br>\n",
        "<font size=3> Then run the next cell and follow the instructions. You'll need to create a GEE project and allow access to Earth Engine Notebook Client. This will generate a verification code, that you need to copy and paste when askeded below. The verification code will be different each time you run this notebook </font>\n",
        "\n",
        "\n",
        "<img src='https://raw.githubusercontent.com/achri19/BAM/main/scripts/img/Picture5.png' width=500px>\n",
        "\n",
        "<img src='https://raw.githubusercontent.com/achri19/BAM/main/scripts/img/Picture6.png' width=500px>\n",
        "\n",
        "\n",
        "\n"
      ]
    },
    {
      "cell_type": "markdown",
      "id": "SGs7Ijg3tHyX",
      "metadata": {
        "id": "SGs7Ijg3tHyX"
      },
      "source": [
        "A pop-up window or new browser tab will open after you run the next cell. Make sure to allow access.\n",
        "\n",
        "![](https://raw.githubusercontent.com/achri19/komo_estuary_tutorial/main/Picture1.png)\n",
        "\n",
        "![](https://raw.githubusercontent.com/achri19/komo_estuary_tutorial/main/Picture2.png)"
      ]
    },
    {
      "cell_type": "code",
      "execution_count": null,
      "id": "sYsL6c2s5A5B",
      "metadata": {
        "colab": {
          "base_uri": "https://localhost:8080/"
        },
        "id": "sYsL6c2s5A5B",
        "outputId": "bda5ef53-d3ff-43f0-8a16-af8d0f87527f"
      },
      "outputs": [
        {
          "output_type": "stream",
          "name": "stdout",
          "text": [
            "To authorize access needed by Earth Engine, open the following URL in a web browser and follow the instructions. If the web browser does not start automatically, please manually browse the URL below.\n",
            "\n",
            "    https://code.earthengine.google.com/client-auth?scopes=https%3A//www.googleapis.com/auth/earthengine%20https%3A//www.googleapis.com/auth/devstorage.full_control&request_id=y1nwKYbvyp1NWAfc1WFz2yZbDbeyDS-bRqcy_3fDBCA&tc=CN0DC9lr5T9DgN3Mgsq32YqH687iUFUCYMQxlvjIzGo&cc=7A2xPZdWl9o8LGyN6bW9UnxB5zA-TidcKT-bwku1dV4\n",
            "\n",
            "The authorization workflow will generate a code, which you should paste in the box below.\n"
          ]
        }
      ],
      "source": [
        "# Trigger the authentication flow.\n",
        "ee.Authenticate()\n",
        "\n",
        "# Initialize the library.\n",
        "ee.Initialize()"
      ]
    },
    {
      "cell_type": "code",
      "execution_count": null,
      "id": "64756a38",
      "metadata": {
        "id": "64756a38"
      },
      "outputs": [],
      "source": [
        "# Create a map for defining area of interest\n",
        "Map = geemap.Map()\n",
        "Map"
      ]
    },
    {
      "cell_type": "markdown",
      "id": "-DPhvHSj4172",
      "metadata": {
        "id": "-DPhvHSj4172"
      },
      "source": [
        "<font size=5> The next 6 notebooks will walk you through the process of building, running, and analyzing an ANUGA model for the Komo River Estuary </font>"
      ]
    },
    {
      "cell_type": "markdown",
      "id": "_FJyp3NI4ml9",
      "metadata": {
        "id": "_FJyp3NI4ml9"
      },
      "source": [
        "<font size=5 color='red'>You must do the following step to get access to \n",
        "\n",
        "To get access to the Komo Tutorial Files, you will need to unzip the komo.zip file from the Github page."
      ]
    },
    {
      "cell_type": "code",
      "execution_count": null,
      "id": "fjuT8SP89yzX",
      "metadata": {
        "id": "fjuT8SP89yzX"
      },
      "outputs": [],
      "source": [
        "os.chdir(mounted_drive + '/komo_estuary_tutorial')\n",
        "!unzip -o komo_starter.zip -d $mounted_drive \n"
      ]
    },
    {
      "cell_type": "code",
      "execution_count": null,
      "id": "1yTmvXOAHCsi",
      "metadata": {
        "id": "1yTmvXOAHCsi"
      },
      "outputs": [],
      "source": []
    }
  ],
  "metadata": {
    "colab": {
      "provenance": [],
      "include_colab_link": true
    },
    "kernelspec": {
      "display_name": "Python 3 (ipykernel)",
      "language": "python",
      "name": "python3"
    },
    "language_info": {
      "codemirror_mode": {
        "name": "ipython",
        "version": 3
      },
      "file_extension": ".py",
      "mimetype": "text/x-python",
      "name": "python",
      "nbconvert_exporter": "python",
      "pygments_lexer": "ipython3",
      "version": "3.7.12"
    }
  },
  "nbformat": 4,
  "nbformat_minor": 5
}