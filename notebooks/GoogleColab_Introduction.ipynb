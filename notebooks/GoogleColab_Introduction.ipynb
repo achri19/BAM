{
 "cells": [
  {
   "cell_type": "markdown",
   "id": "24b35721",
   "metadata": {
    "colab_type": "text",
    "id": "view-in-github"
   },
   "source": [
    "<a href=\"https://colab.research.google.com/github/achri19/BAM/blob/notebooks/0_SetupColab.ipynb\" target=\"_parent\"><img src=\"https://colab.research.google.com/assets/colab-badge.svg\" alt=\"Open In Colab\"/></a>"
   ]
  },
  {
   "cell_type": "markdown",
   "id": "eaeb330a",
   "metadata": {
    "id": "eaeb330a"
   },
   "source": [
    "<font size=\"8\">Using Google Colab </font>\n",
    "\n",
    "<font size=\"3\">In this notebook, we will:\n",
    "\n",
    "- Setup Google Colab\n",
    "\n",
    "- Install packages\n",
    "\n",
    "- Mount Google Drive </font>\n",
    "\n",
    "\n",
    "<font size=\"3\">This will require a Google account and you will need to grant access to your Google Drive, where we will store files.</font>\n",
    "\n"
   ]
  },
  {
   "cell_type": "markdown",
   "id": "gttomKNBDghg",
   "metadata": {
    "id": "gttomKNBDghg"
   },
   "source": [
    "<font size=5> Step #1: Mount Google Drive and Grant Access <font> <br>\n",
    "\n",
    "\n"
   ]
  },
  {
   "cell_type": "markdown",
   "id": "w5wNWBmJDghi",
   "metadata": {
    "id": "w5wNWBmJDghi"
   },
   "source": [
    "<font size=3> If you are using Google Colab, when you run the next cell, a pop-up window will appear asking you to grant access to your Google Drive. You must approve or the notebook will not work. <font> <br>\n"
   ]
  },
  {
   "cell_type": "markdown",
   "id": "sUKWupvl2l-o",
   "metadata": {
    "id": "sUKWupvl2l-o"
   },
   "source": [
    "There is a folder of necessary files located here: \n",
    "https://drive.google.com/drive/folders/1Q0UglZJhOsK2_v7pOuX_FIN60d-gYnM7?usp=sharing\n",
    "\n",
    "Click on this link and add a SHORTCUT TO DRIVE. This will link this folder to your personal Google Drive and make it accessible to this notebook.\n",
    "\n",
    "\n",
    "<img src='https://raw.githubusercontent.com/achri19/komo_estuary_tutorial/main/Img/Picture3.png' width=300px>\n",
    "\n",
    "<img src='https://raw.githubusercontent.com/achri19/komo_estuary_tutorial/main/Img/Picture4.png' width=300px>\n",
    "\n",
    "\n",
    "\n"
   ]
  },
  {
   "cell_type": "markdown",
   "id": "fTAeCJD3Dz7Y",
   "metadata": {
    "id": "fTAeCJD3Dz7Y"
   },
   "source": [
    "<font size=3> If you are not using Google Colab, you need to download the files from Google Drive and save them to your working directory.<font> <br>\n"
   ]
  },
  {
   "cell_type": "code",
   "execution_count": 7,
   "id": "s_IgSq3RgKtN",
   "metadata": {
    "colab": {
     "base_uri": "https://localhost:8080/"
    },
    "id": "s_IgSq3RgKtN",
    "outputId": "9226a43a-d00f-4a53-96e2-3c3c5d2da30e"
   },
   "outputs": [
    {
     "name": "stdout",
     "output_type": "stream",
     "text": [
      "Mounted at /content/drive/\n",
      "Your working directory is /content/drive/MyDrive/\n"
     ]
    }
   ],
   "source": [
    "import sys\n",
    "import os\n",
    "your_path = os.getcwd() + '/'\n",
    "\n",
    "where_to_mount = '/content/drive/'\n",
    "from google.colab import drive\n",
    "drive.mount(where_to_mount, force_remount=True)\n",
    "mounted_drive = where_to_mount + 'MyDrive/' \n",
    "sys.path.append('/content/drive/MyDrive/installations')\n",
    "\n",
    "print('Your working directory is %s' %(mounted_drive))"
   ]
  },
  {
   "cell_type": "markdown",
   "id": "cdcd9100",
   "metadata": {
    "id": "cdcd9100"
   },
   "source": [
    "<font size=5> Step #2: Install packages. <font> <br>\n",
    "<font size=3> This cell should install all Python packages you need for each tutorial.<font>"
   ]
  },
  {
   "cell_type": "code",
   "execution_count": 8,
   "id": "NH8uFmKNwPO1",
   "metadata": {
    "colab": {
     "base_uri": "https://localhost:8080/"
    },
    "id": "NH8uFmKNwPO1",
    "outputId": "ad55264a-5942-4178-ffd2-35cf5de8d5ae"
   },
   "outputs": [
    {
     "name": "stdout",
     "output_type": "stream",
     "text": [
      "## Updating the local git repository \n",
      "\n",
      "## Pulling the git repository with files for the tutorial\n",
      "\n",
      "Cloning into 'komo_estuary_tutorial'...\n",
      "remote: Enumerating objects: 917, done.\u001b[K\n",
      "remote: Counting objects: 100% (141/141), done.\u001b[K\n",
      "remote: Compressing objects: 100% (71/71), done.\u001b[K\n",
      "remote: Total 917 (delta 83), reused 123 (delta 70), pack-reused 776\u001b[K\n",
      "Receiving objects: 100% (917/917), 248.00 MiB | 16.23 MiB/s, done.\n",
      "Resolving deltas: 100% (517/517), done.\n",
      "\n",
      "## Installing the Python packages needed for these tutorials\n",
      "\n",
      "(1) Install pip packages to /content/drive/MyDrive/installations test\n",
      "nose mpi4py triangle dill Pmw pymetis cmocean geopandas fiona pygeos rasterio rasterstats scikit-fmm rtree pyTMD Orinoco\n",
      "(2) Install gdal\n",
      "(3) Install netcdf4\n",
      "(4) Download anuga_core github repository\n",
      "https://github.com/GeoscienceAustralia/anuga_core\n",
      "(5) Install anuga\n",
      "(7) Completed\n"
     ]
    }
   ],
   "source": [
    "import os\n",
    "os.chdir(mounted_drive)\n",
    "\n",
    "if yes_colab:\n",
    "    if os.path.isdir(mounted_drive + '/komo_estuary_tutorial'):\n",
    "        print('## Updating the local git repository \\n')\n",
    "        !rm -rf {mounted_drive}/komo_estuary_tutorial/\n",
    "\n",
    "    print('## Pulling the git repository with files for the tutorial\\n')\n",
    "    !git clone https://github.com/achri19/komo_estuary_tutorial.git\n",
    "\n",
    "    print('\\n## Installing the Python packages needed for these tutorials\\n')\n",
    "    !/bin/bash $mounted_drive/komo_estuary_tutorial/install_packages_colab_debug.sh\n"
   ]
  },
  {
   "cell_type": "markdown",
   "id": "tqD-wrOGvE2I",
   "metadata": {
    "id": "tqD-wrOGvE2I"
   },
   "source": [
    "<font size=5> Step #3: Set up working directories<font> \n"
   ]
  },
  {
   "cell_type": "markdown",
   "id": "QgL2wZHj16ze",
   "metadata": {
    "id": "QgL2wZHj16ze"
   },
   "source": [
    "<font size=3> We will access data files stored on a shared Google Drive. You will also need to save files to your own Google Drive.<font>\n",
    "\n"
   ]
  },
  {
   "cell_type": "code",
   "execution_count": 9,
   "id": "a_OcHDH0vMiM",
   "metadata": {
    "colab": {
     "base_uri": "https://localhost:8080/"
    },
    "id": "a_OcHDH0vMiM",
    "outputId": "0b894a3f-8825-48f4-cfa2-e52dc69fb128"
   },
   "outputs": [
    {
     "name": "stdout",
     "output_type": "stream",
     "text": [
      "/content/drive/MyDrive/processing/code/\n"
     ]
    }
   ],
   "source": [
    "path = mounted_drive + 'processing/'\n",
    "path_code = path + 'code/'\n",
    "path_templates = path +  'templates/'\n",
    "path_configs = path + 'configs/'\n",
    "path_ancillary = path + 'ancillary/'\n",
    "sys.path.insert(1,path_code)\n",
    "print(path_code)\n"
   ]
  },
  {
   "cell_type": "markdown",
   "id": "3mnrUfhr3NWW",
   "metadata": {
    "id": "3mnrUfhr3NWW"
   },
   "source": [
    "<font size=5> Step #4: Now we will import Python packages, which will be used for future tutorials. If there are any errors, try rerunning the first cell <font> \n",
    "\n",
    "\n"
   ]
  },
  {
   "cell_type": "code",
   "execution_count": 10,
   "id": "N5DjZnT_sG0g",
   "metadata": {
    "colab": {
     "base_uri": "https://localhost:8080/",
     "height": 213
    },
    "id": "N5DjZnT_sG0g",
    "outputId": "481a2569-ffd5-4412-fadd-164a4d5e0a43"
   },
   "outputs": [
    {
     "name": "stderr",
     "output_type": "stream",
     "text": [
      "/content/drive/MyDrive/installations/geopandas/_compat.py:123: UserWarning: The Shapely GEOS version (3.11.1-CAPI-1.17.1) is incompatible with the GEOS version PyGEOS was compiled with (3.10.4-CAPI-1.16.2). Conversions between both will be slow.\n",
      "  warnings.warn(\n",
      "<ipython-input-10-58c2debb8025>:10: UserWarning: Shapely 2.0 is installed, but because PyGEOS is also installed, GeoPandas will still use PyGEOS by default for now. To force to use and test Shapely 2.0, you have to set the environment variable USE_PYGEOS=0. You can do this before starting the Python process, or in your code before importing geopandas:\n",
      "\n",
      "import os\n",
      "os.environ['USE_PYGEOS'] = '0'\n",
      "import geopandas\n",
      "\n",
      "In a future release, GeoPandas will switch to using Shapely by default. If you are using PyGEOS directly (calling PyGEOS functions on geometries from GeoPandas), this will then stop working and you are encouraged to migrate from PyGEOS to Shapely 2.0 (https://shapely.readthedocs.io/en/latest/migration_pygeos.html).\n",
      "  import geopandas as gpd\n"
     ]
    }
   ],
   "source": [
    "# Standard packages\n",
    "import time\n",
    "import fnmatch\n",
    "import numpy as np\n",
    "import scipy\n",
    "import scipy.interpolate\n",
    "import pandas as pd\n",
    "from datetime import datetime\n",
    "from string import Template\n",
    "import geopandas as gpd\n",
    "from shapely.geometry import Polygon, Point\n",
    "import rasterio\n",
    "from pathlib import Path\n",
    "from shapely.geometry import LineString\n",
    "\n",
    "## ANUGA packages\n",
    "import anuga\n",
    "from anuga.utilities.plot_utils import Make_Geotif\n",
    "from anuga.coordinate_transforms.geo_reference import Geo_reference\n",
    "from anuga.utilities import animate\n",
    "from anuga import myid, numprocs, finalize, barrier\n",
    "from anuga.parallel.parallel_inlet_operator import Parallel_Inlet_operator\n",
    "\n",
    "## Plotting modules\n",
    "import matplotlib.pyplot as plt\n",
    "import matplotlib as mpl\n",
    "mpl.rcParams['agg.path.chunksize'] = 10000\n",
    "\n",
    "#mpl.rcParams['animation.ffmpeg_path'] = r'/Users/alchrist/Downloads/ffmpeg'\n",
    "## If you get an error with producing animation plots, uncomment the line above and add directory for ffmpeg (r'/PATH/TO/ffmpeg')\n",
    "import matplotlib.animation as animation\n",
    "writer = animation.FFMpegWriter(fps=60)\n",
    "\n",
    "## Google Earth Packages\n",
    "import ee\n",
    "from ee import batch\n",
    "import geemap\n"
   ]
  },
  {
   "cell_type": "code",
   "execution_count": 11,
   "id": "de1d80a4",
   "metadata": {
    "colab": {
     "base_uri": "https://localhost:8080/"
    },
    "id": "de1d80a4",
    "outputId": "2549d136-2d38-457b-a49a-f2561a7fba89"
   },
   "outputs": [
    {
     "name": "stderr",
     "output_type": "stream",
     "text": [
      "/content/drive/MyDrive/processing/code/use_orinoco.py:39: UserWarning: ShapelyDeprecationWarning\n",
      "  warnings.warn('ShapelyDeprecationWarning')\n",
      "/content/drive/MyDrive/processing/code/use_orinoco.py:40: UserWarning: UserWarning\n",
      "  warnings.warn('UserWarning')\n"
     ]
    }
   ],
   "source": [
    "from BYOM_Utilities_V1 import (build_directory)"
   ]
  },
  {
   "cell_type": "markdown",
   "id": "EEZcV9vv377Z",
   "metadata": {
    "id": "EEZcV9vv377Z"
   },
   "source": [
    "<font size=5> Step #5: The last step is to check your Google Earth Engine account. <font> <br>\n",
    "\n",
    "\n",
    "<font size=3> You must sign up for a  Google Earth Engine account if you want to use the first notebook. We use GEE to produce water masks of the study area. However, the water masks will be provided, so the GEE notebook is optional. If you'd like to get a Google Earth Engine account (free), follow the instructions here:\n",
    "\n",
    "https://signup.earthengine.google.com/#!/ </font>\n",
    "<br>\n",
    "<font size=3> Then run the next cell and follow the instructions. You'll need to create a GEE project and allow access to Earth Engine Notebook Client. This will generate a verification code, that you need to copy and paste when askeded below. </font>\n",
    "\n",
    "\n",
    "<img src='https://raw.githubusercontent.com/achri19/komo_estuary_tutorial/main/Img/Picture1.png' width=300px>\n",
    "\n",
    "<img src='https://raw.githubusercontent.com/achri19/komo_estuary_tutorial/main/Img/Picture2.png' width=300px>\n",
    "\n",
    "\n",
    "\n"
   ]
  },
  {
   "cell_type": "markdown",
   "id": "SGs7Ijg3tHyX",
   "metadata": {
    "id": "SGs7Ijg3tHyX"
   },
   "source": [
    "A pop-up window or new browser tab will open after you run the next cell. Make sure to allow access.\n",
    "\n",
    "![](https://raw.githubusercontent.com/achri19/komo_estuary_tutorial/main/Picture1.png)\n",
    "\n",
    "![](https://raw.githubusercontent.com/achri19/komo_estuary_tutorial/main/Picture2.png)"
   ]
  },
  {
   "cell_type": "code",
   "execution_count": null,
   "id": "sYsL6c2s5A5B",
   "metadata": {
    "colab": {
     "base_uri": "https://localhost:8080/"
    },
    "id": "sYsL6c2s5A5B",
    "outputId": "840ab555-ab53-4a18-a3fa-3a6fe9ee6172"
   },
   "outputs": [
    {
     "name": "stdout",
     "output_type": "stream",
     "text": [
      "To authorize access needed by Earth Engine, open the following URL in a web browser and follow the instructions. If the web browser does not start automatically, please manually browse the URL below.\n",
      "\n",
      "    https://code.earthengine.google.com/client-auth?scopes=https%3A//www.googleapis.com/auth/earthengine%20https%3A//www.googleapis.com/auth/devstorage.full_control&request_id=O90EpkyB7vgnFCojZOa-llQXByv75Rzg9wfHo5iZBqc&tc=NkbeSxa6QE_fLxwzcY_6Mbd3YN2bZDc3JcMzv62QgUk&cc=WD2zH-HvGa_WMc5W2j686H6jCKDRPy7O5AcJF0Vxt6c\n",
      "\n",
      "The authorization workflow will generate a code, which you should paste in the box below.\n"
     ]
    }
   ],
   "source": [
    "# Trigger the authentication flow.\n",
    "ee.Authenticate()\n",
    "\n",
    "# Initialize the library.\n",
    "ee.Initialize()"
   ]
  },
  {
   "cell_type": "code",
   "execution_count": null,
   "id": "64756a38",
   "metadata": {
    "id": "64756a38"
   },
   "outputs": [],
   "source": [
    "# Create a map for defining area of interest\n",
    "Map = geemap.Map()\n",
    "Map"
   ]
  },
  {
   "cell_type": "markdown",
   "id": "-DPhvHSj4172",
   "metadata": {
    "id": "-DPhvHSj4172"
   },
   "source": [
    "<font size=5> The next 6 notebooks will walk you through the process of building, running, and analyzing an ANUGA model for the Komo River Estuary </font>"
   ]
  },
  {
   "cell_type": "markdown",
   "id": "_FJyp3NI4ml9",
   "metadata": {
    "id": "_FJyp3NI4ml9"
   },
   "source": [
    "<font size=5 color='red'>You must do the following step to get access to \n",
    "\n",
    "To get access to the Komo Tutorial Files, you will need to unzip the komo.zip file from the Github page."
   ]
  },
  {
   "cell_type": "code",
   "execution_count": null,
   "id": "fjuT8SP89yzX",
   "metadata": {
    "id": "fjuT8SP89yzX"
   },
   "outputs": [],
   "source": [
    "os.chdir(mounted_drive + '/komo_estuary_tutorial')\n",
    "!unzip -o komo_starter.zip -d $mounted_drive \n"
   ]
  },
  {
   "cell_type": "code",
   "execution_count": null,
   "id": "1yTmvXOAHCsi",
   "metadata": {
    "id": "1yTmvXOAHCsi"
   },
   "outputs": [],
   "source": []
  }
 ],
 "metadata": {
  "colab": {
   "include_colab_link": true,
   "provenance": []
  },
  "kernelspec": {
   "display_name": "Python 3 (ipykernel)",
   "language": "python",
   "name": "python3"
  },
  "language_info": {
   "codemirror_mode": {
    "name": "ipython",
    "version": 3
   },
   "file_extension": ".py",
   "mimetype": "text/x-python",
   "name": "python",
   "nbconvert_exporter": "python",
   "pygments_lexer": "ipython3",
   "version": "3.7.12"
  }
 },
 "nbformat": 4,
 "nbformat_minor": 5
}
