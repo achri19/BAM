{
  "cells": [
    {
      "cell_type": "markdown",
      "id": "466e2a39",
      "metadata": {
        "id": "466e2a39"
      },
      "source": [
        "<font size=\"8\">Build an ANUGA Model (BAM) </font>\n",
        "\n",
        "<font size=\"3\">In this notebook, we will:\n",
        "\n",
        "- set model configuration parameters\n",
        "\n",
        "- download and preprocess elevation and landcover datasets\n",
        "\n",
        "    \n",
        "- Determine water body polygons\n",
        "\n",
        "\n",
        "- Build the Digital Elevation Model\n",
        "\n",
        "\n",
        "\n",
        "</font>\n",
        "\n",
        "<font size=\"3\">This could take some time, depending on model domain size and complexity of the water mask</font>\n"
      ]
    },
    {
      "cell_type": "markdown",
      "id": "jNhRqEni40KR",
      "metadata": {
        "id": "jNhRqEni40KR"
      },
      "source": [
        "<font size=5 color='green'> If you are running in Google Colab, set the variable yes_colab = True.</font> <br>\n",
        "<font size=5 color='blue'> If you are running on your own computer, set the variable yes_colab = False </font>\n"
      ]
    },
    {
      "cell_type": "code",
      "execution_count": 1,
      "id": "gkLaKjYy4_Lv",
      "metadata": {
        "id": "gkLaKjYy4_Lv"
      },
      "outputs": [],
      "source": [
        "yes_colab = True\n"
      ]
    },
    {
      "cell_type": "markdown",
      "id": "rhp4yA4h2Njc",
      "metadata": {
        "id": "rhp4yA4h2Njc"
      },
      "source": [
        "<font size=6> Step #1a: Set working directory <br> </font>\n",
        "\n"
      ]
    },
    {
      "cell_type": "markdown",
      "id": "JkG2pXof2YoC",
      "metadata": {
        "id": "JkG2pXof2YoC"
      },
      "source": [
        "<font size=5 color='green'> If you are running in Google Colab, when you run the next cell, a pop-up window will appear asking you to grant access to your Google Drive. You must approve or the notebook will not work. <font> <br>\n",
        "\n"
      ]
    },
    {
      "cell_type": "code",
      "execution_count": 2,
      "id": "s_IgSq3RgKtN",
      "metadata": {
        "colab": {
          "base_uri": "https://localhost:8080/"
        },
        "id": "s_IgSq3RgKtN",
        "outputId": "48a5c68b-926a-4aa7-cc77-ce0f45aef656"
      },
      "outputs": [
        {
          "output_type": "stream",
          "name": "stdout",
          "text": [
            "Mounted at /content/drive/\n",
            "Your working directory is /content/drive/MyDrive\n"
          ]
        }
      ],
      "source": [
        "import os\n",
        "import sys\n",
        "from pathlib import Path\n",
        "\n",
        "your_path = Path(os.getcwd() + '/')\n",
        "if yes_colab:\n",
        "  where_to_mount = '/content/drive/'\n",
        "  from google.colab import drive\n",
        "  drive.mount(where_to_mount, force_remount=True)\n",
        "  mounted_drive = Path(where_to_mount) / 'MyDrive' \n",
        "  sys.path.append(str(mounted_drive / 'installations'))\n",
        "  path_ancillary = mounted_drive / 'ancillary'\n",
        "  Path(mounted_drive / 'installations').mkdir(parents=True, exist_ok=True)\n",
        "\n",
        "else:\n",
        "  mounted_drive = Path(os.path.abspath(os.path.join(your_path, os.pardir)))\n",
        "  path_ancillary = mounted_drive / 'BAM/ancillary'\n",
        "\n",
        "print('Your working directory is %s' %(mounted_drive))\n",
        "\n",
        "# path_code = mounted_drive / \"BAM/scripts\"\n",
        "# path_templates = mounted_drive / 'BAM/templates'\n",
        "# path_configs = mounted_drive / 'BAM/configs'\n",
        "# path_examples = mounted_drive / 'BAM/examples'\n",
        "# Path(path_examples).mkdir(parents=True, exist_ok=True)\n"
      ]
    },
    {
      "cell_type": "markdown",
      "id": "AXdcQrkUgUlM",
      "metadata": {
        "id": "AXdcQrkUgUlM"
      },
      "source": [
        "<font size=6> Step #1b: Install and import packages. <font> <br>"
      ]
    },
    {
      "cell_type": "markdown",
      "id": "eec5c036",
      "metadata": {
        "id": "eec5c036"
      },
      "source": [
        "<font size=5 color='green'> If you are running in Google Colab, this cell should install all Python packages you need for each tutorial. </font> <br>\n",
        "<font size=5 color='blue'> If you are running on your own computer, the packages were already installed when you installed the conda environment </font>\n"
      ]
    },
    {
      "cell_type": "code",
      "execution_count": 16,
      "id": "1poqNGJSgKtK",
      "metadata": {
        "id": "1poqNGJSgKtK",
        "outputId": "d66402b1-478c-4c12-90f4-fbae2e2b19f4",
        "colab": {
          "base_uri": "https://localhost:8080/"
        }
      },
      "outputs": [
        {
          "output_type": "stream",
          "name": "stdout",
          "text": [
            "## Updating the local git repository \n",
            "\n",
            "error: Your local changes to the following files would be overwritten by merge:\n",
            "\tscripts/deltas_mesh.py\n",
            "Please commit your changes or stash them before you merge.\n",
            "Aborting\n",
            "\n",
            "## Installing the Python packages needed for these tutorials\n",
            "\n",
            "shell-init: error retrieving current directory: getcwd: cannot access parent directories: No such file or directory\n",
            "shell-init: error retrieving current directory: getcwd: cannot access parent directories: No such file or directory\n",
            "/bin/bash: /content/drive/MyDrive/BAM/notebooks/install_packages_colab_debug.sh: No such file or directory\n"
          ]
        }
      ],
      "source": [
        "import os\n",
        "os.chdir(mounted_drive)\n",
        "if yes_colab:\n",
        "  if os.path.isdir(mounted_drive / 'BAM'):\n",
        "    print('## Updating the local git repository \\n')\n",
        "    os.chdir(mounted_drive / 'BAM')\n",
        "    # !git add -A \n",
        "    # !git stash\n",
        "    !git pull\n",
        "    # !rm -rf {mounted_drive/'BAM'}\n",
        "\n",
        "  else:\n",
        "    print('## Pulling the git repository with files for the tutorial\\n')\n",
        "    !git clone https://github.com/achri19/BAM.git\n",
        "\n",
        "  print('\\n## Installing the Python packages needed for these tutorials\\n')\n",
        "  !/bin/bash $mounted_drive/BAM/notebooks/install_packages_colab_debug.sh\n",
        "\n",
        "path_examples = mounted_drive / 'BAM/examples'\n",
        "Path(path_examples).mkdir(parents=True, exist_ok=True)"
      ]
    },
    {
      "cell_type": "code",
      "source": [
        "path_ancillary = mounted_drive / 'processing/ancillary'\n",
        "path_code = mounted_drive / 'BAM/scripts/'\n",
        "path_templates = mounted_drive /  'BAM/templates/'\n",
        "path_configs = mounted_drive / 'BAM/configs/'\n",
        "sys.path.insert(1,str(path_code))\n",
        "print(path_code)"
      ],
      "metadata": {
        "id": "AWTZh_b8mHoE",
        "outputId": "eff26ec0-86e6-4a95-854b-20cc7cd498eb",
        "colab": {
          "base_uri": "https://localhost:8080/"
        }
      },
      "id": "AWTZh_b8mHoE",
      "execution_count": 4,
      "outputs": [
        {
          "output_type": "stream",
          "name": "stdout",
          "text": [
            "/content/drive/MyDrive/BAM/scripts\n"
          ]
        }
      ]
    },
    {
      "cell_type": "code",
      "execution_count": 5,
      "id": "4a749118",
      "metadata": {
        "id": "4a749118",
        "outputId": "b76341b2-804c-4c10-ad09-20823259b863",
        "colab": {
          "base_uri": "https://localhost:8080/"
        }
      },
      "outputs": [
        {
          "output_type": "stream",
          "name": "stderr",
          "text": [
            "/content/drive/MyDrive/installations/geopandas/_compat.py:123: UserWarning: The Shapely GEOS version (3.11.1-CAPI-1.17.1) is incompatible with the GEOS version PyGEOS was compiled with (3.10.4-CAPI-1.16.2). Conversions between both will be slow.\n",
            "  warnings.warn(\n",
            "<ipython-input-5-cb0d4ecab280>:8: UserWarning: Shapely 2.0 is installed, but because PyGEOS is also installed, GeoPandas will still use PyGEOS by default for now. To force to use and test Shapely 2.0, you have to set the environment variable USE_PYGEOS=0. You can do this before starting the Python process, or in your code before importing geopandas:\n",
            "\n",
            "import os\n",
            "os.environ['USE_PYGEOS'] = '0'\n",
            "import geopandas\n",
            "\n",
            "In a future release, GeoPandas will switch to using Shapely by default. If you are using PyGEOS directly (calling PyGEOS functions on geometries from GeoPandas), this will then stop working and you are encouraged to migrate from PyGEOS to Shapely 2.0 (https://shapely.readthedocs.io/en/latest/migration_pygeos.html).\n",
            "  import geopandas as gpd\n"
          ]
        }
      ],
      "source": [
        "import sys\n",
        "import os\n",
        "import pandas as pd\n",
        "import shutil\n",
        "from datetime import datetime\n",
        "from string import Template\n",
        "import fnmatch\n",
        "import geopandas as gpd\n",
        "import rasterio\n",
        "from osgeo import gdal \n",
        "from pathlib import Path\n",
        "import matplotlib.pyplot as plt\n",
        "import numpy as np\n",
        "import rtree\n",
        "from scipy import *\n"
      ]
    },
    {
      "cell_type": "code",
      "source": [
        "##!pip install scipy==1.4.0\n",
        "import pyTMD"
      ],
      "metadata": {
        "id": "3qUbylPoAJEc",
        "outputId": "8b231b75-72f9-4421-8bf6-5a47087e212a",
        "colab": {
          "base_uri": "https://localhost:8080/",
          "height": 473
        }
      },
      "id": "3qUbylPoAJEc",
      "execution_count": 6,
      "outputs": [
        {
          "output_type": "error",
          "ename": "ModuleNotFoundError",
          "evalue": "ignored",
          "traceback": [
            "\u001b[0;31m---------------------------------------------------------------------------\u001b[0m",
            "\u001b[0;31mModuleNotFoundError\u001b[0m                       Traceback (most recent call last)",
            "\u001b[0;32m<ipython-input-6-fbc41702de25>\u001b[0m in \u001b[0;36m<cell line: 2>\u001b[0;34m()\u001b[0m\n\u001b[1;32m      1\u001b[0m \u001b[0;31m##!pip install scipy==1.4.0\u001b[0m\u001b[0;34m\u001b[0m\u001b[0;34m\u001b[0m\u001b[0m\n\u001b[0;32m----> 2\u001b[0;31m \u001b[0;32mimport\u001b[0m \u001b[0mpyTMD\u001b[0m\u001b[0;34m\u001b[0m\u001b[0;34m\u001b[0m\u001b[0m\n\u001b[0m",
            "\u001b[0;32m/content/drive/MyDrive/installations/pyTMD/__init__.py\u001b[0m in \u001b[0;36m<module>\u001b[0;34m\u001b[0m\n\u001b[1;32m     14\u001b[0m \u001b[0;32mimport\u001b[0m \u001b[0mpyTMD\u001b[0m\u001b[0;34m.\u001b[0m\u001b[0mastro\u001b[0m\u001b[0;34m\u001b[0m\u001b[0;34m\u001b[0m\u001b[0m\n\u001b[1;32m     15\u001b[0m \u001b[0;32mimport\u001b[0m \u001b[0mpyTMD\u001b[0m\u001b[0;34m.\u001b[0m\u001b[0meop\u001b[0m\u001b[0;34m\u001b[0m\u001b[0;34m\u001b[0m\u001b[0m\n\u001b[0;32m---> 16\u001b[0;31m \u001b[0;32mimport\u001b[0m \u001b[0mpyTMD\u001b[0m\u001b[0;34m.\u001b[0m\u001b[0minterpolate\u001b[0m\u001b[0;34m\u001b[0m\u001b[0;34m\u001b[0m\u001b[0m\n\u001b[0m\u001b[1;32m     17\u001b[0m \u001b[0;32mimport\u001b[0m \u001b[0mpyTMD\u001b[0m\u001b[0;34m.\u001b[0m\u001b[0mpredict\u001b[0m\u001b[0;34m\u001b[0m\u001b[0;34m\u001b[0m\u001b[0m\n\u001b[1;32m     18\u001b[0m \u001b[0;32mimport\u001b[0m \u001b[0mpyTMD\u001b[0m\u001b[0;34m.\u001b[0m\u001b[0mspatial\u001b[0m\u001b[0;34m\u001b[0m\u001b[0;34m\u001b[0m\u001b[0m\n",
            "\u001b[0;32m/content/drive/MyDrive/installations/pyTMD/interpolate.py\u001b[0m in \u001b[0;36m<module>\u001b[0;34m\u001b[0m\n\u001b[1;32m     20\u001b[0m \u001b[0;32mimport\u001b[0m \u001b[0mscipy\u001b[0m\u001b[0;34m.\u001b[0m\u001b[0mspatial\u001b[0m\u001b[0;34m\u001b[0m\u001b[0;34m\u001b[0m\u001b[0m\n\u001b[1;32m     21\u001b[0m \u001b[0;32mimport\u001b[0m \u001b[0mscipy\u001b[0m\u001b[0;34m.\u001b[0m\u001b[0minterpolate\u001b[0m\u001b[0;34m\u001b[0m\u001b[0;34m\u001b[0m\u001b[0m\n\u001b[0;32m---> 22\u001b[0;31m \u001b[0;32mimport\u001b[0m \u001b[0mpyTMD\u001b[0m\u001b[0;34m.\u001b[0m\u001b[0mspatial\u001b[0m\u001b[0;34m\u001b[0m\u001b[0;34m\u001b[0m\u001b[0m\n\u001b[0m\u001b[1;32m     23\u001b[0m \u001b[0;34m\u001b[0m\u001b[0m\n\u001b[1;32m     24\u001b[0m \u001b[0;31m# PURPOSE: bilinear interpolation of input data to output data\u001b[0m\u001b[0;34m\u001b[0m\u001b[0;34m\u001b[0m\u001b[0m\n",
            "\u001b[0;32m/content/drive/MyDrive/installations/pyTMD/spatial.py\u001b[0m in \u001b[0;36m<module>\u001b[0;34m\u001b[0m\n\u001b[1;32m     74\u001b[0m \u001b[0;32mimport\u001b[0m \u001b[0mdateutil\u001b[0m\u001b[0;34m.\u001b[0m\u001b[0mparser\u001b[0m\u001b[0;34m\u001b[0m\u001b[0;34m\u001b[0m\u001b[0m\n\u001b[1;32m     75\u001b[0m \u001b[0;32mfrom\u001b[0m \u001b[0mpyTMD\u001b[0m\u001b[0;34m.\u001b[0m\u001b[0mconstants\u001b[0m \u001b[0;32mimport\u001b[0m \u001b[0mconstants\u001b[0m\u001b[0;34m\u001b[0m\u001b[0;34m\u001b[0m\u001b[0m\n\u001b[0;32m---> 76\u001b[0;31m \u001b[0;32mimport\u001b[0m \u001b[0mpyTMD\u001b[0m\u001b[0;34m.\u001b[0m\u001b[0mversion\u001b[0m\u001b[0;34m\u001b[0m\u001b[0;34m\u001b[0m\u001b[0m\n\u001b[0m\u001b[1;32m     77\u001b[0m \u001b[0;31m# attempt imports\u001b[0m\u001b[0;34m\u001b[0m\u001b[0;34m\u001b[0m\u001b[0m\n\u001b[1;32m     78\u001b[0m \u001b[0;32mtry\u001b[0m\u001b[0;34m:\u001b[0m\u001b[0;34m\u001b[0m\u001b[0;34m\u001b[0m\u001b[0m\n",
            "\u001b[0;31mModuleNotFoundError\u001b[0m: No module named 'pyTMD.version'",
            "",
            "\u001b[0;31m---------------------------------------------------------------------------\u001b[0;32m\nNOTE: If your import is failing due to a missing package, you can\nmanually install dependencies using either !pip or !apt.\n\nTo view examples of installing some common dependencies, click the\n\"Open Examples\" button below.\n\u001b[0;31m---------------------------------------------------------------------------\u001b[0m\n"
          ],
          "errorDetails": {
            "actions": [
              {
                "action": "open_url",
                "actionText": "Open Examples",
                "url": "/notebooks/snippets/importing_libraries.ipynb"
              }
            ]
          }
        }
      ]
    },
    {
      "cell_type": "code",
      "execution_count": null,
      "id": "CPPe7c_zQ1aE",
      "metadata": {
        "id": "CPPe7c_zQ1aE"
      },
      "outputs": [],
      "source": [
        "from main_tools import (build_directory,\n",
        "                       get_extent_parameters,\n",
        "                       setup_AOI_files, \n",
        "                       make_polygons,\n",
        "                       make_channel_networks,\n",
        "                       make_model_foundation, \n",
        "                       set_boundary_conditions, \n",
        "                       make_watermask,\n",
        "                       more_opening)\n"
      ]
    },
    {
      "cell_type": "markdown",
      "id": "3mnrUfhr3NWW",
      "metadata": {
        "id": "3mnrUfhr3NWW"
      },
      "source": [
        "<font size=6> Step #1c: Unzip example files in Komo.zip <font> \n",
        "\n",
        "\n"
      ]
    },
    {
      "cell_type": "code",
      "execution_count": null,
      "id": "UnopBCZuT1Es",
      "metadata": {
        "id": "UnopBCZuT1Es"
      },
      "outputs": [],
      "source": [
        "import zipfile\n",
        "with zipfile.ZipFile(\"komo_starter.zip\", 'r') as zip_ref:\n",
        "    zip_ref.extractall(path_examples)\n",
        "    "
      ]
    },
    {
      "cell_type": "markdown",
      "id": "QgL2wZHj16ze",
      "metadata": {
        "id": "QgL2wZHj16ze"
      },
      "source": [
        "<font size=3> We will access data files stored on a shared Google Drive. You will also need to save files to your own Google Drive.<font>\n",
        "\n"
      ]
    },
    {
      "cell_type": "markdown",
      "id": "c6bd01ec",
      "metadata": {
        "id": "c6bd01ec"
      },
      "source": [
        "<font size=6, color ='black' > Step #2: Set the AOI and working directory  </font>\n"
      ]
    },
    {
      "cell_type": "markdown",
      "id": "7f2dda11",
      "metadata": {
        "id": "7f2dda11"
      },
      "source": [
        "AOI should match the name of the folder where files will be saved"
      ]
    },
    {
      "cell_type": "code",
      "execution_count": null,
      "id": "43f0d63c",
      "metadata": {
        "id": "43f0d63c",
        "scrolled": false
      },
      "outputs": [],
      "source": [
        "AOI = 'komo'\n",
        "\n",
        "Path((path_examples / AOI)).mkdir(parents=True, exist_ok=True)\n",
        "\n",
        "skip = False\n",
        "res = 30 #meters\n",
        "print('\\n')\n",
        "print('Study area is ' + AOI)\n",
        "print('Resolution of this setup is %sm' %(res))\n",
        "\n",
        "working_path,folders = build_directory(path_examples, AOI)\n",
        "working_path = Path(working_path)\n",
        "print(working_path)\n",
        "\n"
      ]
    },
    {
      "cell_type": "markdown",
      "id": "819f9ee3",
      "metadata": {
        "id": "819f9ee3"
      },
      "source": [
        "<font size='6' > Step #3: Configuration Parameters </font>\n"
      ]
    },
    {
      "cell_type": "code",
      "execution_count": null,
      "id": "6effe23c",
      "metadata": {
        "id": "6effe23c",
        "scrolled": true
      },
      "outputs": [],
      "source": [
        "try:\n",
        "    parameters = pd.read_csv(folders[6] / ('config_%s.csv' %(AOI)))\n",
        "except:    \n",
        "    parameters = pd.DataFrame()\n",
        "    parameters['AOI'] = [AOI]\n",
        "    parameters['RiverOceanBoundary'] = '1260'\n",
        "    parameters['Discharge'] = '426'\n",
        "\n",
        "    #Method parameters:\n",
        "    parameters['LandcoverMethod'] = 'WorldCover'\n",
        "    parameters['LandElevMethod'] = 'GLO30'\n",
        "    parameters['OceanElevMethod'] = 'GEBCO'\n",
        "    parameters['LowerRiverElevMethod'] = 'plane'\n",
        "    parameters['UpperRiverElevMethod'] = 'wdpower'\n",
        "    parameters['WetlandElevMethod'] = 'constant_0.5'\n",
        "    parameters['LakeElevMethod'] = 'constant_1'\n",
        "    parameters['ManningLUT'] = 'default'\n",
        "    parameters['WetlandClass'] = '90'\n",
        "\n",
        "    #Coefficients for determining bathymetry:\n",
        "    parameters['WD_POWERA_upper'] = '0.0606'\n",
        "    parameters['WD_POWERB_upper'] = '0.7732'\n",
        "\n",
        "    #Max thresholds:\n",
        "    parameters['MaxOceanDepth'] = '-300'\n",
        "    parameters['MaxNearshoreDepth'] = '-300'\n",
        "    parameters['MaxRiverDepth'] = '-300'\n",
        "    parameters['MaxRiverWidth'] = '756'\n",
        "\n"
      ]
    },
    {
      "cell_type": "code",
      "execution_count": null,
      "id": "77e36fda",
      "metadata": {
        "id": "77e36fda"
      },
      "outputs": [],
      "source": [
        "ref_10m,parameters = get_extent_parameters(path_ancillary,AOI,folders,res,parameters)\n"
      ]
    },
    {
      "cell_type": "code",
      "execution_count": null,
      "id": "HHy249g7MZU_",
      "metadata": {
        "id": "HHy249g7MZU_"
      },
      "outputs": [],
      "source": [
        "plt.imshow(ref_10m.read(1),vmin=-50,vmax=0)\n",
        "plt.title('GEBCO Bathymetry resampled to 10m resolution')"
      ]
    },
    {
      "cell_type": "markdown",
      "id": "16639d91",
      "metadata": {
        "id": "16639d91"
      },
      "source": [
        "<font size='5' color = 'red' > The parameters were saved to a configuration file, we open that here </font>\n"
      ]
    },
    {
      "cell_type": "code",
      "execution_count": null,
      "id": "8d26852d",
      "metadata": {
        "id": "8d26852d"
      },
      "outputs": [],
      "source": [
        "parameters = pd.read_csv(folders[2] / ('%s_Configuration.csv' %(AOI)))\n",
        "print(parameters.iloc[0] )"
      ]
    },
    {
      "cell_type": "markdown",
      "id": "ce31f780",
      "metadata": {
        "id": "ce31f780"
      },
      "source": [
        "<font size='6' > Step #4: Download datasets </font>\n",
        "<br> Download GEBCO, GLO30, World Cover, and Global Mangrove Maps for the area</font>"
      ]
    },
    {
      "cell_type": "code",
      "execution_count": null,
      "id": "154a55c7",
      "metadata": {
        "id": "154a55c7",
        "scrolled": false
      },
      "outputs": [],
      "source": [
        "ref = setup_AOI_files(your_path,\n",
        "                    AOI,\n",
        "                    folders,\n",
        "                    res,\n",
        "                    parameters)\n"
      ]
    },
    {
      "cell_type": "markdown",
      "id": "96269f27",
      "metadata": {
        "id": "96269f27"
      },
      "source": [
        "<font size='5' color = 'red' > The EPSG coordinate reference system must be is in UTM </font>\n"
      ]
    },
    {
      "cell_type": "code",
      "execution_count": null,
      "id": "a74a3cd0",
      "metadata": {
        "id": "a74a3cd0"
      },
      "outputs": [],
      "source": [
        "EPSG = parameters['EPSG'][0]\n",
        "ulx = parameters['ulx'][0]\n",
        "uly = parameters['uly'][0]\n",
        "lrx = parameters['lrx'][0]\n",
        "lry = parameters['lry'][0]\n"
      ]
    },
    {
      "cell_type": "code",
      "execution_count": null,
      "id": "771bc90b",
      "metadata": {
        "id": "771bc90b"
      },
      "outputs": [],
      "source": [
        "#ref = rasterio.open('%s/%s_GEBCO_%s.tif' %(folders[8],AOI,res))\n",
        "glo30 = rasterio.open(folders[8] / ('%s_GLO30_topo_%s.tif' %(AOI,res)))\n",
        "landcover = rasterio.open(folders[8] / ('%s_WorldCover_%s.tif' %(AOI,res)))\n",
        "\n",
        "\n",
        "fig,[ax1,ax2] = plt.subplots(nrows=2,figsize=(10,10))\n",
        "ax1.imshow(glo30.read(1),vmin=0,vmax=50,cmap = 'viridis')\n",
        "ax1.set_title('Tandem-X GLO30 Topography at 30m resolution')\n",
        "\n",
        "ax2.imshow(landcover.read(1),cmap='jet_r')\n",
        "ax2.set_title('WorldCover Landcover Map')\n"
      ]
    },
    {
      "cell_type": "code",
      "execution_count": null,
      "id": "QUGJwJOBha8X",
      "metadata": {
        "id": "QUGJwJOBha8X"
      },
      "outputs": [],
      "source": [
        "model_domain = gpd.read_file(folders[7] / ('%s_modeldomain.shp' %(AOI)))\n",
        "\n",
        "fig,ax = plt.subplots(figsize=(10,10))\n",
        "model_domain.geometry.boundary.plot(color=None,edgecolor='red',linewidth = 2,ax=ax,label = 'model domain') #Use your second dataframe\n",
        "\n",
        "plt.legend()"
      ]
    },
    {
      "cell_type": "markdown",
      "id": "88c1288f",
      "metadata": {
        "id": "88c1288f"
      },
      "source": [
        "<font size='6' > Step #4: Clean the water mask </font> <br>\n",
        "Clean, filter, smooth the water mask you made in the previous notebook </font>\n",
        "\n"
      ]
    },
    {
      "cell_type": "code",
      "execution_count": null,
      "id": "eec50ca1",
      "metadata": {
        "id": "eec50ca1",
        "scrolled": false
      },
      "outputs": [],
      "source": [
        "#ref_10m = rasterio.open('%s/%s_GEBCO_10.tif' %(folders[8],AOI))\n",
        "watermaskname = make_watermask(path_ancillary, \n",
        "                               AOI,\n",
        "                               folders,\n",
        "                               parameters,\n",
        "                               ref_10m,\n",
        "                               False, \n",
        "                               os.path.isfile('%s_watermask_%s.tif' %(folders[8]/AOI,res)))\n",
        "how_much_opening = 3\n",
        "if os.path.isfile('%s_watermask_%s.tif' %(folders[8]/AOI,30)) == False:\n",
        "    more_opening(AOI,folders,watermaskname,how_much_opening,ref_10m,parameters)\n"
      ]
    },
    {
      "cell_type": "code",
      "execution_count": null,
      "id": "ae9e534d",
      "metadata": {
        "id": "ae9e534d"
      },
      "outputs": [],
      "source": [
        "print(watermaskname)\n",
        "if res != 10:\n",
        "    os.system('gdalwarp -overwrite -tr %s %s %s %s '\\\n",
        "                      ' -te %s %s %s %s -srcnodata -9999 -dstnodata -9999 -co COMPRESS=DEFLATE -q'\n",
        "                      %(res,res,folders[8]/ (\"%s_watermask_10.tif \" %(AOI)),folders[8] / (\"%s_watermask_%s.tif\" %(AOI,res)),ulx,lry,lrx,uly))\n",
        "    os.system('gdalwarp -overwrite -tr %s %s %s %s '\\\n",
        "                      ' -te %s %s %s %s -srcnodata -9999 -dstnodata -9999 -co COMPRESS=DEFLATE -q'\n",
        "                      %(res,res,folders[8] / (\"%s_landmask_10.tif\" %(AOI)),folders[8] / (\"%s_landmask_%s.tif\" %(AOI,res)),ulx,lry,lrx,uly))\n"
      ]
    },
    {
      "cell_type": "code",
      "execution_count": null,
      "id": "ebc8cda8",
      "metadata": {
        "id": "ebc8cda8"
      },
      "outputs": [],
      "source": [
        "watermask = rasterio.open(folders[8] / ('%s_watermask_%s.tif' %(AOI,res))).read(1)\n",
        "\n",
        "fig,[ax1,ax2] = plt.subplots(nrows=2,figsize=(15,15))\n",
        "ax1.imshow(watermask,'gray')\n",
        "\n",
        "ax2.imshow(watermask,'gray')\n",
        "ax2.axis([1500,2000, 2000,1500])"
      ]
    },
    {
      "cell_type": "markdown",
      "id": "1d04ee13",
      "metadata": {
        "id": "1d04ee13"
      },
      "source": [
        "<font size='6' > Step #5: Make polygons of each land cover type <br> </font>\n",
        "Ocean, lake, river, land\n"
      ]
    },
    {
      "cell_type": "code",
      "execution_count": null,
      "id": "33c4bc5e",
      "metadata": {
        "id": "33c4bc5e"
      },
      "outputs": [],
      "source": [
        "make_polygons(AOI,\n",
        "            folders,\n",
        "            parameters,\n",
        "            ref,\n",
        "            watermaskname,\n",
        "            path_templates,\n",
        "            os.path.isfile('%s_lands_%s.tif' %(folders[8]/AOI,res)))\n"
      ]
    },
    {
      "cell_type": "code",
      "execution_count": null,
      "id": "2da0f719",
      "metadata": {
        "id": "2da0f719"
      },
      "outputs": [],
      "source": [
        "fix,ax = plt.subplots(figsize=(20,20))\n",
        "\n",
        "colors = ['red','blue','orange','cyan','green']\n",
        "polys = ['lands','fullocean','lakes','rivers']\n",
        "i=0\n",
        "for poly in polys:\n",
        "    tmp = gpd.read_file([os.path.join(dirpath,f)\n",
        "            for dirpath,dirnames, files in os.walk(folders[7])\n",
        "            for f in fnmatch.filter(files,'*%s*.shp' %(poly))][0])\n",
        "    tmp.geometry.boundary.plot(color=colors[i], edgecolor=colors[i],linewidth = 1,ax=ax,label = poly) #Use your second dataframe\n",
        "    i=i+1\n",
        "plt.legend()\n"
      ]
    },
    {
      "cell_type": "markdown",
      "id": "29bef3ca",
      "metadata": {
        "id": "29bef3ca"
      },
      "source": [
        "<font size='6' > Step #6: Using Orinoco, get distance and width of the river networks</font>\n"
      ]
    },
    {
      "cell_type": "code",
      "execution_count": null,
      "id": "73144d89",
      "metadata": {
        "id": "73144d89"
      },
      "outputs": [],
      "source": [
        "segment_width = 150\n",
        "pixel_step = int(round(segment_width/res))\n",
        "try:\n",
        "  distance = gdal.Open('%s_distance_%s.tif' %(folders[8] / AOI,res)).ReadAsArray()\n",
        "  widths = gdal.Open('%s_widths_%sx%s.tif' %(folders[8] / AOI,res,pixel_step)).ReadAsArray()\n",
        "except:\n",
        "  distance,widths = make_channel_networks(folders,\n",
        "                                      AOI,\n",
        "                                      ref,\n",
        "                                      parameters,\n",
        "                                      pixel_step,False)\n"
      ]
    },
    {
      "cell_type": "markdown",
      "id": "1c650374",
      "metadata": {
        "id": "1c650374"
      },
      "source": [
        "<font size='6' > Step #7: Make the Digital Elevation Model </font>\n"
      ]
    },
    {
      "cell_type": "code",
      "execution_count": null,
      "id": "cba2f51e",
      "metadata": {
        "id": "cba2f51e"
      },
      "outputs": [],
      "source": [
        "elevation,elev_name = make_model_foundation(mounted_drive,\n",
        "                                                parameters,\n",
        "                                                AOI,\n",
        "                                                folders,\n",
        "                                                ref,\n",
        "                                                distance,\n",
        "                                                widths,\n",
        "                                                watermask,pixel_step,mounted_drive)\n"
      ]
    },
    {
      "cell_type": "markdown",
      "id": "Qx3XgmgVSQka",
      "metadata": {
        "id": "Qx3XgmgVSQka"
      },
      "source": [
        "<font size=5 color='green'> We will use the elevation file in later notebooks. </font>"
      ]
    },
    {
      "cell_type": "code",
      "execution_count": null,
      "id": "daf09db5",
      "metadata": {
        "id": "daf09db5"
      },
      "outputs": [],
      "source": [
        "print(elev_name)\n"
      ]
    },
    {
      "cell_type": "markdown",
      "id": "2fda8ed7",
      "metadata": {
        "id": "2fda8ed7"
      },
      "source": [
        "<font size='6' > Step #6: Clean up temporary files </font> <br>\n"
      ]
    },
    {
      "cell_type": "code",
      "execution_count": null,
      "id": "641111ed",
      "metadata": {
        "id": "641111ed"
      },
      "outputs": [],
      "source": [
        "cleanup = False \n",
        "if cleanup == True:\n",
        "    print('Cleaning up temporary files')\n",
        "    try:shutil.rmtree(folders[1])\n",
        "    except:''\n"
      ]
    },
    {
      "cell_type": "markdown",
      "id": "391dc703",
      "metadata": {
        "id": "391dc703"
      },
      "source": [
        "<font size=5 color='red'> Done building DEM and other ancillary files. Move on to the next notebook 3_GetBoundaries.ipynb </font>\n"
      ]
    },
    {
      "cell_type": "code",
      "execution_count": null,
      "id": "3d42aa06",
      "metadata": {
        "id": "3d42aa06"
      },
      "outputs": [],
      "source": []
    },
    {
      "cell_type": "code",
      "execution_count": null,
      "id": "qXlrDUEBLTjL",
      "metadata": {
        "id": "qXlrDUEBLTjL"
      },
      "outputs": [],
      "source": []
    }
  ],
  "metadata": {
    "colab": {
      "provenance": []
    },
    "kernelspec": {
      "display_name": "Python 3 (ipykernel)",
      "language": "python",
      "name": "python3"
    },
    "language_info": {
      "codemirror_mode": {
        "name": "ipython",
        "version": 3
      },
      "file_extension": ".py",
      "mimetype": "text/x-python",
      "name": "python",
      "nbconvert_exporter": "python",
      "pygments_lexer": "ipython3",
      "version": "3.7.12"
    }
  },
  "nbformat": 4,
  "nbformat_minor": 5
}