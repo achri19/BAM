{
  "cells": [
    {
      "cell_type": "markdown",
      "id": "466e2a39",
      "metadata": {
        "id": "466e2a39"
      },
      "source": [
        "<font size=\"8\">Build an ANUGA Model (BAM) </font>\n",
        "\n",
        "<font size=\"3\">In this notebook, we will:\n",
        "\n",
        "- set model configuration parameters\n",
        "\n",
        "- download and preprocess elevation and landcover datasets\n",
        "\n",
        "    \n",
        "- Determine water body polygons\n",
        "\n",
        "\n",
        "- Build the Digital Elevation Model\n",
        "\n",
        "\n",
        "\n",
        "</font>\n",
        "\n",
        "<font size=\"3\">This could take some time, depending on model domain size and complexity of the water mask</font>\n"
      ]
    },
    {
      "cell_type": "markdown",
      "id": "jNhRqEni40KR",
      "metadata": {
        "id": "jNhRqEni40KR"
      },
      "source": [
        "<font size=5 color='green'> If you are running in Google Colab, set the variable yes_colab = True.</font> <br>\n",
        "<font size=5 color='blue'> If you are running on your own computer, set the variable yes_colab = False </font>\n"
      ]
    },
    {
      "cell_type": "code",
      "execution_count": 1,
      "id": "gkLaKjYy4_Lv",
      "metadata": {
        "id": "gkLaKjYy4_Lv"
      },
      "outputs": [],
      "source": [
        "yes_colab = True\n"
      ]
    },
    {
      "cell_type": "markdown",
      "id": "rhp4yA4h2Njc",
      "metadata": {
        "id": "rhp4yA4h2Njc"
      },
      "source": [
        "<font size=6> Step #1a: Set working directory <br> </font>\n",
        "\n"
      ]
    },
    {
      "cell_type": "markdown",
      "id": "JkG2pXof2YoC",
      "metadata": {
        "id": "JkG2pXof2YoC"
      },
      "source": [
        "<font size=5 color='green'> If you are running in Google Colab, when you run the next cell, a pop-up window will appear asking you to grant access to your Google Drive. You must approve or the notebook will not work. <font> <br>\n",
        "\n"
      ]
    },
    {
      "cell_type": "code",
      "execution_count": 2,
      "id": "s_IgSq3RgKtN",
      "metadata": {
        "colab": {
          "base_uri": "https://localhost:8080/"
        },
        "id": "s_IgSq3RgKtN",
        "outputId": "43acb933-5f09-405d-dff7-bed3ecc35e5e"
      },
      "outputs": [
        {
          "output_type": "stream",
          "name": "stdout",
          "text": [
            "Mounted at /content/drive/\n",
            "Your working directory is /content/drive/MyDrive\n"
          ]
        }
      ],
      "source": [
        "import os\n",
        "import sys\n",
        "from pathlib import Path\n",
        "\n",
        "your_path = Path(os.getcwd() + '/')\n",
        "if yes_colab:\n",
        "  where_to_mount = '/content/drive/'\n",
        "  from google.colab import drive\n",
        "  drive.mount(where_to_mount, force_remount=True)\n",
        "  mounted_drive = Path(where_to_mount) / 'MyDrive' \n",
        "  sys.path.append(str(mounted_drive / 'installations'))\n",
        "  path_ancillary = mounted_drive / 'ancillary'\n",
        "  Path(mounted_drive / 'installations').mkdir(parents=True, exist_ok=True)\n",
        "else:\n",
        "  mounted_drive = Path(os.path.abspath(os.path.join(your_path, os.pardir)))\n",
        "  path_ancillary = mounted_drive / 'BAM/ancillary'\n",
        "\n",
        "print('Your working directory is %s' %(mounted_drive))\n",
        "\n",
        "path_code = mounted_drive / \"BAM/scripts\"\n",
        "path_templates = mounted_drive / 'BAM/templates'\n",
        "path_configs = mounted_drive / 'BAM/configs'\n",
        "path_examples = mounted_drive / 'BAM/examples'\n",
        "sys.path.insert(1,str(path_code))\n"
      ]
    },
    {
      "cell_type": "markdown",
      "id": "AXdcQrkUgUlM",
      "metadata": {
        "id": "AXdcQrkUgUlM"
      },
      "source": [
        "<font size=6> Step #1b: Install and import packages. <font> <br>"
      ]
    },
    {
      "cell_type": "markdown",
      "id": "eec5c036",
      "metadata": {
        "id": "eec5c036"
      },
      "source": [
        "<font size=5 color='green'> If you are running in Google Colab, this cell should install all Python packages you need for each tutorial. </font> <br>\n",
        "<font size=5 color='blue'> If you are running on your own computer, the packages were already installed when you installed the conda environment </font>\n"
      ]
    },
    {
      "cell_type": "code",
      "execution_count": 12,
      "id": "1poqNGJSgKtK",
      "metadata": {
        "id": "1poqNGJSgKtK",
        "outputId": "946ae5e0-98f1-4b88-bf70-dcccbf8a8101",
        "colab": {
          "base_uri": "https://localhost:8080/"
        }
      },
      "outputs": [
        {
          "output_type": "stream",
          "name": "stdout",
          "text": [
            "## Updating the local git repository \n",
            "\n",
            "## Pulling the git repository with files for the tutorial\n",
            "\n",
            "Cloning into 'BAM'...\n",
            "remote: Enumerating objects: 226, done.\u001b[K\n",
            "remote: Counting objects: 100% (226/226), done.\u001b[K\n",
            "remote: Compressing objects: 100% (168/168), done.\u001b[K\n",
            "remote: Total 226 (delta 103), reused 162 (delta 55), pack-reused 0\u001b[K\n",
            "Receiving objects: 100% (226/226), 6.05 MiB | 15.73 MiB/s, done.\n",
            "Resolving deltas: 100% (103/103), done.\n",
            "\n",
            "## Installing the Python packages needed for these tutorials\n",
            "\n",
            "(1) Install pip packages to /content/drive/MyDrive/installations\n",
            "nose mpi4py triangle dill Pmw pymetis mpi4py pyproj geemap cmocean geopandas fiona pygeos rasterio rasterstats scikit-fmm rtree pyTMD Orinoco\n",
            "(2) Install gdal\n",
            "(3) Install netcdf4\n",
            "(3) Download anuga_core github repository\n",
            "https://github.com/GeoscienceAustralia/anuga_core\n",
            "fatal: destination path 'anuga_core' already exists and is not an empty directory.\n",
            "(4) Install OpenBlas\n",
            "(5) Install anuga\n",
            "(7) Completed\n"
          ]
        }
      ],
      "source": [
        "if yes_colab:\n",
        "    if os.path.isdir(mounted_drive / 'BAM'):\n",
        "        print('## Updating the local git repository \\n')\n",
        "        !rm -rf {mounted_drive/'BAM'}\n",
        "\n",
        "    print('## Pulling the git repository with files for the tutorial\\n')\n",
        "    os.chdir(mounted_drive)\n",
        "    !git clone https://github.com/achri19/BAM.git\n",
        "\n",
        "    print('\\n## Installing the Python packages needed for these tutorials\\n')\n",
        "    !/bin/bash $mounted_drive/BAM/notebooks/install_packages_colab_debug.sh\n"
      ]
    },
    {
      "cell_type": "code",
      "execution_count": null,
      "id": "4a749118",
      "metadata": {
        "id": "4a749118"
      },
      "outputs": [],
      "source": [
        "print(sys.path)\n",
        "import sys\n",
        "import os\n",
        "import pandas as pd\n",
        "import shutil\n",
        "from datetime import datetime\n",
        "from string import Template\n",
        "import fnmatch\n",
        "import geopandas as gpd\n",
        "import rasterio\n",
        "from osgeo import gdal \n",
        "from pathlib import Path\n",
        "import matplotlib.pyplot as plt\n",
        "import numpy as np\n",
        "import rtree\n",
        "from scipy import *\n"
      ]
    },
    {
      "cell_type": "code",
      "source": [
        "!pip install scipy==1.4.0"
      ],
      "metadata": {
        "id": "3qUbylPoAJEc",
        "outputId": "da9c1615-0ce9-40b4-ad73-08728338bf4a",
        "colab": {
          "base_uri": "https://localhost:8080/"
        }
      },
      "id": "3qUbylPoAJEc",
      "execution_count": null,
      "outputs": [
        {
          "output_type": "stream",
          "name": "stdout",
          "text": [
            "Looking in indexes: https://pypi.org/simple, https://us-python.pkg.dev/colab-wheels/public/simple/\n",
            "Collecting scipy==1.4.0\n",
            "  Downloading scipy-1.4.0.tar.gz (24.6 MB)\n",
            "\u001b[2K     \u001b[90m━━━━━━━━━━━━━━━━━━━━━━━━━━━━━━━━━━━━━━━━\u001b[0m \u001b[32m24.6/24.6 MB\u001b[0m \u001b[31m67.1 MB/s\u001b[0m eta \u001b[36m0:00:00\u001b[0m\n",
            "\u001b[?25h  Installing build dependencies ... \u001b[?25l\u001b[?25hdone\n",
            "  Getting requirements to build wheel ... \u001b[?25l\u001b[?25hdone\n",
            "  Preparing metadata (pyproject.toml) ... \u001b[?25l\u001b[?25hdone\n",
            "Building wheels for collected packages: scipy\n"
          ]
        }
      ]
    },
    {
      "cell_type": "code",
      "execution_count": 5,
      "id": "CPPe7c_zQ1aE",
      "metadata": {
        "id": "CPPe7c_zQ1aE",
        "outputId": "3bc07a80-53f3-4fc3-a54b-730bfbfeb6f6",
        "colab": {
          "base_uri": "https://localhost:8080/",
          "height": 1000
        }
      },
      "outputs": [
        {
          "output_type": "error",
          "ename": "ImportError",
          "evalue": "ignored",
          "traceback": [
            "\u001b[0;31m---------------------------------------------------------------------------\u001b[0m",
            "\u001b[0;31mImportError\u001b[0m                               Traceback (most recent call last)",
            "\u001b[0;32m<ipython-input-5-d7a5f30bdd73>\u001b[0m in \u001b[0;36m<cell line: 1>\u001b[0;34m()\u001b[0m\n\u001b[0;32m----> 1\u001b[0;31m from main_tools import (build_directory,\n\u001b[0m\u001b[1;32m      2\u001b[0m                        \u001b[0mget_extent_parameters\u001b[0m\u001b[0;34m,\u001b[0m\u001b[0;34m\u001b[0m\u001b[0;34m\u001b[0m\u001b[0m\n\u001b[1;32m      3\u001b[0m                        \u001b[0msetup_AOI_files\u001b[0m\u001b[0;34m,\u001b[0m\u001b[0;34m\u001b[0m\u001b[0;34m\u001b[0m\u001b[0m\n\u001b[1;32m      4\u001b[0m                        \u001b[0mmake_polygons\u001b[0m\u001b[0;34m,\u001b[0m\u001b[0;34m\u001b[0m\u001b[0;34m\u001b[0m\u001b[0m\n\u001b[1;32m      5\u001b[0m                        \u001b[0mmake_channel_networks\u001b[0m\u001b[0;34m,\u001b[0m\u001b[0;34m\u001b[0m\u001b[0;34m\u001b[0m\u001b[0m\n",
            "\u001b[0;32m/content/drive/MyDrive/BAM/scripts/main_tools.py\u001b[0m in \u001b[0;36m<module>\u001b[0;34m\u001b[0m\n\u001b[1;32m     26\u001b[0m \u001b[0;32mfrom\u001b[0m \u001b[0mrasterstats\u001b[0m \u001b[0;32mimport\u001b[0m \u001b[0mzonal_stats\u001b[0m\u001b[0;34m\u001b[0m\u001b[0;34m\u001b[0m\u001b[0m\n\u001b[1;32m     27\u001b[0m \u001b[0;32mimport\u001b[0m \u001b[0mscipy\u001b[0m\u001b[0;34m\u001b[0m\u001b[0;34m\u001b[0m\u001b[0m\n\u001b[0;32m---> 28\u001b[0;31m \u001b[0;32mfrom\u001b[0m \u001b[0mscipy\u001b[0m \u001b[0;32mimport\u001b[0m \u001b[0mndimage\u001b[0m\u001b[0;34m\u001b[0m\u001b[0;34m\u001b[0m\u001b[0m\n\u001b[0m\u001b[1;32m     29\u001b[0m \u001b[0;34m\u001b[0m\u001b[0m\n\u001b[1;32m     30\u001b[0m \u001b[0;32mimport\u001b[0m \u001b[0mwarnings\u001b[0m\u001b[0;34m;\u001b[0m \u001b[0mwarnings\u001b[0m\u001b[0;34m.\u001b[0m\u001b[0mfilterwarnings\u001b[0m\u001b[0;34m(\u001b[0m\u001b[0;34m'ignore'\u001b[0m\u001b[0;34m,\u001b[0m \u001b[0;34m'GeoSeries.notna'\u001b[0m\u001b[0;34m,\u001b[0m \u001b[0mUserWarning\u001b[0m\u001b[0;34m)\u001b[0m\u001b[0;34m\u001b[0m\u001b[0;34m\u001b[0m\u001b[0m\n",
            "\u001b[0;32m/content/drive/MyDrive/scipy/__init__.py\u001b[0m in \u001b[0;36m__getattr__\u001b[0;34m(name)\u001b[0m\n\u001b[1;32m    198\u001b[0m     \u001b[0;32mdef\u001b[0m \u001b[0m__getattr__\u001b[0m\u001b[0;34m(\u001b[0m\u001b[0mname\u001b[0m\u001b[0;34m)\u001b[0m\u001b[0;34m:\u001b[0m\u001b[0;34m\u001b[0m\u001b[0;34m\u001b[0m\u001b[0m\n\u001b[1;32m    199\u001b[0m         \u001b[0;32mif\u001b[0m \u001b[0mname\u001b[0m \u001b[0;32min\u001b[0m \u001b[0msubmodules\u001b[0m\u001b[0;34m:\u001b[0m\u001b[0;34m\u001b[0m\u001b[0;34m\u001b[0m\u001b[0m\n\u001b[0;32m--> 200\u001b[0;31m             \u001b[0;32mreturn\u001b[0m \u001b[0m_importlib\u001b[0m\u001b[0;34m.\u001b[0m\u001b[0mimport_module\u001b[0m\u001b[0;34m(\u001b[0m\u001b[0;34mf'scipy.{name}'\u001b[0m\u001b[0;34m)\u001b[0m\u001b[0;34m\u001b[0m\u001b[0;34m\u001b[0m\u001b[0m\n\u001b[0m\u001b[1;32m    201\u001b[0m         \u001b[0;32melse\u001b[0m\u001b[0;34m:\u001b[0m\u001b[0;34m\u001b[0m\u001b[0;34m\u001b[0m\u001b[0m\n\u001b[1;32m    202\u001b[0m             \u001b[0;32mtry\u001b[0m\u001b[0;34m:\u001b[0m\u001b[0;34m\u001b[0m\u001b[0;34m\u001b[0m\u001b[0m\n",
            "\u001b[0;32m/usr/lib/python3.9/importlib/__init__.py\u001b[0m in \u001b[0;36mimport_module\u001b[0;34m(name, package)\u001b[0m\n\u001b[1;32m    125\u001b[0m                 \u001b[0;32mbreak\u001b[0m\u001b[0;34m\u001b[0m\u001b[0;34m\u001b[0m\u001b[0m\n\u001b[1;32m    126\u001b[0m             \u001b[0mlevel\u001b[0m \u001b[0;34m+=\u001b[0m \u001b[0;36m1\u001b[0m\u001b[0;34m\u001b[0m\u001b[0;34m\u001b[0m\u001b[0m\n\u001b[0;32m--> 127\u001b[0;31m     \u001b[0;32mreturn\u001b[0m \u001b[0m_bootstrap\u001b[0m\u001b[0;34m.\u001b[0m\u001b[0m_gcd_import\u001b[0m\u001b[0;34m(\u001b[0m\u001b[0mname\u001b[0m\u001b[0;34m[\u001b[0m\u001b[0mlevel\u001b[0m\u001b[0;34m:\u001b[0m\u001b[0;34m]\u001b[0m\u001b[0;34m,\u001b[0m \u001b[0mpackage\u001b[0m\u001b[0;34m,\u001b[0m \u001b[0mlevel\u001b[0m\u001b[0;34m)\u001b[0m\u001b[0;34m\u001b[0m\u001b[0;34m\u001b[0m\u001b[0m\n\u001b[0m\u001b[1;32m    128\u001b[0m \u001b[0;34m\u001b[0m\u001b[0m\n\u001b[1;32m    129\u001b[0m \u001b[0;34m\u001b[0m\u001b[0m\n",
            "\u001b[0;32m/content/drive/MyDrive/scipy/ndimage/__init__.py\u001b[0m in \u001b[0;36m<module>\u001b[0;34m\u001b[0m\n\u001b[1;32m    152\u001b[0m \u001b[0;32mfrom\u001b[0m \u001b[0;34m.\u001b[0m\u001b[0m_filters\u001b[0m \u001b[0;32mimport\u001b[0m \u001b[0;34m*\u001b[0m  \u001b[0;31m# noqa: F401 F403\u001b[0m\u001b[0;34m\u001b[0m\u001b[0;34m\u001b[0m\u001b[0m\n\u001b[1;32m    153\u001b[0m \u001b[0;32mfrom\u001b[0m \u001b[0;34m.\u001b[0m\u001b[0m_fourier\u001b[0m \u001b[0;32mimport\u001b[0m \u001b[0;34m*\u001b[0m  \u001b[0;31m# noqa: F401 F403\u001b[0m\u001b[0;34m\u001b[0m\u001b[0;34m\u001b[0m\u001b[0m\n\u001b[0;32m--> 154\u001b[0;31m \u001b[0;32mfrom\u001b[0m \u001b[0;34m.\u001b[0m\u001b[0m_interpolation\u001b[0m \u001b[0;32mimport\u001b[0m \u001b[0;34m*\u001b[0m  \u001b[0;31m# noqa: F401 F403\u001b[0m\u001b[0;34m\u001b[0m\u001b[0;34m\u001b[0m\u001b[0m\n\u001b[0m\u001b[1;32m    155\u001b[0m \u001b[0;32mfrom\u001b[0m \u001b[0;34m.\u001b[0m\u001b[0m_measurements\u001b[0m \u001b[0;32mimport\u001b[0m \u001b[0;34m*\u001b[0m  \u001b[0;31m# noqa: F401 F403\u001b[0m\u001b[0;34m\u001b[0m\u001b[0;34m\u001b[0m\u001b[0m\n\u001b[1;32m    156\u001b[0m \u001b[0;32mfrom\u001b[0m \u001b[0;34m.\u001b[0m\u001b[0m_morphology\u001b[0m \u001b[0;32mimport\u001b[0m \u001b[0;34m*\u001b[0m  \u001b[0;31m# noqa: F401 F403\u001b[0m\u001b[0;34m\u001b[0m\u001b[0;34m\u001b[0m\u001b[0m\n",
            "\u001b[0;32m/content/drive/MyDrive/scipy/ndimage/_interpolation.py\u001b[0m in \u001b[0;36m<module>\u001b[0;34m\u001b[0m\n\u001b[1;32m     35\u001b[0m \u001b[0;32mfrom\u001b[0m \u001b[0mnumpy\u001b[0m\u001b[0;34m.\u001b[0m\u001b[0mcore\u001b[0m\u001b[0;34m.\u001b[0m\u001b[0mmultiarray\u001b[0m \u001b[0;32mimport\u001b[0m \u001b[0mnormalize_axis_index\u001b[0m\u001b[0;34m\u001b[0m\u001b[0;34m\u001b[0m\u001b[0m\n\u001b[1;32m     36\u001b[0m \u001b[0;34m\u001b[0m\u001b[0m\n\u001b[0;32m---> 37\u001b[0;31m \u001b[0;32mfrom\u001b[0m \u001b[0mscipy\u001b[0m \u001b[0;32mimport\u001b[0m \u001b[0mspecial\u001b[0m\u001b[0;34m\u001b[0m\u001b[0;34m\u001b[0m\u001b[0m\n\u001b[0m\u001b[1;32m     38\u001b[0m \u001b[0;32mfrom\u001b[0m \u001b[0;34m.\u001b[0m \u001b[0;32mimport\u001b[0m \u001b[0m_ni_support\u001b[0m\u001b[0;34m\u001b[0m\u001b[0;34m\u001b[0m\u001b[0m\n\u001b[1;32m     39\u001b[0m \u001b[0;32mfrom\u001b[0m \u001b[0;34m.\u001b[0m \u001b[0;32mimport\u001b[0m \u001b[0m_nd_image\u001b[0m\u001b[0;34m\u001b[0m\u001b[0;34m\u001b[0m\u001b[0m\n",
            "\u001b[0;32m/content/drive/MyDrive/scipy/__init__.py\u001b[0m in \u001b[0;36m__getattr__\u001b[0;34m(name)\u001b[0m\n\u001b[1;32m    198\u001b[0m     \u001b[0;32mdef\u001b[0m \u001b[0m__getattr__\u001b[0m\u001b[0;34m(\u001b[0m\u001b[0mname\u001b[0m\u001b[0;34m)\u001b[0m\u001b[0;34m:\u001b[0m\u001b[0;34m\u001b[0m\u001b[0;34m\u001b[0m\u001b[0m\n\u001b[1;32m    199\u001b[0m         \u001b[0;32mif\u001b[0m \u001b[0mname\u001b[0m \u001b[0;32min\u001b[0m \u001b[0msubmodules\u001b[0m\u001b[0;34m:\u001b[0m\u001b[0;34m\u001b[0m\u001b[0;34m\u001b[0m\u001b[0m\n\u001b[0;32m--> 200\u001b[0;31m             \u001b[0;32mreturn\u001b[0m \u001b[0m_importlib\u001b[0m\u001b[0;34m.\u001b[0m\u001b[0mimport_module\u001b[0m\u001b[0;34m(\u001b[0m\u001b[0;34mf'scipy.{name}'\u001b[0m\u001b[0;34m)\u001b[0m\u001b[0;34m\u001b[0m\u001b[0;34m\u001b[0m\u001b[0m\n\u001b[0m\u001b[1;32m    201\u001b[0m         \u001b[0;32melse\u001b[0m\u001b[0;34m:\u001b[0m\u001b[0;34m\u001b[0m\u001b[0;34m\u001b[0m\u001b[0m\n\u001b[1;32m    202\u001b[0m             \u001b[0;32mtry\u001b[0m\u001b[0;34m:\u001b[0m\u001b[0;34m\u001b[0m\u001b[0;34m\u001b[0m\u001b[0m\n",
            "\u001b[0;32m/usr/lib/python3.9/importlib/__init__.py\u001b[0m in \u001b[0;36mimport_module\u001b[0;34m(name, package)\u001b[0m\n\u001b[1;32m    125\u001b[0m                 \u001b[0;32mbreak\u001b[0m\u001b[0;34m\u001b[0m\u001b[0;34m\u001b[0m\u001b[0m\n\u001b[1;32m    126\u001b[0m             \u001b[0mlevel\u001b[0m \u001b[0;34m+=\u001b[0m \u001b[0;36m1\u001b[0m\u001b[0;34m\u001b[0m\u001b[0;34m\u001b[0m\u001b[0m\n\u001b[0;32m--> 127\u001b[0;31m     \u001b[0;32mreturn\u001b[0m \u001b[0m_bootstrap\u001b[0m\u001b[0;34m.\u001b[0m\u001b[0m_gcd_import\u001b[0m\u001b[0;34m(\u001b[0m\u001b[0mname\u001b[0m\u001b[0;34m[\u001b[0m\u001b[0mlevel\u001b[0m\u001b[0;34m:\u001b[0m\u001b[0;34m]\u001b[0m\u001b[0;34m,\u001b[0m \u001b[0mpackage\u001b[0m\u001b[0;34m,\u001b[0m \u001b[0mlevel\u001b[0m\u001b[0;34m)\u001b[0m\u001b[0;34m\u001b[0m\u001b[0;34m\u001b[0m\u001b[0m\n\u001b[0m\u001b[1;32m    128\u001b[0m \u001b[0;34m\u001b[0m\u001b[0m\n\u001b[1;32m    129\u001b[0m \u001b[0;34m\u001b[0m\u001b[0m\n",
            "\u001b[0;32m/content/drive/MyDrive/scipy/special/__init__.py\u001b[0m in \u001b[0;36m<module>\u001b[0;34m\u001b[0m\n\u001b[1;32m    661\u001b[0m \u001b[0;32mfrom\u001b[0m \u001b[0;34m.\u001b[0m\u001b[0m_sf_error\u001b[0m \u001b[0;32mimport\u001b[0m \u001b[0mSpecialFunctionWarning\u001b[0m\u001b[0;34m,\u001b[0m \u001b[0mSpecialFunctionError\u001b[0m\u001b[0;34m\u001b[0m\u001b[0;34m\u001b[0m\u001b[0m\n\u001b[1;32m    662\u001b[0m \u001b[0;34m\u001b[0m\u001b[0m\n\u001b[0;32m--> 663\u001b[0;31m \u001b[0;32mfrom\u001b[0m \u001b[0;34m.\u001b[0m \u001b[0;32mimport\u001b[0m \u001b[0m_ufuncs\u001b[0m\u001b[0;34m\u001b[0m\u001b[0;34m\u001b[0m\u001b[0m\n\u001b[0m\u001b[1;32m    664\u001b[0m \u001b[0;32mfrom\u001b[0m \u001b[0;34m.\u001b[0m\u001b[0m_ufuncs\u001b[0m \u001b[0;32mimport\u001b[0m \u001b[0;34m*\u001b[0m\u001b[0;34m\u001b[0m\u001b[0;34m\u001b[0m\u001b[0m\n\u001b[1;32m    665\u001b[0m \u001b[0;34m\u001b[0m\u001b[0m\n",
            "\u001b[0;31mImportError\u001b[0m: libopenblasp-r0-41284840.3.18.so: cannot open shared object file: No such file or directory",
            "",
            "\u001b[0;31m---------------------------------------------------------------------------\u001b[0;32m\nNOTE: If your import is failing due to a missing package, you can\nmanually install dependencies using either !pip or !apt.\n\nTo view examples of installing some common dependencies, click the\n\"Open Examples\" button below.\n\u001b[0;31m---------------------------------------------------------------------------\u001b[0m\n"
          ],
          "errorDetails": {
            "actions": [
              {
                "action": "open_url",
                "actionText": "Open Examples",
                "url": "/notebooks/snippets/importing_libraries.ipynb"
              }
            ]
          }
        }
      ],
      "source": [
        "from main_tools import (build_directory,\n",
        "                       get_extent_parameters,\n",
        "                       setup_AOI_files, \n",
        "                       make_polygons,\n",
        "                       make_channel_networks,\n",
        "                       make_model_foundation, \n",
        "                       set_boundary_conditions, \n",
        "                       make_watermask,\n",
        "                       more_opening)\n"
      ]
    },
    {
      "cell_type": "markdown",
      "id": "3mnrUfhr3NWW",
      "metadata": {
        "id": "3mnrUfhr3NWW"
      },
      "source": [
        "<font size=6> Step #1c: Unzip example files in Komo.zip <font> \n",
        "\n",
        "\n"
      ]
    },
    {
      "cell_type": "code",
      "execution_count": null,
      "id": "UnopBCZuT1Es",
      "metadata": {
        "id": "UnopBCZuT1Es"
      },
      "outputs": [],
      "source": [
        "import zipfile\n",
        "with zipfile.ZipFile(path_examples / \"komo_starter.zip\", 'r') as zip_ref:\n",
        "    zip_ref.extractall(path_examples)\n",
        "    "
      ]
    },
    {
      "cell_type": "markdown",
      "id": "QgL2wZHj16ze",
      "metadata": {
        "id": "QgL2wZHj16ze"
      },
      "source": [
        "<font size=3> We will access data files stored on a shared Google Drive. You will also need to save files to your own Google Drive.<font>\n",
        "\n"
      ]
    },
    {
      "cell_type": "markdown",
      "id": "c6bd01ec",
      "metadata": {
        "id": "c6bd01ec"
      },
      "source": [
        "<font size=6, color ='black' > Step #2: Set the AOI and working directory  </font>\n"
      ]
    },
    {
      "cell_type": "markdown",
      "id": "7f2dda11",
      "metadata": {
        "id": "7f2dda11"
      },
      "source": [
        "AOI should match the name of the folder where files will be saved"
      ]
    },
    {
      "cell_type": "code",
      "execution_count": null,
      "id": "43f0d63c",
      "metadata": {
        "id": "43f0d63c",
        "scrolled": false
      },
      "outputs": [],
      "source": [
        "AOI = 'komo'\n",
        "\n",
        "Path((path_examples / AOI)).mkdir(parents=True, exist_ok=True)\n",
        "\n",
        "skip = False\n",
        "res = 30 #meters\n",
        "print('\\n')\n",
        "print('Study area is ' + AOI)\n",
        "print('Resolution of this setup is %sm' %(res))\n",
        "\n",
        "working_path,folders = build_directory(path_examples, AOI)\n",
        "working_path = Path(working_path)\n",
        "print(working_path)\n",
        "\n"
      ]
    },
    {
      "cell_type": "markdown",
      "id": "819f9ee3",
      "metadata": {
        "id": "819f9ee3"
      },
      "source": [
        "<font size='6' > Step #3: Configuration Parameters </font>\n"
      ]
    },
    {
      "cell_type": "code",
      "execution_count": null,
      "id": "6effe23c",
      "metadata": {
        "id": "6effe23c",
        "scrolled": true
      },
      "outputs": [],
      "source": [
        "try:\n",
        "    parameters = pd.read_csv(folders[6] / ('config_%s.csv' %(AOI)))\n",
        "except:    \n",
        "    parameters = pd.DataFrame()\n",
        "    parameters['AOI'] = [AOI]\n",
        "    parameters['RiverOceanBoundary'] = '1260'\n",
        "    parameters['Discharge'] = '426'\n",
        "\n",
        "    #Method parameters:\n",
        "    parameters['LandcoverMethod'] = 'WorldCover'\n",
        "    parameters['LandElevMethod'] = 'GLO30'\n",
        "    parameters['OceanElevMethod'] = 'GEBCO'\n",
        "    parameters['LowerRiverElevMethod'] = 'plane'\n",
        "    parameters['UpperRiverElevMethod'] = 'wdpower'\n",
        "    parameters['WetlandElevMethod'] = 'constant_0.5'\n",
        "    parameters['LakeElevMethod'] = 'constant_1'\n",
        "    parameters['ManningLUT'] = 'default'\n",
        "    parameters['WetlandClass'] = '90'\n",
        "\n",
        "    #Coefficients for determining bathymetry:\n",
        "    parameters['WD_POWERA_upper'] = '0.0606'\n",
        "    parameters['WD_POWERB_upper'] = '0.7732'\n",
        "\n",
        "    #Max thresholds:\n",
        "    parameters['MaxOceanDepth'] = '-300'\n",
        "    parameters['MaxNearshoreDepth'] = '-300'\n",
        "    parameters['MaxRiverDepth'] = '-300'\n",
        "    parameters['MaxRiverWidth'] = '756'\n",
        "\n"
      ]
    },
    {
      "cell_type": "code",
      "execution_count": null,
      "id": "77e36fda",
      "metadata": {
        "id": "77e36fda"
      },
      "outputs": [],
      "source": [
        "ref_10m,parameters = get_extent_parameters(path_ancillary,AOI,folders,res,parameters)\n"
      ]
    },
    {
      "cell_type": "code",
      "execution_count": null,
      "id": "HHy249g7MZU_",
      "metadata": {
        "id": "HHy249g7MZU_"
      },
      "outputs": [],
      "source": [
        "plt.imshow(ref_10m.read(1),vmin=-50,vmax=0)\n",
        "plt.title('GEBCO Bathymetry resampled to 10m resolution')"
      ]
    },
    {
      "cell_type": "markdown",
      "id": "16639d91",
      "metadata": {
        "id": "16639d91"
      },
      "source": [
        "<font size='5' color = 'red' > The parameters were saved to a configuration file, we open that here </font>\n"
      ]
    },
    {
      "cell_type": "code",
      "execution_count": null,
      "id": "8d26852d",
      "metadata": {
        "id": "8d26852d"
      },
      "outputs": [],
      "source": [
        "parameters = pd.read_csv(folders[2] / ('%s_Configuration.csv' %(AOI)))\n",
        "print(parameters.iloc[0] )"
      ]
    },
    {
      "cell_type": "markdown",
      "id": "ce31f780",
      "metadata": {
        "id": "ce31f780"
      },
      "source": [
        "<font size='6' > Step #4: Download datasets </font>\n",
        "<br> Download GEBCO, GLO30, World Cover, and Global Mangrove Maps for the area</font>"
      ]
    },
    {
      "cell_type": "code",
      "execution_count": null,
      "id": "154a55c7",
      "metadata": {
        "id": "154a55c7",
        "scrolled": false
      },
      "outputs": [],
      "source": [
        "ref = setup_AOI_files(your_path,\n",
        "                    AOI,\n",
        "                    folders,\n",
        "                    res,\n",
        "                    parameters)\n"
      ]
    },
    {
      "cell_type": "markdown",
      "id": "96269f27",
      "metadata": {
        "id": "96269f27"
      },
      "source": [
        "<font size='5' color = 'red' > The EPSG coordinate reference system must be is in UTM </font>\n"
      ]
    },
    {
      "cell_type": "code",
      "execution_count": null,
      "id": "a74a3cd0",
      "metadata": {
        "id": "a74a3cd0"
      },
      "outputs": [],
      "source": [
        "EPSG = parameters['EPSG'][0]\n",
        "ulx = parameters['ulx'][0]\n",
        "uly = parameters['uly'][0]\n",
        "lrx = parameters['lrx'][0]\n",
        "lry = parameters['lry'][0]\n"
      ]
    },
    {
      "cell_type": "code",
      "execution_count": null,
      "id": "771bc90b",
      "metadata": {
        "id": "771bc90b"
      },
      "outputs": [],
      "source": [
        "#ref = rasterio.open('%s/%s_GEBCO_%s.tif' %(folders[8],AOI,res))\n",
        "glo30 = rasterio.open(folders[8] / ('%s_GLO30_topo_%s.tif' %(AOI,res)))\n",
        "landcover = rasterio.open(folders[8] / ('%s_WorldCover_%s.tif' %(AOI,res)))\n",
        "\n",
        "\n",
        "fig,[ax1,ax2] = plt.subplots(nrows=2,figsize=(10,10))\n",
        "ax1.imshow(glo30.read(1),vmin=0,vmax=50,cmap = 'viridis')\n",
        "ax1.set_title('Tandem-X GLO30 Topography at 30m resolution')\n",
        "\n",
        "ax2.imshow(landcover.read(1),cmap='jet_r')\n",
        "ax2.set_title('WorldCover Landcover Map')\n"
      ]
    },
    {
      "cell_type": "code",
      "execution_count": null,
      "id": "QUGJwJOBha8X",
      "metadata": {
        "id": "QUGJwJOBha8X"
      },
      "outputs": [],
      "source": [
        "model_domain = gpd.read_file(folders[7] / ('%s_modeldomain.shp' %(AOI)))\n",
        "\n",
        "fig,ax = plt.subplots(figsize=(10,10))\n",
        "model_domain.geometry.boundary.plot(color=None,edgecolor='red',linewidth = 2,ax=ax,label = 'model domain') #Use your second dataframe\n",
        "\n",
        "plt.legend()"
      ]
    },
    {
      "cell_type": "markdown",
      "id": "88c1288f",
      "metadata": {
        "id": "88c1288f"
      },
      "source": [
        "<font size='6' > Step #4: Clean the water mask </font> <br>\n",
        "Clean, filter, smooth the water mask you made in the previous notebook </font>\n",
        "\n"
      ]
    },
    {
      "cell_type": "code",
      "execution_count": null,
      "id": "eec50ca1",
      "metadata": {
        "id": "eec50ca1",
        "scrolled": false
      },
      "outputs": [],
      "source": [
        "#ref_10m = rasterio.open('%s/%s_GEBCO_10.tif' %(folders[8],AOI))\n",
        "watermaskname = make_watermask(path_ancillary, \n",
        "                               AOI,\n",
        "                               folders,\n",
        "                               parameters,\n",
        "                               ref_10m,\n",
        "                               False, \n",
        "                               os.path.isfile('%s_watermask_%s.tif' %(folders[8]/AOI,res)))\n",
        "how_much_opening = 3\n",
        "if os.path.isfile('%s_watermask_%s.tif' %(folders[8]/AOI,30)) == False:\n",
        "    more_opening(AOI,folders,watermaskname,how_much_opening,ref_10m,parameters)\n"
      ]
    },
    {
      "cell_type": "code",
      "execution_count": null,
      "id": "ae9e534d",
      "metadata": {
        "id": "ae9e534d"
      },
      "outputs": [],
      "source": [
        "print(watermaskname)\n",
        "if res != 10:\n",
        "    os.system('gdalwarp -overwrite -tr %s %s %s %s '\\\n",
        "                      ' -te %s %s %s %s -srcnodata -9999 -dstnodata -9999 -co COMPRESS=DEFLATE -q'\n",
        "                      %(res,res,folders[8]/ (\"%s_watermask_10.tif \" %(AOI)),folders[8] / (\"%s_watermask_%s.tif\" %(AOI,res)),ulx,lry,lrx,uly))\n",
        "    os.system('gdalwarp -overwrite -tr %s %s %s %s '\\\n",
        "                      ' -te %s %s %s %s -srcnodata -9999 -dstnodata -9999 -co COMPRESS=DEFLATE -q'\n",
        "                      %(res,res,folders[8] / (\"%s_landmask_10.tif\" %(AOI)),folders[8] / (\"%s_landmask_%s.tif\" %(AOI,res)),ulx,lry,lrx,uly))\n"
      ]
    },
    {
      "cell_type": "code",
      "execution_count": null,
      "id": "ebc8cda8",
      "metadata": {
        "id": "ebc8cda8"
      },
      "outputs": [],
      "source": [
        "watermask = rasterio.open(folders[8] / ('%s_watermask_%s.tif' %(AOI,res))).read(1)\n",
        "\n",
        "fig,[ax1,ax2] = plt.subplots(nrows=2,figsize=(15,15))\n",
        "ax1.imshow(watermask,'gray')\n",
        "\n",
        "ax2.imshow(watermask,'gray')\n",
        "ax2.axis([1500,2000, 2000,1500])"
      ]
    },
    {
      "cell_type": "markdown",
      "id": "1d04ee13",
      "metadata": {
        "id": "1d04ee13"
      },
      "source": [
        "<font size='6' > Step #5: Make polygons of each land cover type <br> </font>\n",
        "Ocean, lake, river, land\n"
      ]
    },
    {
      "cell_type": "code",
      "execution_count": null,
      "id": "33c4bc5e",
      "metadata": {
        "id": "33c4bc5e"
      },
      "outputs": [],
      "source": [
        "make_polygons(AOI,\n",
        "            folders,\n",
        "            parameters,\n",
        "            ref,\n",
        "            watermaskname,\n",
        "            path_templates,\n",
        "            os.path.isfile('%s_lands_%s.tif' %(folders[8]/AOI,res)))\n"
      ]
    },
    {
      "cell_type": "code",
      "execution_count": null,
      "id": "2da0f719",
      "metadata": {
        "id": "2da0f719"
      },
      "outputs": [],
      "source": [
        "fix,ax = plt.subplots(figsize=(20,20))\n",
        "\n",
        "colors = ['red','blue','orange','cyan','green']\n",
        "polys = ['lands','fullocean','lakes','rivers']\n",
        "i=0\n",
        "for poly in polys:\n",
        "    tmp = gpd.read_file([os.path.join(dirpath,f)\n",
        "            for dirpath,dirnames, files in os.walk(folders[7])\n",
        "            for f in fnmatch.filter(files,'*%s*.shp' %(poly))][0])\n",
        "    tmp.geometry.boundary.plot(color=colors[i], edgecolor=colors[i],linewidth = 1,ax=ax,label = poly) #Use your second dataframe\n",
        "    i=i+1\n",
        "plt.legend()\n"
      ]
    },
    {
      "cell_type": "markdown",
      "id": "29bef3ca",
      "metadata": {
        "id": "29bef3ca"
      },
      "source": [
        "<font size='6' > Step #6: Using Orinoco, get distance and width of the river networks</font>\n"
      ]
    },
    {
      "cell_type": "code",
      "execution_count": null,
      "id": "73144d89",
      "metadata": {
        "id": "73144d89"
      },
      "outputs": [],
      "source": [
        "segment_width = 150\n",
        "pixel_step = int(round(segment_width/res))\n",
        "try:\n",
        "  distance = gdal.Open('%s_distance_%s.tif' %(folders[8] / AOI,res)).ReadAsArray()\n",
        "  widths = gdal.Open('%s_widths_%sx%s.tif' %(folders[8] / AOI,res,pixel_step)).ReadAsArray()\n",
        "except:\n",
        "  distance,widths = make_channel_networks(folders,\n",
        "                                      AOI,\n",
        "                                      ref,\n",
        "                                      parameters,\n",
        "                                      pixel_step,False)\n"
      ]
    },
    {
      "cell_type": "markdown",
      "id": "1c650374",
      "metadata": {
        "id": "1c650374"
      },
      "source": [
        "<font size='6' > Step #7: Make the Digital Elevation Model </font>\n"
      ]
    },
    {
      "cell_type": "code",
      "execution_count": null,
      "id": "cba2f51e",
      "metadata": {
        "id": "cba2f51e"
      },
      "outputs": [],
      "source": [
        "elevation,elev_name = make_model_foundation(mounted_drive,\n",
        "                                                parameters,\n",
        "                                                AOI,\n",
        "                                                folders,\n",
        "                                                ref,\n",
        "                                                distance,\n",
        "                                                widths,\n",
        "                                                watermask,pixel_step,mounted_drive)\n"
      ]
    },
    {
      "cell_type": "markdown",
      "id": "Qx3XgmgVSQka",
      "metadata": {
        "id": "Qx3XgmgVSQka"
      },
      "source": [
        "<font size=5 color='green'> We will use the elevation file in later notebooks. </font>"
      ]
    },
    {
      "cell_type": "code",
      "execution_count": null,
      "id": "daf09db5",
      "metadata": {
        "id": "daf09db5"
      },
      "outputs": [],
      "source": [
        "print(elev_name)\n"
      ]
    },
    {
      "cell_type": "markdown",
      "id": "2fda8ed7",
      "metadata": {
        "id": "2fda8ed7"
      },
      "source": [
        "<font size='6' > Step #6: Clean up temporary files </font> <br>\n"
      ]
    },
    {
      "cell_type": "code",
      "execution_count": null,
      "id": "641111ed",
      "metadata": {
        "id": "641111ed"
      },
      "outputs": [],
      "source": [
        "cleanup = False \n",
        "if cleanup == True:\n",
        "    print('Cleaning up temporary files')\n",
        "    try:shutil.rmtree(folders[1])\n",
        "    except:''\n"
      ]
    },
    {
      "cell_type": "markdown",
      "id": "391dc703",
      "metadata": {
        "id": "391dc703"
      },
      "source": [
        "<font size=5 color='red'> Done building DEM and other ancillary files. Move on to the next notebook 3_GetBoundaries.ipynb </font>\n"
      ]
    },
    {
      "cell_type": "code",
      "execution_count": null,
      "id": "3d42aa06",
      "metadata": {
        "id": "3d42aa06"
      },
      "outputs": [],
      "source": []
    },
    {
      "cell_type": "code",
      "execution_count": null,
      "id": "qXlrDUEBLTjL",
      "metadata": {
        "id": "qXlrDUEBLTjL"
      },
      "outputs": [],
      "source": []
    }
  ],
  "metadata": {
    "colab": {
      "provenance": []
    },
    "kernelspec": {
      "display_name": "Python 3 (ipykernel)",
      "language": "python",
      "name": "python3"
    },
    "language_info": {
      "codemirror_mode": {
        "name": "ipython",
        "version": 3
      },
      "file_extension": ".py",
      "mimetype": "text/x-python",
      "name": "python",
      "nbconvert_exporter": "python",
      "pygments_lexer": "ipython3",
      "version": "3.7.12"
    }
  },
  "nbformat": 4,
  "nbformat_minor": 5
}