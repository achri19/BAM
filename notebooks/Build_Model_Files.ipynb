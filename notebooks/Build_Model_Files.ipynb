{
 "cells": [
  {
   "cell_type": "markdown",
   "id": "466e2a39",
   "metadata": {
    "id": "466e2a39"
   },
   "source": [
    "<font size=\"8\">Build an ANUGA Model (BAM) </font>\n",
    "\n",
    "<font size=\"3\">In this notebook, we will:\n",
    "\n",
    "- set model configuration parameters\n",
    "\n",
    "- download and preprocess elevation and landcover datasets\n",
    "\n",
    "    \n",
    "- Determine water body polygons\n",
    "\n",
    "\n",
    "- Build the Digital Elevation Model\n",
    "\n",
    "\n",
    "\n",
    "</font>\n",
    "\n",
    "<font size=\"3\">This could take some time, depending on model domain size and complexity of the water mask</font>\n"
   ]
  },
  {
   "cell_type": "markdown",
   "id": "jNhRqEni40KR",
   "metadata": {
    "id": "jNhRqEni40KR"
   },
   "source": [
    "<font size=5 color='green'> If you are running in Google Colab, set the variable yes_colab = True.</font> <br>\n",
    "<font size=5 color='blue'> If you are running on your own computer, set the variable yes_colab = False </font>\n"
   ]
  },
  {
   "cell_type": "code",
   "execution_count": null,
   "id": "gkLaKjYy4_Lv",
   "metadata": {
    "id": "gkLaKjYy4_Lv"
   },
   "outputs": [],
   "source": [
    "yes_colab = False\n"
   ]
  },
  {
   "cell_type": "markdown",
   "id": "rhp4yA4h2Njc",
   "metadata": {
    "id": "rhp4yA4h2Njc"
   },
   "source": [
    "<font size=6> Step #1a: Set working directory <br> </font>\n",
    "\n"
   ]
  },
  {
   "cell_type": "markdown",
   "id": "JkG2pXof2YoC",
   "metadata": {
    "id": "JkG2pXof2YoC"
   },
   "source": [
    "<font size=5 color='green'> If you are running in Google Colab, when you run the next cell, a pop-up window will appear asking you to grant access to your Google Drive. You must approve or the notebook will not work. <font> <br>\n",
    "\n"
   ]
  },
  {
   "cell_type": "code",
   "execution_count": null,
   "id": "s_IgSq3RgKtN",
   "metadata": {
    "colab": {
     "base_uri": "https://localhost:8080/"
    },
    "id": "s_IgSq3RgKtN",
    "outputId": "dd69d6cb-cfaa-4461-c9eb-1660c352c802"
   },
   "outputs": [],
   "source": [
    "import os\n",
    "import sys\n",
    "from pathlib import Path\n",
    "\n",
    "your_path = Path(os.getcwd() + '/')\n",
    "if yes_colab:\n",
    "  where_to_mount = '/content/drive/'\n",
    "  from google.colab import drive\n",
    "  drive.mount(where_to_mount, force_remount=True)\n",
    "  mounted_drive = Path(where_to_mount) / 'MyDrive' \n",
    "  sys.path.append(str(mounted_drive / 'installations'))\n",
    "  path_ancillary = mounted_drive / 'ancillary'\n",
    "  Path(mounted_drive / 'installations').mkdir(parents=True, exist_ok=True)\n",
    "\n",
    "else:\n",
    "  mounted_drive = Path(os.path.abspath(os.path.join(your_path, os.pardir)))\n",
    "  path_ancillary = mounted_drive / 'BAM/ancillary'\n",
    "\n",
    "print('Your working directory is %s' %(mounted_drive))\n",
    "\n"
   ]
  },
  {
   "cell_type": "markdown",
   "id": "AXdcQrkUgUlM",
   "metadata": {
    "id": "AXdcQrkUgUlM"
   },
   "source": [
    "<font size=6> Step #1b: Install and import packages. <font> <br>"
   ]
  },
  {
   "cell_type": "markdown",
   "id": "eec5c036",
   "metadata": {
    "id": "eec5c036"
   },
   "source": [
    "<font size=5 color='green'> If you are running in Google Colab, this cell should install all Python packages you need for each tutorial. </font> <br>\n",
    "<font size=5 color='blue'> If you are running on your own computer, the packages were already installed when you installed the conda environment </font>\n"
   ]
  },
  {
   "cell_type": "code",
   "execution_count": null,
   "id": "1poqNGJSgKtK",
   "metadata": {
    "colab": {
     "base_uri": "https://localhost:8080/"
    },
    "id": "1poqNGJSgKtK",
    "outputId": "1491d0c6-b744-46d5-b7e4-e327b0c7b355"
   },
   "outputs": [],
   "source": [
    "import os\n",
    "os.chdir(mounted_drive)\n",
    "if yes_colab:\n",
    "  if os.path.isdir(mounted_drive / 'BAM'):\n",
    "    print('## Updating the local git repository \\n')\n",
    "    os.chdir(mounted_drive / 'BAM')\n",
    "    #!git fsck --full\n",
    "    # !git add -A \n",
    "    !git stash   \n",
    "    !git pull\n",
    "    # !rm -rf {mounted_drive/'BAM'}\n",
    "\n",
    "  else:\n",
    "    print('## Pulling the git repository with files for the tutorial\\n')\n",
    "    !git clone https://github.com/achri19/BAM.git\n"
   ]
  },
  {
   "cell_type": "code",
   "execution_count": null,
   "id": "m3yYQkp4P_8I",
   "metadata": {
    "colab": {
     "base_uri": "https://localhost:8080/"
    },
    "id": "m3yYQkp4P_8I",
    "outputId": "3a13dca1-8b74-44fd-f32c-aa6d6ba4db9c"
   },
   "outputs": [],
   "source": [
    "if yes_colab:\n",
    "  print('\\n## Installing the Python packages needed for these tutorials\\n')\n",
    "  try:\n",
    "    import geopandas as gpd\n",
    "  except:\n",
    "    !/bin/bash $mounted_drive/BAM/notebooks/install_packages_colab_debug.sh\n"
   ]
  },
  {
   "cell_type": "code",
   "execution_count": null,
   "id": "AWTZh_b8mHoE",
   "metadata": {
    "colab": {
     "base_uri": "https://localhost:8080/"
    },
    "id": "AWTZh_b8mHoE",
    "outputId": "891f661d-d508-430e-b12d-36792bdf93ab"
   },
   "outputs": [],
   "source": [
    "path_ancillary = mounted_drive / 'ancillary'\n",
    "path_code = mounted_drive / 'scripts/'\n",
    "path_templates = mounted_drive /  'templates/'\n",
    "path_configs = mounted_drive / 'configs/'\n",
    "sys.path.insert(1,str(path_code))\n",
    "print(path_code)\n",
    "print(path_ancillary)\n",
    "\n",
    "path_examples = mounted_drive / 'examples'\n",
    "Path(path_examples).mkdir(parents=True, exist_ok=True)"
   ]
  },
  {
   "cell_type": "code",
   "execution_count": null,
   "id": "4a749118",
   "metadata": {
    "colab": {
     "base_uri": "https://localhost:8080/"
    },
    "id": "4a749118",
    "outputId": "bb228929-1298-4b86-9778-65d09f4d829b"
   },
   "outputs": [],
   "source": [
    "import sys\n",
    "import os\n",
    "import pandas as pd\n",
    "import shutil\n",
    "from datetime import datetime\n",
    "from string import Template\n",
    "import fnmatch\n",
    "import geopandas as gpd\n",
    "import rasterio\n",
    "from osgeo import gdal \n",
    "from pathlib import Path\n",
    "import matplotlib.pyplot as plt\n",
    "import numpy as np\n",
    "import rtree\n",
    "from scipy import *\n"
   ]
  },
  {
   "cell_type": "code",
   "execution_count": null,
   "id": "CPPe7c_zQ1aE",
   "metadata": {
    "id": "CPPe7c_zQ1aE"
   },
   "outputs": [],
   "source": [
    "try:\n",
    "  import pyTMD\n",
    "except:\n",
    "  !pip install pytmd\n",
    "\n",
    "from main_tools import (build_directory,\n",
    "                       get_extent_parameters,\n",
    "                       setup_AOI_files, \n",
    "                       make_polygons,\n",
    "                       make_channel_networks,\n",
    "                       make_model_foundation, \n",
    "                       set_boundary_conditions, \n",
    "                       make_watermask,\n",
    "                       more_opening)\n"
   ]
  },
  {
   "cell_type": "markdown",
   "id": "3mnrUfhr3NWW",
   "metadata": {
    "id": "3mnrUfhr3NWW"
   },
   "source": [
    "<font size=6> Step #1c: Unzip example files in Komo.zip <font> \n",
    "\n",
    "\n"
   ]
  },
  {
   "cell_type": "code",
   "execution_count": null,
   "id": "UnopBCZuT1Es",
   "metadata": {
    "id": "UnopBCZuT1Es"
   },
   "outputs": [],
   "source": [
    "import zipfile\n",
    "with zipfile.ZipFile(\"komo_starter.zip\", 'r') as zip_ref:\n",
    "    zip_ref.extractall(path_examples)\n",
    "    "
   ]
  },
  {
   "cell_type": "markdown",
   "id": "QgL2wZHj16ze",
   "metadata": {
    "id": "QgL2wZHj16ze"
   },
   "source": [
    "<font size=3> We will access data files stored on a shared Google Drive. You will also need to save files to your own Google Drive.<font>\n",
    "\n"
   ]
  },
  {
   "cell_type": "markdown",
   "id": "c6bd01ec",
   "metadata": {
    "id": "c6bd01ec"
   },
   "source": [
    "<font size=6, color ='black' > Step #2: Set the AOI and working directory  </font>\n"
   ]
  },
  {
   "cell_type": "markdown",
   "id": "7f2dda11",
   "metadata": {
    "id": "7f2dda11"
   },
   "source": [
    "AOI should match the name of the folder where files will be saved"
   ]
  },
  {
   "cell_type": "code",
   "execution_count": null,
   "id": "43f0d63c",
   "metadata": {
    "colab": {
     "base_uri": "https://localhost:8080/"
    },
    "id": "43f0d63c",
    "outputId": "5733c7e5-82c8-4fb3-c38f-91a7d8d4ef24",
    "scrolled": false
   },
   "outputs": [],
   "source": [
    "AOI = 'komo'\n",
    "\n",
    "Path((path_examples / AOI)).mkdir(parents=True, exist_ok=True)\n",
    "\n",
    "skip = False\n",
    "res = 30 #meters\n",
    "print('\\n')\n",
    "print('Study area is ' + AOI)\n",
    "print('Resolution of this setup is %sm' %(res))\n",
    "\n",
    "working_path,folders = build_directory(path_examples, AOI)\n",
    "working_path = Path(working_path)\n",
    "print(working_path)\n",
    "\n"
   ]
  },
  {
   "cell_type": "markdown",
   "id": "819f9ee3",
   "metadata": {
    "id": "819f9ee3"
   },
   "source": [
    "<font size='6' > Step #3: Configuration Parameters </font>\n"
   ]
  },
  {
   "cell_type": "code",
   "execution_count": null,
   "id": "6effe23c",
   "metadata": {
    "id": "6effe23c",
    "scrolled": true
   },
   "outputs": [],
   "source": [
    "try:\n",
    "    parameters = pd.read_csv(folders[6] / ('config_%s.csv' %(AOI)))\n",
    "except:    \n",
    "    parameters = pd.DataFrame()\n",
    "    parameters['AOI'] = [AOI]\n",
    "    parameters['RiverOceanBoundary'] = '1260'\n",
    "    parameters['Discharge'] = '426'\n",
    "\n",
    "    #Method parameters:\n",
    "    parameters['LandcoverMethod'] = 'WorldCover'\n",
    "    parameters['LandElevMethod'] = 'GLO30'\n",
    "    parameters['OceanElevMethod'] = 'GEBCO'\n",
    "    parameters['LowerRiverElevMethod'] = 'plane'\n",
    "    parameters['UpperRiverElevMethod'] = 'wdpower'\n",
    "    parameters['WetlandElevMethod'] = 'constant_0.5'\n",
    "    parameters['LakeElevMethod'] = 'constant_1'\n",
    "    parameters['ManningLUT'] = 'default'\n",
    "    parameters['WetlandClass'] = '90'\n",
    "\n",
    "    #Coefficients for determining bathymetry:\n",
    "    parameters['WD_POWERA_upper'] = '0.0606'\n",
    "    parameters['WD_POWERB_upper'] = '0.7732'\n",
    "\n",
    "    #Max thresholds:\n",
    "    parameters['MaxOceanDepth'] = '-300'\n",
    "    parameters['MaxNearshoreDepth'] = '-300'\n",
    "    parameters['MaxRiverDepth'] = '-300'\n",
    "    parameters['MaxRiverWidth'] = '756'\n",
    "\n"
   ]
  },
  {
   "cell_type": "markdown",
   "id": "OzirjcG0iVR4",
   "metadata": {
    "id": "OzirjcG0iVR4"
   },
   "source": [
    "If you didn't run the Download notebook, the following cells will won't work. Go back to that notebook and download ancillary data."
   ]
  },
  {
   "cell_type": "code",
   "execution_count": null,
   "id": "77e36fda",
   "metadata": {
    "colab": {
     "base_uri": "https://localhost:8080/"
    },
    "id": "77e36fda",
    "outputId": "c6ca60e5-0dca-4628-cca5-b794e70cd08a"
   },
   "outputs": [],
   "source": [
    "try:\n",
    "    ref_10m = rasterio.open('%s_GEBCO_%s.tif' %(folders[8] / AOI,res))\n",
    "except:\n",
    "    ref_10m,parameters = get_extent_parameters(path_ancillary,AOI,folders,res,parameters)\n"
   ]
  },
  {
   "cell_type": "code",
   "execution_count": null,
   "id": "HHy249g7MZU_",
   "metadata": {
    "colab": {
     "base_uri": "https://localhost:8080/",
     "height": 407
    },
    "id": "HHy249g7MZU_",
    "outputId": "e1b7e495-dc41-4bac-820f-4de848bffb79"
   },
   "outputs": [],
   "source": [
    "plt.imshow(ref_10m.read(1),vmin=-50,vmax=0)\n",
    "plt.title('GEBCO Bathymetry resampled to 10m resolution')"
   ]
  },
  {
   "cell_type": "markdown",
   "id": "16639d91",
   "metadata": {
    "id": "16639d91"
   },
   "source": [
    "<font size='5' color = 'red' > The parameters were saved to a configuration file, we open that here </font>\n"
   ]
  },
  {
   "cell_type": "code",
   "execution_count": null,
   "id": "8d26852d",
   "metadata": {
    "id": "8d26852d"
   },
   "outputs": [],
   "source": [
    "parameters = pd.read_csv(folders[2] / ('%s_Configuration.csv' %(AOI)))\n",
    "print(parameters.iloc[0] )"
   ]
  },
  {
   "cell_type": "markdown",
   "id": "ce31f780",
   "metadata": {
    "id": "ce31f780"
   },
   "source": [
    "<font size='6' > Step #4: Download datasets </font>\n",
    "<br> Download GEBCO, GLO30, World Cover, and Global Mangrove Maps for the area</font>"
   ]
  },
  {
   "cell_type": "code",
   "execution_count": null,
   "id": "154a55c7",
   "metadata": {
    "id": "154a55c7",
    "scrolled": false
   },
   "outputs": [],
   "source": [
    "ref = setup_AOI_files(your_path,\n",
    "                    AOI,\n",
    "                    folders,\n",
    "                    res,\n",
    "                    parameters)\n"
   ]
  },
  {
   "cell_type": "markdown",
   "id": "96269f27",
   "metadata": {
    "id": "96269f27"
   },
   "source": [
    "<font size='5' color = 'red' > The EPSG coordinate reference system must be is in UTM </font>\n"
   ]
  },
  {
   "cell_type": "code",
   "execution_count": null,
   "id": "a74a3cd0",
   "metadata": {
    "id": "a74a3cd0"
   },
   "outputs": [],
   "source": [
    "EPSG = parameters['EPSG'][0]\n",
    "ulx = parameters['ulx'][0]\n",
    "uly = parameters['uly'][0]\n",
    "lrx = parameters['lrx'][0]\n",
    "lry = parameters['lry'][0]\n"
   ]
  },
  {
   "cell_type": "code",
   "execution_count": null,
   "id": "771bc90b",
   "metadata": {
    "id": "771bc90b"
   },
   "outputs": [],
   "source": [
    "#ref = rasterio.open('%s/%s_GEBCO_%s.tif' %(folders[8],AOI,res))\n",
    "glo30 = rasterio.open(folders[8] / ('%s_GLO30_topo_%s.tif' %(AOI,res)))\n",
    "landcover = rasterio.open(folders[8] / ('%s_WorldCover_%s.tif' %(AOI,res)))\n",
    "\n",
    "\n",
    "fig,[ax1,ax2] = plt.subplots(nrows=2,figsize=(10,10))\n",
    "ax1.imshow(glo30.read(1),vmin=0,vmax=50,cmap = 'viridis')\n",
    "ax1.set_title('Tandem-X GLO30 Topography at 30m resolution')\n",
    "\n",
    "ax2.imshow(landcover.read(1),cmap='jet_r')\n",
    "ax2.set_title('WorldCover Landcover Map')\n"
   ]
  },
  {
   "cell_type": "code",
   "execution_count": null,
   "id": "QUGJwJOBha8X",
   "metadata": {
    "id": "QUGJwJOBha8X"
   },
   "outputs": [],
   "source": [
    "model_domain = gpd.read_file(folders[7] / ('%s_modeldomain.shp' %(AOI)))\n",
    "\n",
    "fig,ax = plt.subplots(figsize=(10,10))\n",
    "model_domain.geometry.boundary.plot(color=None,edgecolor='red',linewidth = 2,ax=ax,label = 'model domain') #Use your second dataframe\n",
    "\n",
    "plt.legend()"
   ]
  },
  {
   "cell_type": "markdown",
   "id": "88c1288f",
   "metadata": {
    "id": "88c1288f"
   },
   "source": [
    "<font size='6' > Step #4: Clean the water mask </font> <br>\n",
    "Clean, filter, smooth the water mask you made in the previous notebook </font>\n",
    "\n"
   ]
  },
  {
   "cell_type": "code",
   "execution_count": null,
   "id": "eec50ca1",
   "metadata": {
    "id": "eec50ca1",
    "scrolled": false
   },
   "outputs": [],
   "source": [
    "#ref_10m = rasterio.open('%s/%s_GEBCO_10.tif' %(folders[8],AOI))\n",
    "watermaskname = make_watermask(path_ancillary, \n",
    "                               AOI,\n",
    "                               folders,\n",
    "                               parameters,\n",
    "                               ref_10m,\n",
    "                               False, \n",
    "                               os.path.isfile('%s_watermask_%s.tif' %(folders[8]/AOI,res)))\n",
    "how_much_opening = 3\n",
    "if os.path.isfile('%s_watermask_%s.tif' %(folders[8]/AOI,30)) == False:\n",
    "    more_opening(AOI,folders,watermaskname,how_much_opening,ref_10m,parameters)\n"
   ]
  },
  {
   "cell_type": "code",
   "execution_count": null,
   "id": "ae9e534d",
   "metadata": {
    "id": "ae9e534d"
   },
   "outputs": [],
   "source": [
    "print(watermaskname)\n",
    "if res != 10:\n",
    "    os.system('gdalwarp -overwrite -tr %s %s %s %s '\\\n",
    "                      ' -te %s %s %s %s -srcnodata -9999 -dstnodata -9999 -co COMPRESS=DEFLATE -q'\n",
    "                      %(res,res,folders[8]/ (\"%s_watermask_10.tif \" %(AOI)),folders[8] / (\"%s_watermask_%s.tif\" %(AOI,res)),ulx,lry,lrx,uly))\n",
    "    os.system('gdalwarp -overwrite -tr %s %s %s %s '\\\n",
    "                      ' -te %s %s %s %s -srcnodata -9999 -dstnodata -9999 -co COMPRESS=DEFLATE -q'\n",
    "                      %(res,res,folders[8] / (\"%s_landmask_10.tif\" %(AOI)),folders[8] / (\"%s_landmask_%s.tif\" %(AOI,res)),ulx,lry,lrx,uly))\n"
   ]
  },
  {
   "cell_type": "code",
   "execution_count": null,
   "id": "ebc8cda8",
   "metadata": {
    "id": "ebc8cda8"
   },
   "outputs": [],
   "source": [
    "watermask = rasterio.open(folders[8] / ('%s_watermask_%s.tif' %(AOI,res))).read(1)\n",
    "\n",
    "fig,[ax1,ax2] = plt.subplots(nrows=2,figsize=(15,15))\n",
    "ax1.imshow(watermask,'gray')\n",
    "\n",
    "ax2.imshow(watermask,'gray')\n",
    "ax2.axis([1500,2000, 2000,1500])"
   ]
  },
  {
   "cell_type": "markdown",
   "id": "1d04ee13",
   "metadata": {
    "id": "1d04ee13"
   },
   "source": [
    "<font size='6' > Step #5: Make polygons of each land cover type <br> </font>\n",
    "Ocean, lake, river, land\n"
   ]
  },
  {
   "cell_type": "code",
   "execution_count": null,
   "id": "33c4bc5e",
   "metadata": {
    "id": "33c4bc5e"
   },
   "outputs": [],
   "source": [
    "make_polygons(AOI,\n",
    "            folders,\n",
    "            parameters,\n",
    "            ref,\n",
    "            watermaskname,\n",
    "            path_templates,\n",
    "            os.path.isfile('%s_lands_%s.tif' %(folders[8]/AOI,res)))\n"
   ]
  },
  {
   "cell_type": "code",
   "execution_count": null,
   "id": "15ceb6e8",
   "metadata": {
    "scrolled": true
   },
   "outputs": [],
   "source": [
    "# print(folders[1] / 'run_gdal24_test.sh')\n",
    "# import subprocess\n",
    "# # subprocess.call(['gdal_polygonize.py \"%s_watermask_%s.tif\" \"%s_watermask_%s.shp\" -8 -b 1 -f \"ESRI Shapefile\" %s DN' %(folders[8]/AOI,AOI,folders[7]/AOI,res,AOI)])\n",
    "\n",
    "# print('gdal_polygonize.py \"%s_watermask_%s.tif\" \"%s_watermask_%s.shp\" -8 -b 1 -f \"ESRI Shapefile\" %s DN' %(folders[8]/AOI,AOI,folders[7]/AOI,res,AOI))\n",
    "# # !gdal_polygonize.py \"C:\\Users\\alchrist\\Documents\\BAM\\examples\\komo\\Setup_Files\\Setup_RST\\komo_watermask_30.tif\" \"C:\\Users\\alchrist\\Documents\\BAM\\examples\\komo\\Setup_Files\\Setup_SHP\\komo_watermask_30.shp\" -8 -b 1 -f \"ESRI Shapefile\" komo DN\n",
    "# # gdal.Polygonize( 'C:\\\\Users\\\\alchrist\\\\Documents\\\\BAM\\\\examples\\\\komo\\\\Setup_Files\\\\Setup_RST\\\\komo_watermask_30.tif', None, 'C:\\\\Users\\\\alchrist\\\\Documents\\\\BAM\\\\examples\\\\komo\\\\Setup_Files\\\\Setup_SHP\\\\komo_watermask_komo.shp', 1)#, [], callback=None )\n",
    "\n",
    "# xres = 30\n",
    "# delta=AOI\n",
    "# from osgeo import ogr, osr\n",
    "# sourceRaster = gdal.Open('%s_watermask_%s.tif' %(folders[8]/delta,xres))\n",
    "# srcband = sourceRaster.GetRasterBand(1)\n",
    "# driver = ogr.GetDriverByName(\"ESRI Shapefile\")\n",
    "# dst_layername = str(\"%s_watermask_%s.shp\" %(folders[7]/delta,xres))\n",
    "# drv = ogr.GetDriverByName(\"ESRI Shapefile\")\n",
    "# dst_ds = drv.CreateDataSource( dst_layername )\n",
    "# sp_ref = osr.SpatialReference()\n",
    "# sp_ref.SetFromUserInput('EPSG%s' %(EPSG))\n",
    "# dst_layer = dst_ds.CreateLayer(dst_layername, srs = sp_ref )\n",
    "\n",
    "# gdal.Polygonize( srcband,srcband, dst_layer, 1, ['8CONNECTED=8'], callback=None  )\n",
    "\n",
    "# #plt.imshow(srcband)\n",
    "# # gdal.Polygonize( band, None, outLayer, -1, [], callback=None )"
   ]
  },
  {
   "cell_type": "code",
   "execution_count": null,
   "id": "2da0f719",
   "metadata": {
    "id": "2da0f719"
   },
   "outputs": [],
   "source": [
    "fix,ax = plt.subplots(figsize=(20,20))\n",
    "\n",
    "colors = ['red','blue','orange','cyan','green']\n",
    "polys = ['lands','fullocean','lakes','rivers']\n",
    "i=0\n",
    "for poly in polys:\n",
    "    tmp = gpd.read_file([os.path.join(dirpath,f)\n",
    "            for dirpath,dirnames, files in os.walk(folders[7])\n",
    "            for f in fnmatch.filter(files,'*%s*.shp' %(poly))][0])\n",
    "    tmp.geometry.boundary.plot(color=colors[i], edgecolor=colors[i],linewidth = 1,ax=ax,label = poly) #Use your second dataframe\n",
    "    i=i+1\n",
    "plt.legend()\n"
   ]
  },
  {
   "cell_type": "markdown",
   "id": "29bef3ca",
   "metadata": {
    "id": "29bef3ca"
   },
   "source": [
    "<font size='6' > Step #6: Using Orinoco, get distance and width of the river networks</font>\n"
   ]
  },
  {
   "cell_type": "code",
   "execution_count": null,
   "id": "73144d89",
   "metadata": {
    "id": "73144d89",
    "scrolled": false
   },
   "outputs": [],
   "source": [
    "segment_width = 150\n",
    "pixel_step = int(round(segment_width/res))\n",
    "try:\n",
    "  distance = gdal.Open('%s_distance_%s.tif' %(folders[8] / AOI,res)).ReadAsArray()\n",
    "  widths = gdal.Open('%s_widths_%sx%s.tif' %(folders[8] / AOI,res,pixel_step)).ReadAsArray()\n",
    "except:\n",
    "  distance,widths = make_channel_networks(folders,\n",
    "                                      AOI,\n",
    "                                      ref,\n",
    "                                      parameters,\n",
    "                                      pixel_step,False)\n"
   ]
  },
  {
   "cell_type": "code",
   "execution_count": null,
   "id": "a599b7be",
   "metadata": {},
   "outputs": [],
   "source": []
  },
  {
   "cell_type": "markdown",
   "id": "1c650374",
   "metadata": {
    "id": "1c650374"
   },
   "source": [
    "<font size='6' > Step #7: Make the Digital Elevation Model </font>\n"
   ]
  },
  {
   "cell_type": "code",
   "execution_count": null,
   "id": "cba2f51e",
   "metadata": {
    "id": "cba2f51e"
   },
   "outputs": [],
   "source": [
    "elevation,elev_name = make_model_foundation(mounted_drive,\n",
    "                                                parameters,\n",
    "                                                AOI,\n",
    "                                                folders,\n",
    "                                                ref,\n",
    "                                                distance,\n",
    "                                                widths,\n",
    "                                                watermask,pixel_step,mounted_drive)\n"
   ]
  },
  {
   "cell_type": "markdown",
   "id": "Qx3XgmgVSQka",
   "metadata": {
    "id": "Qx3XgmgVSQka"
   },
   "source": [
    "<font size=5 color='green'> We will use the elevation file in later notebooks. </font>"
   ]
  },
  {
   "cell_type": "code",
   "execution_count": null,
   "id": "daf09db5",
   "metadata": {
    "id": "daf09db5"
   },
   "outputs": [],
   "source": [
    "print(elev_name)\n"
   ]
  },
  {
   "cell_type": "markdown",
   "id": "2fda8ed7",
   "metadata": {
    "id": "2fda8ed7"
   },
   "source": [
    "<font size='6' > Step #6: Clean up temporary files </font> <br>\n"
   ]
  },
  {
   "cell_type": "code",
   "execution_count": null,
   "id": "641111ed",
   "metadata": {
    "id": "641111ed"
   },
   "outputs": [],
   "source": [
    "cleanup = False \n",
    "if cleanup == True:\n",
    "    print('Cleaning up temporary files')\n",
    "    try:shutil.rmtree(folders[1])\n",
    "    except:''\n"
   ]
  },
  {
   "cell_type": "markdown",
   "id": "391dc703",
   "metadata": {
    "id": "391dc703"
   },
   "source": [
    "<font size=5 color='red'> Done building DEM and other ancillary files. Move on to the next notebook 3_GetBoundaries.ipynb </font>\n"
   ]
  }
 ],
 "metadata": {
  "colab": {
   "provenance": []
  },
  "kernelspec": {
   "display_name": "Python 3 (ipykernel)",
   "language": "python",
   "name": "python3"
  },
  "language_info": {
   "codemirror_mode": {
    "name": "ipython",
    "version": 3
   },
   "file_extension": ".py",
   "mimetype": "text/x-python",
   "name": "python",
   "nbconvert_exporter": "python",
   "pygments_lexer": "ipython3",
   "version": "3.11.3"
  }
 },
 "nbformat": 4,
 "nbformat_minor": 5
}
