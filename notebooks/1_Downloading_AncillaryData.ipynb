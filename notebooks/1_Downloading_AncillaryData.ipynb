{
 "cells": [
  {
   "cell_type": "markdown",
   "metadata": {
    "colab_type": "text",
    "id": "view-in-github"
   },
   "source": [
    "<a href=\"https://colab.research.google.com/github/achri19/BAM/blob/main/notebooks/Downloading_Data.ipynb\" target=\"_parent\"><img src=\"https://colab.research.google.com/assets/colab-badge.svg\" alt=\"Open In Colab\"/></a>"
   ]
  },
  {
   "cell_type": "markdown",
   "metadata": {
    "id": "466e2a39"
   },
   "source": [
    "<font size=\"8\">Preparations: Downloading Ancillary Data</font>\n",
    "\n",
    "<font size=\"3\">In this notebook, we will:\n",
    "\n",
    "- Download GEBCO, Global Mangrove Watch, and Geoid datasets that are needed for the tutorials. \n",
    "- You only need to run this notebook once to download the files, but it will take a long time and requires 15+ GB of space on your hard drive.\n"
   ]
  },
  {
   "cell_type": "markdown",
   "metadata": {
    "id": "jNhRqEni40KR"
   },
   "source": [
    "<font size=5 color='green'> If you are running in Google Colab, set the variable yes_colab = True.</font> <br>\n",
    "<font size=5 color='blue'> If you are running on your own computer, set the variable yes_colab = False </font>\n"
   ]
  },
  {
   "cell_type": "code",
   "execution_count": 1,
   "metadata": {
    "id": "gkLaKjYy4_Lv"
   },
   "outputs": [],
   "source": [
    "yes_colab = False\n"
   ]
  },
  {
   "cell_type": "markdown",
   "metadata": {
    "id": "rhp4yA4h2Njc"
   },
   "source": [
    "<font size=6> Step #1: Set working directory <br> </font>\n",
    "\n"
   ]
  },
  {
   "cell_type": "markdown",
   "metadata": {
    "id": "JkG2pXof2YoC"
   },
   "source": [
    "<font size=5 color='green'> If you are running in Google Colab, when you run the next cell, a pop-up window will appear asking you to grant access to your Google Drive. You must approve or the notebook will not work. <font> <br>\n",
    "\n"
   ]
  },
  {
   "cell_type": "code",
   "execution_count": 2,
   "metadata": {
    "colab": {
     "base_uri": "https://localhost:8080/"
    },
    "id": "s_IgSq3RgKtN",
    "outputId": "37acd745-c7b5-48b2-b9a7-d17f42d0d398"
   },
   "outputs": [
    {
     "name": "stdout",
     "output_type": "stream",
     "text": [
      "Your working directory is /Users/alchrist/Documents/GitHub/BAM\n"
     ]
    }
   ],
   "source": [
    "import os\n",
    "import sys\n",
    "from pathlib import Path\n",
    "import requests\n",
    "\n",
    "your_path = Path(os.getcwd() + '/')\n",
    "if yes_colab:\n",
    "  where_to_mount = '/content/drive/'\n",
    "  from google.colab import drive\n",
    "  drive.mount(where_to_mount, force_remount=True)\n",
    "  mounted_drive = Path(where_to_mount) / 'MyDrive' \n",
    "  sys.path.append(str(mounted_drive / 'installations'))\n",
    "  path_ancillary = mounted_drive / 'ancillary'\n",
    "  Path(mounted_drive / 'installations').mkdir(parents=True, exist_ok=True)\n",
    "\n",
    "else:\n",
    "  mounted_drive = Path(os.path.abspath(os.path.join(your_path, os.pardir)))\n",
    "  path_ancillary = mounted_drive / 'ancillary'\n",
    "\n",
    "print('Your working directory is %s' %(mounted_drive))\n",
    "\n",
    "os.chdir(mounted_drive)\n"
   ]
  },
  {
   "cell_type": "markdown",
   "metadata": {
    "id": "AXdcQrkUgUlM"
   },
   "source": [
    "<font size=6> Step #2: Install and import packages. <font> <br>"
   ]
  },
  {
   "cell_type": "markdown",
   "metadata": {
    "id": "eec5c036"
   },
   "source": [
    "<font size=5 color='green'> If you are running in Google Colab, this cell should install all Python packages you need for each tutorial. </font> <br>\n",
    "<font size=5 color='blue'> If you are running on your own computer, the packages were already installed when you installed the conda environment </font>\n"
   ]
  },
  {
   "cell_type": "code",
   "execution_count": 19,
   "metadata": {
    "colab": {
     "base_uri": "https://localhost:8080/"
    },
    "id": "1poqNGJSgKtK",
    "outputId": "56837416-361e-42dd-de48-9902bbc35181"
   },
   "outputs": [],
   "source": [
    "if yes_colab:\n",
    "  if os.path.isdir(mounted_drive / 'BAM'):\n",
    "    print('## Updating the local git repository \\n')\n",
    "    os.chdir(mounted_drive / 'BAM')\n",
    "    #!git fsck --full\n",
    "    # !git add -A \n",
    "    !git stash   \n",
    "    !git pull\n",
    "    # !rm -rf {mounted_drive/'BAM'}\n",
    "\n",
    "  else:\n",
    "    print('## Pulling the git repository with files for the tutorial\\n')\n",
    "    !git clone https://github.com/achri19/BAM.git\n"
   ]
  },
  {
   "cell_type": "code",
   "execution_count": 20,
   "metadata": {
    "colab": {
     "base_uri": "https://localhost:8080/"
    },
    "id": "m3yYQkp4P_8I",
    "outputId": "b6df527d-beb1-4edb-d309-003e07d0321a"
   },
   "outputs": [],
   "source": [
    "if yes_colab:\n",
    "  print('\\n## Installing the Python packages needed for these tutorials\\n')\n",
    "  try:\n",
    "    import geopandas as gpd\n",
    "  except:\n",
    "    !/bin/bash $mounted_drive/BAM/notebooks/install_packages_colab_debug.sh\n"
   ]
  },
  {
   "cell_type": "code",
   "execution_count": 3,
   "metadata": {
    "colab": {
     "base_uri": "https://localhost:8080/"
    },
    "id": "AWTZh_b8mHoE",
    "outputId": "99262a4a-0780-4493-a768-60240823bfc3"
   },
   "outputs": [
    {
     "name": "stdout",
     "output_type": "stream",
     "text": [
      "/Users/alchrist/Documents/GitHub/BAM/scripts\n",
      "/Users/alchrist/Documents/GitHub/BAM/ancillary\n"
     ]
    }
   ],
   "source": [
    "path_ancillary = mounted_drive / 'ancillary'\n",
    "path_code = mounted_drive / 'scripts/'\n",
    "path_templates = mounted_drive /  'templates/'\n",
    "path_configs = mounted_drive / 'configs/'\n",
    "sys.path.insert(1,str(path_code))\n",
    "print(path_code)\n",
    "print(path_ancillary)\n",
    "\n",
    "path_examples = mounted_drive / 'examples'\n",
    "Path(path_examples).mkdir(parents=True, exist_ok=True)"
   ]
  },
  {
   "cell_type": "code",
   "execution_count": 4,
   "metadata": {
    "id": "4a749118"
   },
   "outputs": [],
   "source": [
    "import pandas as pd\n",
    "import shutil\n",
    "from datetime import datetime\n",
    "from string import Template\n",
    "import fnmatch\n",
    "import geopandas as gpd\n",
    "import rasterio\n",
    "from osgeo import gdal \n",
    "import matplotlib.pyplot as plt\n",
    "import numpy as np\n",
    "import rtree\n",
    "from scipy import *\n",
    "import urllib.request\n",
    "import zipfile\n"
   ]
  },
  {
   "cell_type": "code",
   "execution_count": 5,
   "metadata": {
    "id": "CPPe7c_zQ1aE",
    "scrolled": true
   },
   "outputs": [
    {
     "name": "stderr",
     "output_type": "stream",
     "text": [
      "/Users/alchrist/Documents/GitHub/BAM/scripts/orinoco_tools.py:42: UserWarning: ShapelyDeprecationWarning\n",
      "  warnings.warn('ShapelyDeprecationWarning')\n",
      "/Users/alchrist/Documents/GitHub/BAM/scripts/orinoco_tools.py:43: UserWarning: UserWarning\n",
      "  warnings.warn('UserWarning')\n"
     ]
    }
   ],
   "source": [
    "try:\n",
    "  import pyTMD\n",
    "except:\n",
    "  !pip install pytmd\n",
    "try:\n",
    "    import skimage.measure as measure\n",
    "except:\n",
    "    !pip install scikit-image\n",
    "    \n",
    "from main_tools import (build_directory,\n",
    "                       get_extent_parameters,\n",
    "                       setup_AOI_files, \n",
    "                       make_polygons,\n",
    "                       make_channel_networks,\n",
    "                       make_model_foundation, \n",
    "                       set_boundary_conditions, \n",
    "                       make_watermask,\n",
    "                       more_opening)\n"
   ]
  },
  {
   "cell_type": "markdown",
   "metadata": {
    "id": "OzirjcG0iVR4"
   },
   "source": [
    "<font size=6> Step #3: Download to your ancillary folder <br> </font>\n",
    "\n"
   ]
  },
  {
   "cell_type": "markdown",
   "metadata": {},
   "source": [
    "# EGM08 Geoid"
   ]
  },
  {
   "cell_type": "code",
   "execution_count": 9,
   "metadata": {
    "id": "QlFK00ZePOXm"
   },
   "outputs": [],
   "source": [
    "filename = path_ancillary / 'geoids' / 'egm08_25.gtx'\n",
    "if os.path.isfile(filename)==False:\n",
    "  url = 'https://download.osgeo.org/proj/vdatum/egm08_25/egm08_25.gtx'\n",
    "  urllib.request.urlretrieve(url, filename)\n",
    "\n"
   ]
  },
  {
   "cell_type": "markdown",
   "metadata": {},
   "source": [
    "# GEBCO"
   ]
  },
  {
   "cell_type": "code",
   "execution_count": null,
   "metadata": {},
   "outputs": [],
   "source": [
    "filename = path_ancillary / 'gebco' / 'gebco.zip'\n",
    "if os.path.isfile(path_ancillary / 'gebco' / 'gebco_all.vrt')==False:\n",
    "  url = 'https://www.bodc.ac.uk/data/open_download/gebco/gebco_2022_sub_ice_topo/geotiff/'\n",
    "  \n",
    "  try:\n",
    "    urllib.request.urlretrieve(url, filename)\n",
    "  except: print('Trouble downloading GEBCO, go to this URL to download manually: https://www.bodc.ac.uk/data/open_download/gebco/gebco_2023_sub_ice_topo/geotiff/')\n",
    "  with zipfile.ZipFile(filename, 'r') as zip_ref:\n",
    "      zip_ref.extractall(path_ancillary / 'gebco' )\n",
    "\n",
    "  gebco_files = [os.path.join(dirpath,f)\n",
    "                for dirpath,dirnames, files in os.walk(path_ancillary / 'gebco')\n",
    "                for f in fnmatch.filter(files,'*gebco_2022*.tif')]\n",
    "  print(gebco_files)\n",
    "\n",
    "  with open(path_ancillary / 'gebco' / 'gebco_files.txt', 'w') as f:\n",
    "    for item in gebco_files:\n",
    "      f.write(\"%s\\n\" % item)\n",
    "  ! gdalbuildvrt -input_file_list {path_ancillary}/gebco/gebco_files.txt {path_ancillary}/gebco/gebco_all.vrt\n",
    "try: os.remove(filename)\n",
    "except:''\n"
   ]
  },
  {
   "cell_type": "markdown",
   "metadata": {},
   "source": [
    "# Global Mangrove Watch"
   ]
  },
  {
   "cell_type": "code",
   "execution_count": null,
   "metadata": {},
   "outputs": [],
   "source": [
    "filename = path_ancillary / 'gmw' / 'gmw_v3_2016_vec.zip'\n",
    "if os.path.isfile(filename)==False:\n",
    "  url = 'https://zenodo.org/record/6894273/files/gmw_v3_2016_vec.zip?download=1'\n",
    "  urllib.request.urlretrieve(url, filename)\n",
    "\n",
    "  with zipfile.ZipFile(filename, 'r') as zip_ref:\n",
    "      zip_ref.extractall(path_ancillary / 'gmw')\n",
    "\n",
    "try:os.remove(filename)\n",
    "except:''\n"
   ]
  },
  {
   "cell_type": "markdown",
   "metadata": {},
   "source": [
    "# Hydropolys Dataset"
   ]
  },
  {
   "cell_type": "code",
   "execution_count": null,
   "metadata": {},
   "outputs": [],
   "source": [
    "filename = path_ancillary / 'hydropolys' / 'hydropolys.zip'\n",
    "if os.path.isfile(filename)==False:\n",
    "  url = 'http://faculty.baruch.cuny.edu/geoportal/data/esri/world/hydropolys.zip'\n",
    "  urllib.request.urlretrieve(url, filename)\n",
    "\n",
    "  with zipfile.ZipFile(filename, 'r') as zip_ref:\n",
    "      zip_ref.extractall(path_ancillary / 'hydropolys')\n",
    "\n"
   ]
  },
  {
   "cell_type": "markdown",
   "metadata": {},
   "source": [
    "# HydroLAKES Dataset\n"
   ]
  },
  {
   "cell_type": "code",
   "execution_count": 8,
   "metadata": {},
   "outputs": [],
   "source": [
    "headers = {'User-Agent': 'Mozilla/5.0 (Macintosh; Intel Mac OS X 10.15; rv:125.0) Gecko/20100101 Firefox/125.0'}\n",
    "filename = path_ancillary / 'HydroLAKES_polys_v10_shp.shp' \n",
    "if os.path.isfile(filename)==False:\n",
    "    url = 'https://data.hydrosheds.org/file/hydrolakes/HydroLAKES_polys_v10_shp.zip'\n",
    "    result = requests.get(url, headers=headers)\n",
    "    with open(filename, 'wb') as f:\n",
    "        f.write(result.content)\n",
    "    with zipfile.ZipFile(filename, 'r') as zip_ref:\n",
    "      zip_ref.extractall(path_ancillary / 'hydrolakes')\n",
    "    try:os.remove(filename)\n",
    "    except:''  "
   ]
  },
  {
   "cell_type": "code",
   "execution_count": null,
   "metadata": {},
   "outputs": [],
   "source": []
  }
 ],
 "metadata": {
  "colab": {
   "include_colab_link": true,
   "provenance": []
  },
  "kernelspec": {
   "display_name": "ecosystems_atbd",
   "language": "python",
   "name": "ecosystems_atbd"
  },
  "language_info": {
   "codemirror_mode": {
    "name": "ipython",
    "version": 3
   },
   "file_extension": ".py",
   "mimetype": "text/x-python",
   "name": "python",
   "nbconvert_exporter": "python",
   "pygments_lexer": "ipython3",
   "version": "3.11.5"
  }
 },
 "nbformat": 4,
 "nbformat_minor": 4
}
