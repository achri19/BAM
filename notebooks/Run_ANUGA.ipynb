{
 "cells": [
  {
   "cell_type": "markdown",
   "id": "466e2a39",
   "metadata": {
    "id": "466e2a39"
   },
   "source": [
    "<font size=\"5\">Run the ANUGA Model (BYOAM) </font>\n",
    "\n",
    "<font size=\"3\">In this notebook, we will:\n",
    "\n",
    "- initiate the model with elevation, friction, stage\n",
    "- set the boundary conditions\n",
    "- run the model!\n",
    "\n",
    "\n",
    "\n",
    "</font>\n",
    "\n",
    "<font size=\"3\">Before you can run this notebook, you should have run the 4_Build_ANUGA_Mesh</font>\n"
   ]
  },
  {
   "cell_type": "markdown",
   "id": "jNhRqEni40KR",
   "metadata": {
    "id": "jNhRqEni40KR"
   },
   "source": [
    "<font size=5 color='green'> If you are running in Google Colab, set the variable yes_colab = True. If you are running on your own computer, set the variable yes_colab = False </font>\n"
   ]
  },
  {
   "cell_type": "code",
   "execution_count": 1,
   "id": "gkLaKjYy4_Lv",
   "metadata": {
    "id": "gkLaKjYy4_Lv"
   },
   "outputs": [],
   "source": [
    "yes_colab = False"
   ]
  },
  {
   "cell_type": "code",
   "execution_count": 2,
   "id": "5704d852",
   "metadata": {},
   "outputs": [],
   "source": [
    "import sys\n",
    "import os\n",
    "from pathlib import Path\n",
    "your_path = Path(os.getcwd())"
   ]
  },
  {
   "cell_type": "markdown",
   "id": "rhp4yA4h2Njc",
   "metadata": {
    "id": "rhp4yA4h2Njc"
   },
   "source": [
    "<font size=5> Step #1: Mount Google Drive and Grant Access <font> <br>\n",
    "\n",
    "\n"
   ]
  },
  {
   "cell_type": "markdown",
   "id": "JkG2pXof2YoC",
   "metadata": {
    "id": "JkG2pXof2YoC"
   },
   "source": [
    "<font size=3> When you run the next cell, a pop-up window will appear asking you to grant access to your Google Drive. You must approve or the notebook will not work. <font> <br>\n"
   ]
  },
  {
   "cell_type": "code",
   "execution_count": 3,
   "id": "s_IgSq3RgKtN",
   "metadata": {
    "colab": {
     "base_uri": "https://localhost:8080/"
    },
    "id": "s_IgSq3RgKtN",
    "outputId": "3e76885d-5f98-4ecd-8504-e4d7b50e7307"
   },
   "outputs": [
    {
     "name": "stdout",
     "output_type": "stream",
     "text": [
      "Your working directory is /Users/alchrist/Documents/GitHub/BAM\n"
     ]
    }
   ],
   "source": [
    "if yes_colab:\n",
    "  where_to_mount = '/content/drive/'\n",
    "  from google.colab import drive\n",
    "  drive.mount(where_to_mount, force_remount=True)\n",
    "  mounted_drive = where_to_mount + 'MyDrive/' \n",
    "  sys.path.append('/content/drive/MyDrive/installations')\n",
    "else:\n",
    "  mounted_drive = Path(os.path.abspath(os.path.join(your_path, os.pardir)))\n",
    "\n",
    "print('Your working directory is %s' %(mounted_drive))"
   ]
  },
  {
   "cell_type": "markdown",
   "id": "AXdcQrkUgUlM",
   "metadata": {
    "id": "AXdcQrkUgUlM"
   },
   "source": [
    "<font size=5> Step #2: Install packages. <font> <br>\n",
    "<font size=3> This cell should install all Python packages you need for each tutorial.<font>"
   ]
  },
  {
   "cell_type": "code",
   "execution_count": 4,
   "id": "1poqNGJSgKtK",
   "metadata": {
    "colab": {
     "base_uri": "https://localhost:8080/"
    },
    "id": "1poqNGJSgKtK",
    "outputId": "534432b7-01c8-4794-8b95-1ff24ed23bef"
   },
   "outputs": [],
   "source": [
    "import os\n",
    "os.chdir(mounted_drive)\n",
    "if yes_colab:\n",
    "  if os.path.isdir(mounted_drive / 'BAM'):\n",
    "    print('## Updating the local git repository \\n')\n",
    "    os.chdir(mounted_drive / 'BAM')\n",
    "    #!git fsck --full\n",
    "    # !git add -A \n",
    "    !git stash   \n",
    "    !git pull\n",
    "    # !rm -rf {mounted_drive/'BAM'}\n",
    "\n",
    "  else:\n",
    "    print('## Pulling the git repository with files for the tutorial\\n')\n",
    "    !git clone https://github.com/achri19/BAM.git\n"
   ]
  },
  {
   "cell_type": "code",
   "execution_count": 5,
   "id": "YVxndn1nKB4l",
   "metadata": {
    "colab": {
     "base_uri": "https://localhost:8080/"
    },
    "id": "YVxndn1nKB4l",
    "outputId": "91a425fb-f5db-4690-b615-27e4b99c6c6e"
   },
   "outputs": [
    {
     "name": "stdout",
     "output_type": "stream",
     "text": [
      "/Users/alchrist/Documents/GitHub/BAM\n"
     ]
    }
   ],
   "source": [
    "print(mounted_drive)"
   ]
  },
  {
   "cell_type": "markdown",
   "id": "tqD-wrOGvE2I",
   "metadata": {
    "id": "tqD-wrOGvE2I"
   },
   "source": [
    "<font size=5> Step #3: Set up working directories<font> \n"
   ]
  },
  {
   "cell_type": "markdown",
   "id": "QgL2wZHj16ze",
   "metadata": {
    "id": "QgL2wZHj16ze"
   },
   "source": [
    "<font size=3> We will access data files stored on a shared Google Drive. You will also need to save files to your own Google Drive.<font>\n",
    "\n"
   ]
  },
  {
   "cell_type": "code",
   "execution_count": 6,
   "id": "e6f3e16b",
   "metadata": {},
   "outputs": [
    {
     "name": "stdout",
     "output_type": "stream",
     "text": [
      "/Users/alchrist/Documents/GitHub/BAM/scripts\n"
     ]
    }
   ],
   "source": [
    "path_ancillary = mounted_drive / 'ancillary'\n",
    "path_code = mounted_drive / 'scripts'\n",
    "path_templates = mounted_drive /  'templates'\n",
    "path_configs = mounted_drive / 'configs'\n",
    "path_notebooks = mounted_drive / 'notebooks'\n",
    "sys.path.insert(1,str(path_code))\n",
    "print(path_code)\n",
    "\n",
    "path_examples = mounted_drive / 'examples'\n",
    "Path(path_examples).mkdir(parents=True, exist_ok=True)"
   ]
  },
  {
   "cell_type": "code",
   "execution_count": 7,
   "id": "UnopBCZuT1Es",
   "metadata": {
    "colab": {
     "base_uri": "https://localhost:8080/"
    },
    "id": "UnopBCZuT1Es",
    "outputId": "39d392fb-8dc4-41df-a461-cfeb0b977c2c"
   },
   "outputs": [
    {
     "name": "stdout",
     "output_type": "stream",
     "text": [
      "Archive:  /Users/alchrist/Documents/GitHub/BAM/notebooks/komo.zip\r\n"
     ]
    }
   ],
   "source": [
    "## All necessary files are zipped here\n",
    "!unzip -n $path_notebooks/komo.zip -d $path_examples \n",
    "\n",
    "## !unzip -n komo_estuary_tutorial/komo_starter.zip -d $mounted_drive \n"
   ]
  },
  {
   "cell_type": "markdown",
   "id": "3mnrUfhr3NWW",
   "metadata": {
    "id": "3mnrUfhr3NWW"
   },
   "source": [
    "<font size=5> Step #4: Now we will import Python packages, which will be used for future tutorials. If there are any errors, try rerunning the first cell <font> \n",
    "\n",
    "\n"
   ]
  },
  {
   "cell_type": "code",
   "execution_count": 8,
   "id": "974559f1",
   "metadata": {
    "colab": {
     "base_uri": "https://localhost:8080/"
    },
    "id": "974559f1",
    "outputId": "3ea7b69d-a2b6-48f6-d7f7-70c944f0927e"
   },
   "outputs": [
    {
     "name": "stderr",
     "output_type": "stream",
     "text": [
      "/var/folders/29/4c92_fhn3_g9d625mvc8mrth0000gq/T/ipykernel_82582/2126292836.py:12: DeprecationWarning: Shapely 2.0 is installed, but because PyGEOS is also installed, GeoPandas still uses PyGEOS by default. However, starting with version 0.14, the default will switch to Shapely. To force to use Shapely 2.0 now, you can either uninstall PyGEOS or set the environment variable USE_PYGEOS=0. You can do this before starting the Python process, or in your code before importing geopandas:\n",
      "\n",
      "import os\n",
      "os.environ['USE_PYGEOS'] = '0'\n",
      "import geopandas\n",
      "\n",
      "In the next release, GeoPandas will switch to using Shapely by default, even if PyGEOS is installed. If you only have PyGEOS installed to get speed-ups, this switch should be smooth. However, if you are using PyGEOS directly (calling PyGEOS functions on geometries from GeoPandas), this will then stop working and you are encouraged to migrate from PyGEOS to Shapely 2.0 (https://shapely.readthedocs.io/en/latest/migration_pygeos.html).\n",
      "  import geopandas as gpd\n"
     ]
    }
   ],
   "source": [
    "# Standard packages\n",
    "import os\n",
    "import time\n",
    "import sys\n",
    "import fnmatch\n",
    "import numpy as np\n",
    "import scipy\n",
    "import scipy.interpolate\n",
    "import pandas as pd\n",
    "from datetime import datetime\n",
    "from string import Template\n",
    "import geopandas as gpd\n",
    "from shapely.geometry import Polygon, Point\n",
    "import rasterio\n",
    "from pathlib import Path\n",
    "from shapely.geometry import LineString\n",
    "from osgeo import gdal\n",
    "\n",
    "## ANUGA packages\n",
    "import anuga\n",
    "from anuga.utilities.plot_utils import Make_Geotif\n",
    "from anuga.coordinate_transforms.geo_reference import Geo_reference\n",
    "from anuga.utilities import animate\n",
    "from anuga import myid, numprocs, finalize, barrier, Inlet_operator\n",
    "\n",
    "## Plotting modules\n",
    "import matplotlib.pyplot as plt\n",
    "import matplotlib as mpl\n",
    "mpl.rcParams['agg.path.chunksize'] = 10000\n",
    "\n",
    "#mpl.rcParams['animation.ffmpeg_path'] = r'/Users/alchrist/Downloads/ffmpeg'\n",
    "## If you get an error with producing animation plots, uncomment the line above and add directory for ffmpeg (r'/PATH/TO/ffmpeg')\n",
    "import matplotlib.animation as animation\n",
    "writer = animation.FFMpegWriter(fps=60)\n",
    "\n"
   ]
  },
  {
   "cell_type": "code",
   "execution_count": 9,
   "id": "599078d4",
   "metadata": {},
   "outputs": [],
   "source": [
    "try:\n",
    "  import pyTMD\n",
    "except:\n",
    "  !pip install pytmd\n",
    "\n",
    "from main_tools import (build_directory,\n",
    "                       get_extent_parameters,\n",
    "                       setup_AOI_files, \n",
    "                       make_polygons,\n",
    "                       make_channel_networks,\n",
    "                       make_model_foundation, \n",
    "                       set_boundary_conditions, \n",
    "                       make_watermask,\n",
    "                       more_opening)\n"
   ]
  },
  {
   "cell_type": "markdown",
   "id": "dVsVBIhJH7Pi",
   "metadata": {
    "id": "dVsVBIhJH7Pi"
   },
   "source": [
    "<font size= 5 color = 'red'> Copy the AOI and elevationpath from the previous notebook into the cell below:"
   ]
  },
  {
   "cell_type": "code",
   "execution_count": 10,
   "id": "oI7kNab1H7Pj",
   "metadata": {
    "colab": {
     "base_uri": "https://localhost:8080/"
    },
    "id": "oI7kNab1H7Pj",
    "outputId": "ff77f9c8-e561-4f6d-ef14-6c526b0c5362"
   },
   "outputs": [
    {
     "name": "stdout",
     "output_type": "stream",
     "text": [
      "\n",
      "\n",
      "Study area is komo\n",
      "Resolution of this setup is 30m\n",
      "\n",
      "\n",
      "\n",
      "##############################################################################################\n",
      "################################[Step 1][Build Directory]#####################################\n",
      "##############################################################################################\n",
      "\n",
      "##################### The working directory set as: \n",
      "\n",
      "/Users/alchrist/Documents/GitHub/BAM/examples/komo\n",
      " \n",
      "##################### Folders are:\n",
      "##################### 0 User_Defined_Files --> User shapefile of model domain and water mask\n",
      "##################### 1 tmp --> For temporary files\n",
      "##################### 3 Meshes --> Where we will build model meshes\n",
      "##################### 4 DEMs --> Where we will build digital elevation models\n",
      "##################### 5 Boundaries --> Where we will store boundary files\n",
      "##################### 6 Simulations --> Where we will run simulations\n",
      "##################### 7 Setup_Files/Setup_SHP --> Shapefiles for setup \n",
      "##################### 8 Setup_Files/Setup_RST --> Rasters for setup\n",
      "##################### 9 Setup_Files/Setup_FIG --> Figures\n",
      "\n",
      "[Step 1][Build Directory] Finished .......\n",
      "\n",
      "/Users/alchrist/Documents/GitHub/BAM/examples/komo\n"
     ]
    }
   ],
   "source": [
    "AOI = 'komo'\n",
    "\n",
    "Path((path_examples / AOI)).mkdir(parents=True, exist_ok=True)\n",
    "\n",
    "skip = False\n",
    "res = 30 #meters\n",
    "print('\\n')\n",
    "print('Study area is ' + AOI)\n",
    "print('Resolution of this setup is %sm' %(res))\n",
    "\n",
    "working_path,folders = build_directory(path_examples, AOI)\n",
    "working_path = Path(working_path)\n",
    "print(working_path)\n",
    "\n"
   ]
  },
  {
   "cell_type": "markdown",
   "id": "c44a65f7",
   "metadata": {
    "id": "c44a65f7"
   },
   "source": [
    "<font size= 5 color = 'red'> Copy the AOI and elevationpath from the previous notebook into the cell below:"
   ]
  },
  {
   "cell_type": "markdown",
   "id": "91e3e402",
   "metadata": {
    "id": "91e3e402"
   },
   "source": [
    "<font size=3> Give the name of your study area, must be the same in all notebooks </font>\n"
   ]
  },
  {
   "cell_type": "code",
   "execution_count": 11,
   "id": "74da1ae4",
   "metadata": {
    "colab": {
     "base_uri": "https://localhost:8080/"
    },
    "id": "74da1ae4",
    "outputId": "cbb9bb8d-cc71-4eb7-e998-3ad5f7ae1cbe"
   },
   "outputs": [
    {
     "name": "stdout",
     "output_type": "stream",
     "text": [
      "DEM = /Users/alchrist/Documents/GitHub/BAM/examples/komo/DEMs/Elevation_ocean-GEBCO_land-GLO30_above1260m-wdpower_below1260m-plane_wetland-uni05m_lakes-uni1m_30\n",
      "MESH = /Users/alchrist/Documents/GitHub/BAM/examples/komo/Meshes/Meshes_base_100000m2/Meshes_base_100000m2.tsh\n"
     ]
    }
   ],
   "source": [
    "elev_name = folders[4] / 'Elevation_ocean-GEBCO_land-GLO30_above1260m-wdpower_below1260m-plane_wetland-uni05m_lakes-uni1m_30'\n",
    "print('DEM = %s' %(elev_name))\n",
    "\n",
    "mesh_name = folders[3] / 'Meshes_base_100000m2' / 'Meshes_base_100000m2.tsh'\n",
    "print('MESH = %s' %(mesh_name))\n",
    "\n",
    "inletLAT = 19092.\n",
    "inletLON = 608911.\n",
    "tideLAT = 31223.17\n",
    "tideLON = 502794.61 \n",
    "tideLAT_4326 = 0.2825\n",
    "tideLON_4326 = 9.0253\n",
    "\n",
    "boundary_types = ('Br','Bout')"
   ]
  },
  {
   "cell_type": "code",
   "execution_count": 12,
   "id": "6a341c72",
   "metadata": {
    "id": "6a341c72"
   },
   "outputs": [],
   "source": [
    "tide_data = np.genfromtxt(folders[5] / ('Tide_LAT%s_LON%s' %(tideLAT_4326,tideLON_4326)) / ('%s_tides_20100101.csv' %(AOI)),delimiter=',')\n"
   ]
  },
  {
   "cell_type": "code",
   "execution_count": 13,
   "id": "2ca70462",
   "metadata": {
    "colab": {
     "base_uri": "https://localhost:8080/"
    },
    "id": "2ca70462",
    "outputId": "a569bf5e-5121-4559-8de4-8ca50eb7ea24"
   },
   "outputs": [
    {
     "name": "stdout",
     "output_type": "stream",
     "text": [
      "Unnamed: 0.1                               0\n",
      "Unnamed: 0                                 0\n",
      "AOI                                     komo\n",
      "RiverOceanBoundary                      1260\n",
      "Discharge                                426\n",
      "LandcoverMethod                   WorldCover\n",
      "LandElevMethod                         GLO30\n",
      "OceanElevMethod                        GEBCO\n",
      "LowerRiverElevMethod                   plane\n",
      "UpperRiverElevMethod                 wdpower\n",
      "WetlandElevMethod               constant_0.5\n",
      "LakeElevMethod                    constant_1\n",
      "ManningLUT                           default\n",
      "WetlandClass                              90\n",
      "WD_POWERA_upper                       0.0606\n",
      "WD_POWERB_upper                       0.7732\n",
      "MaxOceanDepth                           -300\n",
      "MaxNearshoreDepth                       -300\n",
      "MaxRiverDepth                           -300\n",
      "MaxRiverWidth                            756\n",
      "ulx                                   501794\n",
      "lry                                    -2259\n",
      "lrx                                   610154\n",
      "uly                                    64701\n",
      "EPSG                                   32232\n",
      "MeshName                Meshes_base_100000m2\n",
      "Name: 0, dtype: object\n"
     ]
    }
   ],
   "source": [
    "parameters = pd.read_csv(folders[6] / ('config_%s.csv' %(AOI)))\n",
    "\n",
    "EPSG = int(parameters['EPSG'])\n",
    "landcovermethod = parameters['LandcoverMethod'][0]\n",
    "discharge = 300\n",
    "\n",
    "print(parameters.iloc[0] )"
   ]
  },
  {
   "cell_type": "code",
   "execution_count": 14,
   "id": "22793b55",
   "metadata": {
    "id": "22793b55"
   },
   "outputs": [],
   "source": [
    "now = datetime.now()\n",
    "startdate = '20210101'\n",
    "enddate = '20210103'\n",
    "simu_length    = (datetime.strptime(enddate,'%Y%m%d')-datetime.strptime(startdate,'%Y%m%d')).days\n"
   ]
  },
  {
   "cell_type": "code",
   "execution_count": 15,
   "id": "27479d9c",
   "metadata": {
    "colab": {
     "base_uri": "https://localhost:8080/"
    },
    "id": "27479d9c",
    "outputId": "df072bee-6d99-41ab-9ef9-47fc7cfc97c9"
   },
   "outputs": [
    {
     "name": "stdout",
     "output_type": "stream",
     "text": [
      "Test1\n",
      "/Users/alchrist/Documents/GitHub/BAM/examples/komo/Simulations/Test1\n"
     ]
    }
   ],
   "source": [
    "scenario = 'Test1'\n",
    "print(scenario)\n",
    "modelpath = folders[6] / scenario\n",
    "print(modelpath)\n",
    "\n",
    "Path((folders[6] / scenario)).mkdir(parents=True, exist_ok=True)\n",
    "os.chdir(modelpath)\n",
    "\n"
   ]
  },
  {
   "cell_type": "code",
   "execution_count": 16,
   "id": "OaEUkSrL87A1",
   "metadata": {
    "id": "OaEUkSrL87A1"
   },
   "outputs": [],
   "source": [
    "from rasterio.mask import mask\n",
    "AOI_extent = gpd.read_file(folders[7] / ('%s_extent_%s.shp' %(AOI,EPSG)))\n",
    "watermask = rasterio.open(folders[8] / ('%s_watermask_%s.tif' %(AOI,res)))\n",
    "masked, mask_transform = mask(dataset=watermask,shapes=AOI_extent.geometry,crop=False)\n",
    "masked = np.where(masked==-9999,np.nan,masked)\n",
    "\n",
    "origin_x = watermask.profile['transform'][2]\n",
    "origin_y = watermask.profile['transform'][5]\n"
   ]
  },
  {
   "cell_type": "code",
   "execution_count": null,
   "id": "32a5f9f5",
   "metadata": {
    "colab": {
     "base_uri": "https://localhost:8080/",
     "height": 556
    },
    "id": "32a5f9f5",
    "outputId": "b2127ccf-1cb4-4ada-a68f-62c3b06e0eb5",
    "scrolled": false
   },
   "outputs": [],
   "source": [
    "fig,[ax2,ax3] = plt.subplots(nrows=2,figsize=(20,10))\n",
    "\n",
    "ax2.plot(tide_data[:,0],tide_data[:,1],'black')\n",
    "\n",
    "ax3.imshow(masked[0],'gray')\n",
    "ax3.scatter((inletLON-origin_x)/res,(origin_y - inletLAT)/res, s=100, c='red', marker='o',label='Discharge Inlet')\n",
    "ax3.scatter((tideLON-origin_x)/res,(origin_y - tideLAT)/res, s=100, c='cyan', marker='s',label='Tide Boundary')\n",
    "ax3.legend()\n",
    "\n",
    "plt.savefig(folders[5] / ('%s_model_boundaries_TideLAT%s_TideLON%s_InletLAT%s_InletLON%s.png' %(AOI,tideLAT,tideLON,inletLAT,inletLON)),bbox_inches='tight')"
   ]
  },
  {
   "cell_type": "code",
   "execution_count": null,
   "id": "6e2f455d",
   "metadata": {
    "id": "6e2f455d"
   },
   "outputs": [],
   "source": [
    "geo_reference = Geo_reference(zone=EPSG,\n",
    "                                datum='wgs84',\n",
    "                                projection='UTM',\n",
    "                                false_easting=500000,\n",
    "                                false_northing=0)\n",
    "\n",
    "domain = anuga.create_domain_from_file(str(mesh_name))\n",
    "domain.set_name(scenario) # Name of sww file\n",
    "domain.set_datadir(str(modelpath))\n",
    "domain.set_low_froude(1)\n",
    "domain.set_flow_algorithm('DE1')\n",
    "domain.set_minimum_allowed_height(0.02)\n",
    "domain.report_water_volume_statistics\n",
    "#print(domain.statistics())\n",
    "domain.store_centroids = True\n",
    "##############################################################################\n",
    "##############################################################################"
   ]
  },
  {
   "cell_type": "markdown",
   "id": "uc0uMXgxtDq9",
   "metadata": {
    "id": "uc0uMXgxtDq9"
   },
   "source": [
    "<font size=5 color='red'> Apply the DEM to the model domain </font>"
   ]
  },
  {
   "cell_type": "code",
   "execution_count": null,
   "id": "835b2ed7",
   "metadata": {
    "colab": {
     "base_uri": "https://localhost:8080/"
    },
    "id": "835b2ed7",
    "outputId": "7d710142-a0ef-44cb-feba-9ecc291969b1"
   },
   "outputs": [],
   "source": [
    "## Bed elevation\n",
    "\n",
    "gdal.Translate(str(elev_name) + '.asc', str(elev_name) + '.tif', format='AAIGrid',noData =-9999)\n",
    "domain.set_quantity('elevation', filename= str(elev_name) + '.asc', location = 'centroids')\n",
    "print('################################# Elevation made with:     %s_%s.asc' %(AOI,elev_name))\n"
   ]
  },
  {
   "cell_type": "markdown",
   "id": "vykP8ok2tJyp",
   "metadata": {
    "id": "vykP8ok2tJyp"
   },
   "source": [
    "<font size=5 color='red'> Apply the Manning coefficients to the model domain </font>"
   ]
  },
  {
   "cell_type": "code",
   "execution_count": null,
   "id": "ddcb791b",
   "metadata": {
    "colab": {
     "base_uri": "https://localhost:8080/"
    },
    "id": "ddcb791b",
    "outputId": "14fb1027-5e34-45a6-defa-df6010744df3"
   },
   "outputs": [],
   "source": [
    "## Manning roughness\n",
    "\n",
    "gdal.Translate(str(folders[8] / ('%s_manning.asc' %(AOI))), str(folders[8] / ('%s_manning_%s.tif' %(AOI,landcovermethod))),format='AAIGrid',noData=-9999)\n",
    "domain.set_quantity('friction', filename= str(folders[8] / ('%s_manning.asc' %(AOI))), location='centroids')        # Constant friction\n",
    "print('################################# Friction set with:      %s_manning.asc' %(AOI))\n",
    "\n"
   ]
  },
  {
   "cell_type": "markdown",
   "id": "rTiFDpxztXrt",
   "metadata": {
    "id": "rTiFDpxztXrt"
   },
   "source": [
    "<font size=5 color='red'> Set an initial water level on top of the model </font>"
   ]
  },
  {
   "cell_type": "code",
   "execution_count": null,
   "id": "bb60a5e9",
   "metadata": {
    "colab": {
     "base_uri": "https://localhost:8080/"
    },
    "id": "bb60a5e9",
    "outputId": "d744787c-d390-472d-9117-616994a5118d"
   },
   "outputs": [],
   "source": [
    "## Stage\n",
    "domain.set_quantity('stage', -0.1,location='centroids')\n",
    "print('################################# Initial stage set with at -0.1m')"
   ]
  },
  {
   "cell_type": "markdown",
   "id": "-58knPwOtgjX",
   "metadata": {
    "id": "-58knPwOtgjX"
   },
   "source": [
    "<font size=5 color='red'> Make some plots </font>"
   ]
  },
  {
   "cell_type": "code",
   "execution_count": null,
   "id": "3ced8a2e",
   "metadata": {
    "colab": {
     "base_uri": "https://localhost:8080/",
     "height": 494
    },
    "id": "3ced8a2e",
    "outputId": "31915c08-59d3-4db9-9ded-ef33a8d9bc6b"
   },
   "outputs": [],
   "source": [
    "fig = plt.figure(figsize=(10,10))\n",
    "dplotter = animate.Domain_plotter(domain,plot_dir = str(modelpath / 'plot'))\n",
    "plt.triplot(dplotter.triang,linewidth=0.1)\n",
    "plt.axis('scaled')\n",
    "plt.tight_layout()\n",
    "plt.savefig(modelpath / 'plot'/ ('mesh%s.png' %(myid)))"
   ]
  },
  {
   "cell_type": "code",
   "execution_count": null,
   "id": "ad83f1a7",
   "metadata": {
    "colab": {
     "base_uri": "https://localhost:8080/"
    },
    "id": "ad83f1a7",
    "outputId": "9ae430eb-d0ac-46d5-925e-456b5555e433"
   },
   "outputs": [],
   "source": [
    "domain.print_algorithm_parameters()"
   ]
  },
  {
   "cell_type": "markdown",
   "id": "L5t5tcc4uBiq",
   "metadata": {
    "id": "L5t5tcc4uBiq"
   },
   "source": [
    "<font size=5 color='red'> Set tidal boundary and apply tide data </font>"
   ]
  },
  {
   "cell_type": "code",
   "execution_count": null,
   "id": "347075dd",
   "metadata": {
    "id": "347075dd"
   },
   "outputs": [],
   "source": [
    "start_tides = (datetime.strptime(startdate,'%Y%m%d') - datetime.strptime('20100101','%Y%m%d')).days * 24 +1\n",
    "end_tides = start_tides + (simu_length) * 24 +1\n",
    "stage_time_fun = scipy.interpolate.interp1d(\n",
    "    tide_data[:simu_length*24+1, 0],\n",
    "    tide_data[start_tides:end_tides, 1])\n",
    "\n"
   ]
  },
  {
   "cell_type": "code",
   "execution_count": null,
   "id": "37968c12",
   "metadata": {
    "id": "37968c12"
   },
   "outputs": [],
   "source": [
    "domain.set_boundary({'North': anuga.Reflective_boundary(domain), \n",
    "                     'East': anuga.Reflective_boundary(domain), \n",
    "                     'South': anuga.Reflective_boundary(domain), \n",
    "                     'West': anuga.Time_boundary(domain,function=lambda t: [stage_time_fun(t),0.0,0.0])})"
   ]
  },
  {
   "cell_type": "code",
   "execution_count": null,
   "id": "121a4600",
   "metadata": {
    "colab": {
     "base_uri": "https://localhost:8080/",
     "height": 709
    },
    "id": "121a4600",
    "outputId": "d98cc03d-7474-44e6-e9ab-020f5529bb90"
   },
   "outputs": [],
   "source": [
    "fig = plt.figure(figsize = (5,5), facecolor = 'w', edgecolor = 'k')\n",
    "plt.plot(tide_data[:simu_length*24, 0], stage_time_fun(tide_data[:simu_length*24, 0]), color = 'black')\n",
    "plt.xlabel(\"Simulation Time (seconds)\")\n",
    "plt.ylabel(\"Water Level (m)\")\n",
    "plt.title(\"Tide Estimations for %s-%s\" %(startdate,enddate))\n",
    "plt.savefig(modelpath / 'plot' / ('%s_tides.png' %(AOI)))\n",
    "\n",
    "print('################################# Boundaries set as: \\nNorth: %s\\nEast: %s\\nSouth: %s\\nWest: %s' %('Br','Br','Br','Bout'))\n"
   ]
  },
  {
   "cell_type": "markdown",
   "id": "oBJin2NRuHBb",
   "metadata": {
    "id": "oBJin2NRuHBb"
   },
   "source": [
    "<font size=5 color='red'> Set a point of discharge and set the steady state discharge value (m3/s)</font>"
   ]
  },
  {
   "cell_type": "code",
   "execution_count": null,
   "id": "f0880bf6",
   "metadata": {
    "id": "f0880bf6"
   },
   "outputs": [],
   "source": [
    "## Set upstream discharge boundary\n",
    "center = (inletLON,inletLAT)\n",
    "radius = 5000\n",
    "fixed_inflow = None\n"
   ]
  },
  {
   "cell_type": "code",
   "execution_count": null,
   "id": "32f66bfa",
   "metadata": {
    "colab": {
     "base_uri": "https://localhost:8080/"
    },
    "id": "32f66bfa",
    "outputId": "b8ebf290-9c8d-4f90-8123-bfc54892f6c4",
    "scrolled": true
   },
   "outputs": [],
   "source": [
    "line0 = [[center[0],center[1]],[center[0]-5,center[1]]]\n",
    "fixed_inflow = Inlet_operator(domain,line0,Q=discharge,logging=True, description='upstream river', verbose = True)\n",
    "if fixed_inflow is not None:\n",
    "    print('################################# Discharge of %s m^3/s is input at (%s,%s)' %(discharge,center[0],center[1]))\n",
    "    fixed_inflow.print_statistics()\n"
   ]
  },
  {
   "cell_type": "markdown",
   "id": "0pB-sQYbu4QB",
   "metadata": {
    "id": "0pB-sQYbu4QB"
   },
   "source": [
    "<font size=5 color='red'> Start the simulation! </font>"
   ]
  },
  {
   "cell_type": "code",
   "execution_count": null,
   "id": "6fce65c1",
   "metadata": {
    "colab": {
     "base_uri": "https://localhost:8080/",
     "height": 616
    },
    "id": "6fce65c1",
    "outputId": "a27bc5ad-58cb-47ea-c9af-5082087a9484",
    "scrolled": false
   },
   "outputs": [],
   "source": [
    "startnow = datetime.now()\n",
    "print('################################# Starting Simulation at %s' %(startnow.strftime(\"%d/%m/%Y %H:%M:%S\")))\n",
    "print('################################# Simulation will run from %s to %s' %(startdate, enddate))\n",
    "print('################################# Simulation length will be %s days, %s seconds' %(simu_length,simu_length*24*60*60))\n",
    "print('################################# SWW file will be: ' + scenario )# Evolve system through time\n",
    "\n",
    "sys.stdout.flush()\n",
    "\n",
    "#------------------------------------------------------------------------------\n",
    "for t in domain.evolve(yieldstep=900, duration=(simu_length*24*60*60)):\n",
    "  domain.print_timestepping_statistics()\n",
    "  #domain.report_water_volume_statistics()\n",
    "  sys.stdout.flush()\n",
    "\n",
    "endnow = datetime.now()\n",
    "print('################################# Completed Simulation at %s' %(endnow.strftime(\"%d/%m/%Y %H:%M:%S\")))\n",
    "\n",
    "anuga.finalize()"
   ]
  },
  {
   "cell_type": "markdown",
   "id": "Ku4gSI6j5yyt",
   "metadata": {
    "id": "Ku4gSI6j5yyt"
   },
   "source": [
    "<font size=5 color='red'> Done running the model. Move on to the next notebook 6_Post_Process.ipynb </font>\n",
    "\n",
    "\n",
    "<font size=3 > Computation time depends on your computer. For mine, 900s (15 minute) of simulation required 26s of real time. The full simulation (48 hours), required 1 hour and 20 minutes. </font>"
   ]
  },
  {
   "cell_type": "code",
   "execution_count": null,
   "id": "b2f702c1",
   "metadata": {
    "id": "b2f702c1"
   },
   "outputs": [],
   "source": [
    "print(scenario)\n",
    "print(modelpath)"
   ]
  },
  {
   "cell_type": "markdown",
   "id": "IsLAjangMYXo",
   "metadata": {
    "id": "IsLAjangMYXo"
   },
   "source": []
  }
 ],
 "metadata": {
  "colab": {
   "provenance": []
  },
  "kernelspec": {
   "display_name": "Python 3 (ipykernel)",
   "language": "python",
   "name": "python3"
  },
  "language_info": {
   "codemirror_mode": {
    "name": "ipython",
    "version": 3
   },
   "file_extension": ".py",
   "mimetype": "text/x-python",
   "name": "python",
   "nbconvert_exporter": "python",
   "pygments_lexer": "ipython3",
   "version": "3.10.12"
  }
 },
 "nbformat": 4,
 "nbformat_minor": 5
}
