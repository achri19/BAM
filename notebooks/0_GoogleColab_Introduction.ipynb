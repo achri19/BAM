{
 "cells": [
  {
   "cell_type": "markdown",
   "id": "ed7f4835",
   "metadata": {
    "colab_type": "text",
    "id": "view-in-github"
   },
   "source": [
    "<a href=\"https://colab.research.google.com/github/achri19/BAM/blob/main/notebooks/GoogleColab_Introduction.ipynb\" target=\"_parent\"><img src=\"https://colab.research.google.com/assets/colab-badge.svg\" alt=\"Open In Colab\"/></a>"
   ]
  },
  {
   "cell_type": "markdown",
   "id": "eaeb330a",
   "metadata": {
    "id": "eaeb330a"
   },
   "source": [
    "<font size=\"8\">Using Google Colab </font>\n",
    "\n",
    "<font size=\"3\">In this notebook, we will:\n",
    "\n",
    "- Setup Google Colab\n",
    "\n",
    "- Install packages\n",
    "\n",
    "\n",
    "- Mount Google Drive </font>\n",
    "\n",
    "\n",
    "<font size=\"3\">This will require a Google account and you will need to grant access to your Google Drive, where we will store files.</font>\n",
    "\n"
   ]
  },
  {
   "cell_type": "markdown",
   "id": "gttomKNBDghg",
   "metadata": {
    "id": "gttomKNBDghg"
   },
   "source": [
    "<font size=5> Step #1: Mount Google Drive and Grant Access <font> <br>\n",
    "\n",
    "\n"
   ]
  },
  {
   "cell_type": "markdown",
   "id": "w5wNWBmJDghi",
   "metadata": {
    "id": "w5wNWBmJDghi"
   },
   "source": [
    "<font size=3> When you run the next cell, a pop-up window will appear asking you to grant access to your Google Drive. You must approve or the notebook will not work. <font> <br>\n"
   ]
  },
  {
   "cell_type": "markdown",
   "id": "sUKWupvl2l-o",
   "metadata": {
    "id": "sUKWupvl2l-o"
   },
   "source": [
    "There is a folder of necessary ancillary files located here: \n",
    "https://drive.google.com/drive/folders/1Q0UglZJhOsK2_v7pOuX_FIN60d-gYnM7?usp=sharing\n",
    "\n",
    "These are all publicly available that you can download yourself.\n",
    "\n",
    "Click on this link and add a SHORTCUT TO DRIVE. This will link this folder to your personal Google Drive and make it accessible to this notebook.\n",
    "\n",
    "\n",
    "<img src='https://raw.githubusercontent.com/achri19/BAM/main/scripts/img/Picture3.png' width=300px>\n",
    "\n",
    "<img src='https://raw.githubusercontent.com/achri19/BAM/main/scripts/img/Picture4.png' width=300px>\n",
    "\n",
    "\n",
    "\n"
   ]
  },
  {
   "cell_type": "code",
   "execution_count": null,
   "id": "s_IgSq3RgKtN",
   "metadata": {
    "id": "s_IgSq3RgKtN"
   },
   "outputs": [],
   "source": [
    "import sys\n",
    "import os\n",
    "from pathlib import Path\n",
    "your_path = os.getcwd() + '/'\n",
    "\n",
    "where_to_mount = '/content/drive/'\n",
    "from google.colab import drive\n",
    "drive.mount(where_to_mount, force_remount=True)\n"
   ]
  },
  {
   "cell_type": "code",
   "execution_count": null,
   "id": "o2cCFePXqFEL",
   "metadata": {
    "id": "o2cCFePXqFEL"
   },
   "outputs": [],
   "source": [
    "mounted_drive = Path(where_to_mount + 'MyDrive/')\n",
    "Path(mounted_drive / 'installations').mkdir(parents=True, exist_ok=True)\n",
    "sys.path.insert(0, str(mounted_drive / 'installations'))\n",
    "\n",
    "print('Your working directory is %s' %(mounted_drive))\n",
    "os.path.isdir(mounted_drive / 'BAM')\n",
    "\n",
    "print(sys.path)"
   ]
  },
  {
   "cell_type": "markdown",
   "id": "cdcd9100",
   "metadata": {
    "id": "cdcd9100"
   },
   "source": [
    "<font size=5> Step #2a: Clone BAM Repository. <font> <br>\n",
    "<font size=3> This cell will clone or update the Git repostoriy from achri19/BAM. If you get errors with Git, it's possible you're corrupted your git folder. Please delete it and restart. <font>"
   ]
  },
  {
   "cell_type": "code",
   "execution_count": null,
   "id": "NH8uFmKNwPO1",
   "metadata": {
    "id": "NH8uFmKNwPO1"
   },
   "outputs": [],
   "source": [
    "import os\n",
    "os.chdir(mounted_drive)\n",
    "if os.path.isdir(mounted_drive / 'BAM'):\n",
    "  print('## Updating the local git repository \\n')\n",
    "  os.chdir(mounted_drive / 'BAM')\n",
    "  #!git reset --hard\n",
    "  !git stash\n",
    "  !git pull\n",
    "  # !rm -rf {mounted_drive/'BAM'}\n",
    "\n",
    "else:\n",
    "  print('## Pulling the git repository with files for the tutorial\\n')\n",
    "  !git clone https://github.com/achri19/BAM.git\n",
    "os.chdir(mounted_drive)"
   ]
  },
  {
   "cell_type": "markdown",
   "id": "zZM1Iuh0r4AZ",
   "metadata": {
    "id": "zZM1Iuh0r4AZ"
   },
   "source": [
    "<font size=5> Step #2b: Install Packages. <font> <br>\n",
    "<font size=3> Since you're using Google Colab, you will need to install Python packages required for the tutorial. Packages will be saved to a folder in your Google Drive (installations) and will require ~2GB of storage space. Don't change the folder or you may corrupt the packages. This will take some time. <font>"
   ]
  },
  {
   "cell_type": "code",
   "execution_count": null,
   "id": "RGAJnCEJLvSM",
   "metadata": {
    "id": "RGAJnCEJLvSM"
   },
   "outputs": [],
   "source": [
    "# print('\\n## Installing the Python packages needed for these tutorials\\n')\n",
    "# !/bin/bash $mounted_drive/BAM/notebooks/install_packages_colab_debug.sh\n",
    "\n"
   ]
  },
  {
   "cell_type": "markdown",
   "id": "tqD-wrOGvE2I",
   "metadata": {
    "id": "tqD-wrOGvE2I"
   },
   "source": [
    "<font size=5> Step #3: Set up working directories<font> \n"
   ]
  },
  {
   "cell_type": "markdown",
   "id": "QgL2wZHj16ze",
   "metadata": {
    "id": "QgL2wZHj16ze"
   },
   "source": [
    "<font size=3> We will access data files stored on a shared Google Drive. You will also need to save files to your own Google Drive.<font>\n",
    "\n"
   ]
  },
  {
   "cell_type": "code",
   "execution_count": null,
   "id": "a_OcHDH0vMiM",
   "metadata": {
    "id": "a_OcHDH0vMiM"
   },
   "outputs": [],
   "source": [
    "path_ancillary = mounted_drive / 'processing/ancillary'\n",
    "path_code = mounted_drive / 'BAM/scripts/'\n",
    "path_templates = mounted_drive /  'BAM/templates/'\n",
    "path_configs = mounted_drive / 'BAM/configs/'\n",
    "sys.path.insert(1,str(path_code))\n",
    "print(path_code)\n",
    "\n",
    "path_examples = mounted_drive / 'BAM/examples'\n",
    "Path(path_examples).mkdir(parents=True, exist_ok=True)"
   ]
  },
  {
   "cell_type": "markdown",
   "id": "3mnrUfhr3NWW",
   "metadata": {
    "id": "3mnrUfhr3NWW"
   },
   "source": [
    "<font size=5> Step #4: Now we will import Python packages, which will be used for future tutorials. If there are any errors, try rerunning the first cell <font> \n",
    "\n",
    "\n"
   ]
  },
  {
   "cell_type": "code",
   "execution_count": null,
   "id": "N5DjZnT_sG0g",
   "metadata": {
    "id": "N5DjZnT_sG0g"
   },
   "outputs": [],
   "source": [
    "# Standard packages\n",
    "import time\n",
    "import fnmatch\n",
    "import numpy as np\n",
    "import scipy\n",
    "import scipy.interpolate\n",
    "import pandas as pd\n",
    "from datetime import datetime\n",
    "from string import Template\n",
    "import geopandas as gpd\n",
    "from shapely.geometry import Polygon, Point\n",
    "import rasterio\n",
    "from pathlib import Path\n",
    "from shapely.geometry import LineString\n",
    "\n",
    "## ANUGA packages\n",
    "import anuga\n",
    "from anuga.utilities.plot_utils import Make_Geotif\n",
    "from anuga.coordinate_transforms.geo_reference import Geo_reference\n",
    "from anuga.utilities import animate\n",
    "from anuga import myid, numprocs, finalize, barrier\n",
    "from anuga.parallel.parallel_inlet_operator import Parallel_Inlet_operator\n",
    "\n",
    "## Plotting modules\n",
    "import matplotlib.pyplot as plt\n",
    "import matplotlib as mpl\n",
    "mpl.rcParams['agg.path.chunksize'] = 10000\n",
    "\n",
    "#mpl.rcParams['animation.ffmpeg_path'] = r'/Users/alchrist/Downloads/ffmpeg'\n",
    "## If you get an error with producing animation plots, uncomment the line above and add directory for ffmpeg (r'/PATH/TO/ffmpeg')\n",
    "import matplotlib.animation as animation\n",
    "writer = animation.FFMpegWriter(fps=60)\n",
    "\n",
    "## Google Earth Packages\n",
    "import ee\n",
    "from ee import batch\n",
    "import geemap\n"
   ]
  },
  {
   "cell_type": "code",
   "execution_count": null,
   "id": "de1d80a4",
   "metadata": {
    "id": "de1d80a4"
   },
   "outputs": [],
   "source": [
    "try:\n",
    "  import pyTMD\n",
    "except:\n",
    "  !pip install pytmd\n",
    "\n",
    "from main_tools import *"
   ]
  },
  {
   "cell_type": "markdown",
   "id": "EEZcV9vv377Z",
   "metadata": {
    "id": "EEZcV9vv377Z"
   },
   "source": [
    "<font size=5> Step #5: The last step is to check your Google Earth Engine account. <font> <br>\n",
    "\n",
    "\n",
    "<font size=3> You must sign up for a  Google Earth Engine account if you want to use the first notebook. We use GEE to produce water masks of the study area. However, the water masks will be provided, so the GEE notebook is optional. If you'd like to get a Google Earth Engine account (free), follow the instructions here:\n",
    "\n",
    "https://signup.earthengine.google.com/#!/ </font>\n",
    "<br>\n",
    "<font size=3> Then run the next cell and follow the instructions. You'll need to create a GEE project and allow access to Earth Engine Notebook Client. This will generate a verification code, that you need to copy and paste when askeded below. The verification code will be different each time you run this notebook </font>\n",
    "\n",
    "\n",
    "<img src='https://raw.githubusercontent.com/achri19/BAM/main/scripts/img/Picture5.png' width=500px>\n",
    "\n",
    "<img src='https://raw.githubusercontent.com/achri19/BAM/main/scripts/img/Picture6.png' width=500px>\n",
    "\n",
    "\n",
    "\n"
   ]
  },
  {
   "cell_type": "markdown",
   "id": "SGs7Ijg3tHyX",
   "metadata": {
    "id": "SGs7Ijg3tHyX"
   },
   "source": [
    "A pop-up window or new browser tab will open after you run the next cell. Make sure to allow access.\n",
    "\n",
    "![](https://raw.githubusercontent.com/achri19/komo_estuary_tutorial/main/Picture1.png)\n",
    "\n",
    "![](https://raw.githubusercontent.com/achri19/komo_estuary_tutorial/main/Picture2.png)"
   ]
  },
  {
   "cell_type": "code",
   "execution_count": null,
   "id": "sYsL6c2s5A5B",
   "metadata": {
    "id": "sYsL6c2s5A5B"
   },
   "outputs": [],
   "source": [
    "# Trigger the authentication flow.\n",
    "ee.Authenticate()\n",
    "\n",
    "# Initialize the library.\n",
    "ee.Initialize()"
   ]
  },
  {
   "cell_type": "code",
   "execution_count": null,
   "id": "64756a38",
   "metadata": {
    "id": "64756a38"
   },
   "outputs": [],
   "source": [
    "# Create a map for defining area of interest\n",
    "Map = geemap.Map()\n",
    "Map"
   ]
  },
  {
   "cell_type": "markdown",
   "id": "-DPhvHSj4172",
   "metadata": {
    "id": "-DPhvHSj4172"
   },
   "source": [
    "<font size=5> The next 6 notebooks will walk you through the process of building, running, and analyzing an ANUGA model for the Komo River Estuary </font>"
   ]
  },
  {
   "cell_type": "markdown",
   "id": "_FJyp3NI4ml9",
   "metadata": {
    "id": "_FJyp3NI4ml9"
   },
   "source": [
    "<font size=5 color='red'>You must do the following step to get access to \n",
    "\n",
    "To get access to the Komo Tutorial Files, you will need to unzip the komo.zip file from the Github page."
   ]
  },
  {
   "cell_type": "code",
   "execution_count": null,
   "id": "fjuT8SP89yzX",
   "metadata": {
    "id": "fjuT8SP89yzX"
   },
   "outputs": [],
   "source": [
    "os.chdir(mounted_drive / 'BAM')\n",
    "!unzip -o komo_starter.zip -d $mounted_drive/examples \n"
   ]
  },
  {
   "cell_type": "code",
   "execution_count": null,
   "id": "1yTmvXOAHCsi",
   "metadata": {
    "id": "1yTmvXOAHCsi"
   },
   "outputs": [],
   "source": []
  }
 ],
 "metadata": {
  "colab": {
   "include_colab_link": true,
   "provenance": []
  },
  "kernelspec": {
   "display_name": "Python 3 (ipykernel)",
   "language": "python",
   "name": "python3"
  },
  "language_info": {
   "codemirror_mode": {
    "name": "ipython",
    "version": 3
   },
   "file_extension": ".py",
   "mimetype": "text/x-python",
   "name": "python",
   "nbconvert_exporter": "python",
   "pygments_lexer": "ipython3",
   "version": "3.9.12"
  }
 },
 "nbformat": 4,
 "nbformat_minor": 5
}
