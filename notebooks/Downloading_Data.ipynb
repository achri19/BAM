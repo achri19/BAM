{
  "nbformat": 4,
  "nbformat_minor": 0,
  "metadata": {
    "colab": {
      "provenance": [],
      "authorship_tag": "ABX9TyNSxGN/0ItfAH1K5Wt9HCj9",
      "include_colab_link": true
    },
    "kernelspec": {
      "name": "python3",
      "display_name": "Python 3"
    },
    "language_info": {
      "name": "python"
    }
  },
  "cells": [
    {
      "cell_type": "markdown",
      "metadata": {
        "id": "view-in-github",
        "colab_type": "text"
      },
      "source": [
        "<a href=\"https://colab.research.google.com/github/achri19/BAM/blob/main/Downloading_Data.ipynb\" target=\"_parent\"><img src=\"https://colab.research.google.com/assets/colab-badge.svg\" alt=\"Open In Colab\"/></a>"
      ]
    },
    {
      "cell_type": "code",
      "execution_count": null,
      "metadata": {
        "id": "Vfc8QteokoHv"
      },
      "outputs": [],
      "source": []
    },
    {
      "cell_type": "markdown",
      "metadata": {
        "id": "466e2a39"
      },
      "source": [
        "<font size=\"8\">Preparations: Downloading Ancillary Data</font>\n",
        "\n",
        "<font size=\"3\">In this notebook, we will:\n",
        "\n",
        "- Download GEBCO, Global Mangrove Watch, and Geoid datasets that are needed for the tutorials. They will take up 8-15GB of space, so make sure you have room.\n",
        "\n"
      ]
    },
    {
      "cell_type": "markdown",
      "metadata": {
        "id": "jNhRqEni40KR"
      },
      "source": [
        "<font size=5 color='green'> If you are running in Google Colab, set the variable yes_colab = True.</font> <br>\n",
        "<font size=5 color='blue'> If you are running on your own computer, set the variable yes_colab = False </font>\n"
      ]
    },
    {
      "cell_type": "code",
      "execution_count": 1,
      "metadata": {
        "id": "gkLaKjYy4_Lv"
      },
      "outputs": [],
      "source": [
        "yes_colab = True\n"
      ]
    },
    {
      "cell_type": "markdown",
      "metadata": {
        "id": "rhp4yA4h2Njc"
      },
      "source": [
        "<font size=6> Step #1: Set working directory <br> </font>\n",
        "\n"
      ]
    },
    {
      "cell_type": "markdown",
      "metadata": {
        "id": "JkG2pXof2YoC"
      },
      "source": [
        "<font size=5 color='green'> If you are running in Google Colab, when you run the next cell, a pop-up window will appear asking you to grant access to your Google Drive. You must approve or the notebook will not work. <font> <br>\n",
        "\n"
      ]
    },
    {
      "cell_type": "code",
      "execution_count": 2,
      "metadata": {
        "colab": {
          "base_uri": "https://localhost:8080/"
        },
        "id": "s_IgSq3RgKtN",
        "outputId": "37acd745-c7b5-48b2-b9a7-d17f42d0d398"
      },
      "outputs": [
        {
          "output_type": "stream",
          "name": "stdout",
          "text": [
            "Mounted at /content/drive/\n",
            "Your working directory is /content/drive/MyDrive\n"
          ]
        }
      ],
      "source": [
        "import os\n",
        "import sys\n",
        "from pathlib import Path\n",
        "\n",
        "your_path = Path(os.getcwd() + '/')\n",
        "if yes_colab:\n",
        "  where_to_mount = '/content/drive/'\n",
        "  from google.colab import drive\n",
        "  drive.mount(where_to_mount, force_remount=True)\n",
        "  mounted_drive = Path(where_to_mount) / 'MyDrive' \n",
        "  sys.path.append(str(mounted_drive / 'installations'))\n",
        "  path_ancillary = mounted_drive / 'ancillary'\n",
        "  Path(mounted_drive / 'installations').mkdir(parents=True, exist_ok=True)\n",
        "\n",
        "else:\n",
        "  mounted_drive = Path(os.path.abspath(os.path.join(your_path, os.pardir)))\n",
        "  path_ancillary = mounted_drive / 'BAM/ancillary'\n",
        "\n",
        "print('Your working directory is %s' %(mounted_drive))\n",
        "\n"
      ]
    },
    {
      "cell_type": "markdown",
      "metadata": {
        "id": "AXdcQrkUgUlM"
      },
      "source": [
        "<font size=6> Step #2: Install and import packages. <font> <br>"
      ]
    },
    {
      "cell_type": "markdown",
      "metadata": {
        "id": "eec5c036"
      },
      "source": [
        "<font size=5 color='green'> If you are running in Google Colab, this cell should install all Python packages you need for each tutorial. </font> <br>\n",
        "<font size=5 color='blue'> If you are running on your own computer, the packages were already installed when you installed the conda environment </font>\n"
      ]
    },
    {
      "cell_type": "code",
      "execution_count": 3,
      "metadata": {
        "id": "1poqNGJSgKtK",
        "outputId": "56837416-361e-42dd-de48-9902bbc35181",
        "colab": {
          "base_uri": "https://localhost:8080/"
        }
      },
      "outputs": [
        {
          "output_type": "stream",
          "name": "stdout",
          "text": [
            "## Updating the local git repository \n",
            "\n",
            "Saved working directory and index state WIP on main: 42f28f2 updated\n",
            "remote: Enumerating objects: 7, done.\u001b[K\n",
            "remote: Counting objects: 100% (7/7), done.\u001b[K\n",
            "remote: Compressing objects: 100% (7/7), done.\u001b[K\n",
            "remote: Total 7 (delta 1), reused 0 (delta 0), pack-reused 0\u001b[K\n",
            "Unpacking objects: 100% (7/7), 78.04 KiB | 54.00 KiB/s, done.\n",
            "From https://github.com/achri19/BAM\n",
            "   42f28f2..7ac1877  main       -> origin/main\n",
            "Updating 42f28f2..7ac1877\n",
            "Fast-forward\n",
            " Download_Ancillary.ipynb          |  39 \u001b[32m+++++\u001b[m\n",
            " notebooks/Build_Model_Files.ipynb | 340 \u001b[32m+++++++++++++++++++++++\u001b[m\u001b[31m---------------\u001b[m\n",
            " 2 files changed, 242 insertions(+), 137 deletions(-)\n",
            " create mode 100644 Download_Ancillary.ipynb\n"
          ]
        }
      ],
      "source": [
        "import os\n",
        "os.chdir(mounted_drive)\n",
        "if yes_colab:\n",
        "  if os.path.isdir(mounted_drive / 'BAM'):\n",
        "    print('## Updating the local git repository \\n')\n",
        "    os.chdir(mounted_drive / 'BAM')\n",
        "    #!git fsck --full\n",
        "    # !git add -A \n",
        "    !git stash   \n",
        "    !git pull\n",
        "    # !rm -rf {mounted_drive/'BAM'}\n",
        "\n",
        "  else:\n",
        "    print('## Pulling the git repository with files for the tutorial\\n')\n",
        "    !git clone https://github.com/achri19/BAM.git\n"
      ]
    },
    {
      "cell_type": "code",
      "source": [
        "if yes_colab:\n",
        "  print('\\n## Installing the Python packages needed for these tutorials\\n')\n",
        "  try:\n",
        "    import geopandas as gpd\n",
        "  except:\n",
        "    !/bin/bash $mounted_drive/BAM/notebooks/install_packages_colab_debug.sh\n"
      ],
      "metadata": {
        "id": "m3yYQkp4P_8I",
        "outputId": "b6df527d-beb1-4edb-d309-003e07d0321a",
        "colab": {
          "base_uri": "https://localhost:8080/"
        }
      },
      "execution_count": 4,
      "outputs": [
        {
          "output_type": "stream",
          "name": "stdout",
          "text": [
            "\n",
            "## Installing the Python packages needed for these tutorials\n",
            "\n"
          ]
        }
      ]
    },
    {
      "cell_type": "code",
      "source": [
        "path_ancillary = mounted_drive / 'BAM/ancillary'\n",
        "path_code = mounted_drive / 'BAM/scripts/'\n",
        "path_templates = mounted_drive /  'BAM/templates/'\n",
        "path_configs = mounted_drive / 'BAM/configs/'\n",
        "sys.path.insert(1,str(path_code))\n",
        "print(path_code)\n",
        "print(path_ancillary)\n",
        "\n",
        "path_examples = mounted_drive / 'BAM/examples'\n",
        "Path(path_examples).mkdir(parents=True, exist_ok=True)"
      ],
      "metadata": {
        "id": "AWTZh_b8mHoE",
        "outputId": "99262a4a-0780-4493-a768-60240823bfc3",
        "colab": {
          "base_uri": "https://localhost:8080/"
        }
      },
      "execution_count": 5,
      "outputs": [
        {
          "output_type": "stream",
          "name": "stdout",
          "text": [
            "/content/drive/MyDrive/BAM/scripts\n",
            "/content/drive/MyDrive/BAM/ancillary\n"
          ]
        }
      ]
    },
    {
      "cell_type": "code",
      "execution_count": null,
      "metadata": {
        "id": "4a749118"
      },
      "outputs": [],
      "source": [
        "import sys\n",
        "import os\n",
        "import pandas as pd\n",
        "import shutil\n",
        "from datetime import datetime\n",
        "from string import Template\n",
        "import fnmatch\n",
        "import geopandas as gpd\n",
        "import rasterio\n",
        "from osgeo import gdal \n",
        "from pathlib import Path\n",
        "import matplotlib.pyplot as plt\n",
        "import numpy as np\n",
        "import rtree\n",
        "from scipy import *\n"
      ]
    },
    {
      "cell_type": "code",
      "execution_count": null,
      "metadata": {
        "id": "CPPe7c_zQ1aE"
      },
      "outputs": [],
      "source": [
        "try:\n",
        "  import pyTMD\n",
        "except:\n",
        "  !pip install pytmd\n",
        "\n",
        "from main_tools import (build_directory,\n",
        "                       get_extent_parameters,\n",
        "                       setup_AOI_files, \n",
        "                       make_polygons,\n",
        "                       make_channel_networks,\n",
        "                       make_model_foundation, \n",
        "                       set_boundary_conditions, \n",
        "                       make_watermask,\n",
        "                       more_opening)\n"
      ]
    },
    {
      "cell_type": "markdown",
      "source": [
        "<font size=6> Step #3: Download to your ancillary folder <br> </font>\n",
        "\n"
      ],
      "metadata": {
        "id": "OzirjcG0iVR4"
      }
    },
    {
      "cell_type": "code",
      "source": [
        "import urllib.request\n",
        "if os.path.isfile(path_ancillary / 'geoids' / 'egm08_25.gtx')==False:\n",
        "\n",
        "  url = 'https://download.osgeo.org/proj/vdatum/egm08_25/egm08_25.gtx'\n",
        "  filename = path_ancillary / 'geoids' / 'egm08_25.gtx'\n",
        "  urllib.request.urlretrieve(url, filename)\n",
        "\n",
        "\n",
        "if os.path.isfile(path_ancillary / 'gebco' / 'gebco_all.vrt')==False:\n",
        "  url = 'https://www.bodc.ac.uk/data/open_download/gebco/gebco_2022_sub_ice_topo/geotiff/'\n",
        "  filename = path_ancillary / 'gebco' / 'gebco.zip'\n",
        "  urllib.request.urlretrieve(url, filename)\n",
        "\n",
        "  with zipfile.ZipFile(path_ancillary / 'gebco' / 'gebco.zip', 'r') as zip_ref:\n",
        "      zip_ref.extractall(path_ancillary / 'gebco' )\n",
        "\n",
        "  gebco_files = [os.path.join(dirpath,f)\n",
        "                for dirpath,dirnames, files in os.walk(path_ancillary / 'gebco')\n",
        "                for f in fnmatch.filter(files,'*gebco_2022*.tif')]\n",
        "  print(gebco_files)\n",
        "\n",
        "  with open(path_ancillary / 'gebco' / 'gebco_files.txt', 'w') as f:\n",
        "    for item in gebco_files:\n",
        "      f.write(\"%s\\n\" % item)\n",
        "  ! gdalbuildvrt -input_file_list {path_ancillary}/gebco/gebco_files.txt {path_ancillary}/gebco/gebco_all.vrt\n",
        "  !rm {path_ancillary}/'gebco'/'gebco.zip'\n",
        "\n",
        "if os.path.isfile(path_ancillary / 'gmw' / 'gmw_v3_2016_vec.shp')==False:\n",
        "  url = 'https://zenodo.org/record/6894273/files/gmw_v3_2016_vec.zip?download=1'\n",
        "  filename = path_ancillary / 'gmw' / 'gmw_v3_2016_vec.zip'\n",
        "  urllib.request.urlretrieve(url, filename)\n",
        "\n",
        "  with zipfile.ZipFile(path_ancillary / 'gmw' / 'gmw_v3_2016_vec.zip', 'r') as zip_ref:\n",
        "      zip_ref.extractall(path_ancillary / 'gmw')\n",
        "\n",
        "!rm {path_ancillary}/'gmw'/'gmw_v3_2016_vec.zip'\n"
      ],
      "metadata": {
        "id": "QlFK00ZePOXm"
      },
      "execution_count": null,
      "outputs": []
    },
    {
      "cell_type": "code",
      "execution_count": null,
      "metadata": {
        "id": "77e36fda",
        "outputId": "c6ca60e5-0dca-4628-cca5-b794e70cd08a",
        "colab": {
          "base_uri": "https://localhost:8080/"
        }
      },
      "outputs": [
        {
          "output_type": "stream",
          "name": "stdout",
          "text": [
            "\n",
            "\n",
            "\n",
            "##############################################################################################\n",
            "##############################[Step 1b][GetExtentParameters]##################################\n",
            "##############################################################################################\n",
            "\n",
            "##################### AOI extent is set by: komo_input.shp\n",
            "The input shapefile is not in the correction projection (EPSG 4326), reprojecting to EPSG 4326\n",
            "\n",
            "[Step 2][Setup_AOI_Files][Determine EPSG code and UTM zone] .......\n",
            "\n",
            "##################### ANUGA Models must be in UTM\n",
            "##################### UTM Zone: 32n\n",
            "##################### EPSG: 32232 \n",
            "\n",
            "[Step 2][Setup_AOI_Files][Extending AOI by 1000m] .......\n",
            "\n",
            "\n",
            "[Step 2][Setup_AOI_Files][Setting up AOI extent] .......\n",
            "\n",
            "##################### AOI bounds are : 501790, -2260, 610150, 64700\n",
            "##################### Approximate area of AOI extent is 7256.0 km^2\n",
            "\n",
            "[Step 2][Setup_AOI_Files][Downloading GEBCO Dataset as reference for projection, resolution, etc] .......\n",
            "\n",
            "\n",
            "[Step 2][Setup_AOI_Files][Saving configuration file] .......\n",
            "\n",
            "##################### Saved as /Setup_Fileskomo_Configuration.csv\n"
          ]
        }
      ],
      "source": [
        "\n",
        "ref_10m = rasterio.open('%s_GEBCO_%s.tif' %(folders[8] / AOI,res))\n",
        "\n",
        "ref_10m,parameters = get_extent_parameters(path_ancillary,AOI,folders,res,parameters)\n"
      ]
    }
  ]
}